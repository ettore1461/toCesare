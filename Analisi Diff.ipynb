{
 "cells": [
  {
   "cell_type": "code",
   "execution_count": 6,
   "metadata": {},
   "outputs": [],
   "source": [
    "import pandas as pd\n",
    "import numpy as np\n",
    "\n",
    "import seaborn as sns\n",
    "import matplotlib.pyplot as plt\n",
    "%matplotlib inline"
   ]
  },
  {
   "cell_type": "markdown",
   "metadata": {},
   "source": [
    "# Analisi Temporale della difficoltà"
   ]
  },
  {
   "cell_type": "code",
   "execution_count": 7,
   "metadata": {},
   "outputs": [],
   "source": [
    "from datetime import datetime"
   ]
  },
  {
   "cell_type": "code",
   "execution_count": 8,
   "metadata": {},
   "outputs": [],
   "source": [
    "path_file=\"/home/ettore1461/Scrivania/Dati Cesare/difficulty.csv\"\n",
    "Dati=pd.read_csv(path_file,names=[\"Data\",\"Value\"])"
   ]
  },
  {
   "cell_type": "code",
   "execution_count": 9,
   "metadata": {},
   "outputs": [],
   "source": [
    "str2date=lambda x: datetime.strptime(x,\"%Y-%m-%d %H:%M:%S\")\n",
    "Dati.Data=Dati.Data.apply(str2date)"
   ]
  },
  {
   "cell_type": "code",
   "execution_count": 10,
   "metadata": {},
   "outputs": [
    {
     "data": {
      "text/html": [
       "<div>\n",
       "<style scoped>\n",
       "    .dataframe tbody tr th:only-of-type {\n",
       "        vertical-align: middle;\n",
       "    }\n",
       "\n",
       "    .dataframe tbody tr th {\n",
       "        vertical-align: top;\n",
       "    }\n",
       "\n",
       "    .dataframe thead th {\n",
       "        text-align: right;\n",
       "    }\n",
       "</style>\n",
       "<table border=\"1\" class=\"dataframe\">\n",
       "  <thead>\n",
       "    <tr style=\"text-align: right;\">\n",
       "      <th></th>\n",
       "      <th>Data</th>\n",
       "      <th>Value</th>\n",
       "    </tr>\n",
       "  </thead>\n",
       "  <tbody>\n",
       "    <tr>\n",
       "      <th>0</th>\n",
       "      <td>2017-04-17</td>\n",
       "      <td>5.208087e+11</td>\n",
       "    </tr>\n",
       "    <tr>\n",
       "      <th>1</th>\n",
       "      <td>2017-04-18</td>\n",
       "      <td>5.208087e+11</td>\n",
       "    </tr>\n",
       "    <tr>\n",
       "      <th>2</th>\n",
       "      <td>2017-04-19</td>\n",
       "      <td>5.208087e+11</td>\n",
       "    </tr>\n",
       "    <tr>\n",
       "      <th>3</th>\n",
       "      <td>2017-04-20</td>\n",
       "      <td>5.208087e+11</td>\n",
       "    </tr>\n",
       "    <tr>\n",
       "      <th>4</th>\n",
       "      <td>2017-04-21</td>\n",
       "      <td>5.208087e+11</td>\n",
       "    </tr>\n",
       "  </tbody>\n",
       "</table>\n",
       "</div>"
      ],
      "text/plain": [
       "        Data         Value\n",
       "0 2017-04-17  5.208087e+11\n",
       "1 2017-04-18  5.208087e+11\n",
       "2 2017-04-19  5.208087e+11\n",
       "3 2017-04-20  5.208087e+11\n",
       "4 2017-04-21  5.208087e+11"
      ]
     },
     "execution_count": 10,
     "metadata": {},
     "output_type": "execute_result"
    }
   ],
   "source": [
    "Dati.head()"
   ]
  },
  {
   "cell_type": "code",
   "execution_count": 11,
   "metadata": {},
   "outputs": [
    {
     "data": {
      "text/html": [
       "\n",
       "    <div class=\"bk-root\">\n",
       "        <a href=\"https://bokeh.pydata.org\" target=\"_blank\" class=\"bk-logo bk-logo-small bk-logo-notebook\"></a>\n",
       "        <span id=\"cb87ae9d-0374-4f16-bd07-4f449fcfec7d\">Loading BokehJS ...</span>\n",
       "    </div>"
      ]
     },
     "metadata": {},
     "output_type": "display_data"
    },
    {
     "data": {
      "application/javascript": [
       "\n",
       "(function(root) {\n",
       "  function now() {\n",
       "    return new Date();\n",
       "  }\n",
       "\n",
       "  var force = true;\n",
       "\n",
       "  if (typeof (root._bokeh_onload_callbacks) === \"undefined\" || force === true) {\n",
       "    root._bokeh_onload_callbacks = [];\n",
       "    root._bokeh_is_loading = undefined;\n",
       "  }\n",
       "\n",
       "  var JS_MIME_TYPE = 'application/javascript';\n",
       "  var HTML_MIME_TYPE = 'text/html';\n",
       "  var EXEC_MIME_TYPE = 'application/vnd.bokehjs_exec.v0+json';\n",
       "  var CLASS_NAME = 'output_bokeh rendered_html';\n",
       "\n",
       "  /**\n",
       "   * Render data to the DOM node\n",
       "   */\n",
       "  function render(props, node) {\n",
       "    var script = document.createElement(\"script\");\n",
       "    node.appendChild(script);\n",
       "  }\n",
       "\n",
       "  /**\n",
       "   * Handle when an output is cleared or removed\n",
       "   */\n",
       "  function handleClearOutput(event, handle) {\n",
       "    var cell = handle.cell;\n",
       "\n",
       "    var id = cell.output_area._bokeh_element_id;\n",
       "    var server_id = cell.output_area._bokeh_server_id;\n",
       "    // Clean up Bokeh references\n",
       "    if (id !== undefined) {\n",
       "      Bokeh.index[id].model.document.clear();\n",
       "      delete Bokeh.index[id];\n",
       "    }\n",
       "\n",
       "    if (server_id !== undefined) {\n",
       "      // Clean up Bokeh references\n",
       "      var cmd = \"from bokeh.io.state import curstate; print(curstate().uuid_to_server['\" + server_id + \"'].get_sessions()[0].document.roots[0]._id)\";\n",
       "      cell.notebook.kernel.execute(cmd, {\n",
       "        iopub: {\n",
       "          output: function(msg) {\n",
       "            var element_id = msg.content.text.trim();\n",
       "            Bokeh.index[element_id].model.document.clear();\n",
       "            delete Bokeh.index[element_id];\n",
       "          }\n",
       "        }\n",
       "      });\n",
       "      // Destroy server and session\n",
       "      var cmd = \"import bokeh.io.notebook as ion; ion.destroy_server('\" + server_id + \"')\";\n",
       "      cell.notebook.kernel.execute(cmd);\n",
       "    }\n",
       "  }\n",
       "\n",
       "  /**\n",
       "   * Handle when a new output is added\n",
       "   */\n",
       "  function handleAddOutput(event, handle) {\n",
       "    var output_area = handle.output_area;\n",
       "    var output = handle.output;\n",
       "\n",
       "    // limit handleAddOutput to display_data with EXEC_MIME_TYPE content only\n",
       "    if ((output.output_type != \"display_data\") || (!output.data.hasOwnProperty(EXEC_MIME_TYPE))) {\n",
       "      return\n",
       "    }\n",
       "\n",
       "    var toinsert = output_area.element.find(\".\" + CLASS_NAME.split(' ')[0]);\n",
       "\n",
       "    if (output.metadata[EXEC_MIME_TYPE][\"id\"] !== undefined) {\n",
       "      toinsert[0].firstChild.textContent = output.data[JS_MIME_TYPE];\n",
       "      // store reference to embed id on output_area\n",
       "      output_area._bokeh_element_id = output.metadata[EXEC_MIME_TYPE][\"id\"];\n",
       "    }\n",
       "    if (output.metadata[EXEC_MIME_TYPE][\"server_id\"] !== undefined) {\n",
       "      var bk_div = document.createElement(\"div\");\n",
       "      bk_div.innerHTML = output.data[HTML_MIME_TYPE];\n",
       "      var script_attrs = bk_div.children[0].attributes;\n",
       "      for (var i = 0; i < script_attrs.length; i++) {\n",
       "        toinsert[0].firstChild.setAttribute(script_attrs[i].name, script_attrs[i].value);\n",
       "      }\n",
       "      // store reference to server id on output_area\n",
       "      output_area._bokeh_server_id = output.metadata[EXEC_MIME_TYPE][\"server_id\"];\n",
       "    }\n",
       "  }\n",
       "\n",
       "  function register_renderer(events, OutputArea) {\n",
       "\n",
       "    function append_mime(data, metadata, element) {\n",
       "      // create a DOM node to render to\n",
       "      var toinsert = this.create_output_subarea(\n",
       "        metadata,\n",
       "        CLASS_NAME,\n",
       "        EXEC_MIME_TYPE\n",
       "      );\n",
       "      this.keyboard_manager.register_events(toinsert);\n",
       "      // Render to node\n",
       "      var props = {data: data, metadata: metadata[EXEC_MIME_TYPE]};\n",
       "      render(props, toinsert[0]);\n",
       "      element.append(toinsert);\n",
       "      return toinsert\n",
       "    }\n",
       "\n",
       "    /* Handle when an output is cleared or removed */\n",
       "    events.on('clear_output.CodeCell', handleClearOutput);\n",
       "    events.on('delete.Cell', handleClearOutput);\n",
       "\n",
       "    /* Handle when a new output is added */\n",
       "    events.on('output_added.OutputArea', handleAddOutput);\n",
       "\n",
       "    /**\n",
       "     * Register the mime type and append_mime function with output_area\n",
       "     */\n",
       "    OutputArea.prototype.register_mime_type(EXEC_MIME_TYPE, append_mime, {\n",
       "      /* Is output safe? */\n",
       "      safe: true,\n",
       "      /* Index of renderer in `output_area.display_order` */\n",
       "      index: 0\n",
       "    });\n",
       "  }\n",
       "\n",
       "  // register the mime type if in Jupyter Notebook environment and previously unregistered\n",
       "  if (root.Jupyter !== undefined) {\n",
       "    var events = require('base/js/events');\n",
       "    var OutputArea = require('notebook/js/outputarea').OutputArea;\n",
       "\n",
       "    if (OutputArea.prototype.mime_types().indexOf(EXEC_MIME_TYPE) == -1) {\n",
       "      register_renderer(events, OutputArea);\n",
       "    }\n",
       "  }\n",
       "\n",
       "  \n",
       "  if (typeof (root._bokeh_timeout) === \"undefined\" || force === true) {\n",
       "    root._bokeh_timeout = Date.now() + 5000;\n",
       "    root._bokeh_failed_load = false;\n",
       "  }\n",
       "\n",
       "  var NB_LOAD_WARNING = {'data': {'text/html':\n",
       "     \"<div style='background-color: #fdd'>\\n\"+\n",
       "     \"<p>\\n\"+\n",
       "     \"BokehJS does not appear to have successfully loaded. If loading BokehJS from CDN, this \\n\"+\n",
       "     \"may be due to a slow or bad network connection. Possible fixes:\\n\"+\n",
       "     \"</p>\\n\"+\n",
       "     \"<ul>\\n\"+\n",
       "     \"<li>re-rerun `output_notebook()` to attempt to load from CDN again, or</li>\\n\"+\n",
       "     \"<li>use INLINE resources instead, as so:</li>\\n\"+\n",
       "     \"</ul>\\n\"+\n",
       "     \"<code>\\n\"+\n",
       "     \"from bokeh.resources import INLINE\\n\"+\n",
       "     \"output_notebook(resources=INLINE)\\n\"+\n",
       "     \"</code>\\n\"+\n",
       "     \"</div>\"}};\n",
       "\n",
       "  function display_loaded() {\n",
       "    var el = document.getElementById(\"cb87ae9d-0374-4f16-bd07-4f449fcfec7d\");\n",
       "    if (el != null) {\n",
       "      el.textContent = \"BokehJS is loading...\";\n",
       "    }\n",
       "    if (root.Bokeh !== undefined) {\n",
       "      if (el != null) {\n",
       "        el.textContent = \"BokehJS \" + root.Bokeh.version + \" successfully loaded.\";\n",
       "      }\n",
       "    } else if (Date.now() < root._bokeh_timeout) {\n",
       "      setTimeout(display_loaded, 100)\n",
       "    }\n",
       "  }\n",
       "\n",
       "\n",
       "  function run_callbacks() {\n",
       "    try {\n",
       "      root._bokeh_onload_callbacks.forEach(function(callback) { callback() });\n",
       "    }\n",
       "    finally {\n",
       "      delete root._bokeh_onload_callbacks\n",
       "    }\n",
       "    console.info(\"Bokeh: all callbacks have finished\");\n",
       "  }\n",
       "\n",
       "  function load_libs(js_urls, callback) {\n",
       "    root._bokeh_onload_callbacks.push(callback);\n",
       "    if (root._bokeh_is_loading > 0) {\n",
       "      console.log(\"Bokeh: BokehJS is being loaded, scheduling callback at\", now());\n",
       "      return null;\n",
       "    }\n",
       "    if (js_urls == null || js_urls.length === 0) {\n",
       "      run_callbacks();\n",
       "      return null;\n",
       "    }\n",
       "    console.log(\"Bokeh: BokehJS not loaded, scheduling load and callback at\", now());\n",
       "    root._bokeh_is_loading = js_urls.length;\n",
       "    for (var i = 0; i < js_urls.length; i++) {\n",
       "      var url = js_urls[i];\n",
       "      var s = document.createElement('script');\n",
       "      s.src = url;\n",
       "      s.async = false;\n",
       "      s.onreadystatechange = s.onload = function() {\n",
       "        root._bokeh_is_loading--;\n",
       "        if (root._bokeh_is_loading === 0) {\n",
       "          console.log(\"Bokeh: all BokehJS libraries loaded\");\n",
       "          run_callbacks()\n",
       "        }\n",
       "      };\n",
       "      s.onerror = function() {\n",
       "        console.warn(\"failed to load library \" + url);\n",
       "      };\n",
       "      console.log(\"Bokeh: injecting script tag for BokehJS library: \", url);\n",
       "      document.getElementsByTagName(\"head\")[0].appendChild(s);\n",
       "    }\n",
       "  };var element = document.getElementById(\"cb87ae9d-0374-4f16-bd07-4f449fcfec7d\");\n",
       "  if (element == null) {\n",
       "    console.log(\"Bokeh: ERROR: autoload.js configured with elementid 'cb87ae9d-0374-4f16-bd07-4f449fcfec7d' but no matching script tag was found. \")\n",
       "    return false;\n",
       "  }\n",
       "\n",
       "  var js_urls = [\"https://cdn.pydata.org/bokeh/dev/bokeh-0.12.15dev5.min.js\", \"https://cdn.pydata.org/bokeh/dev/bokeh-widgets-0.12.15dev5.min.js\", \"https://cdn.pydata.org/bokeh/dev/bokeh-tables-0.12.15dev5.min.js\", \"https://cdn.pydata.org/bokeh/dev/bokeh-gl-0.12.15dev5.min.js\"];\n",
       "\n",
       "  var inline_js = [\n",
       "    function(Bokeh) {\n",
       "      Bokeh.set_log_level(\"info\");\n",
       "    },\n",
       "    \n",
       "    function(Bokeh) {\n",
       "      \n",
       "    },\n",
       "    function(Bokeh) {\n",
       "      console.log(\"Bokeh: injecting CSS: https://cdn.pydata.org/bokeh/dev/bokeh-0.12.15dev5.min.css\");\n",
       "      Bokeh.embed.inject_css(\"https://cdn.pydata.org/bokeh/dev/bokeh-0.12.15dev5.min.css\");\n",
       "      console.log(\"Bokeh: injecting CSS: https://cdn.pydata.org/bokeh/dev/bokeh-widgets-0.12.15dev5.min.css\");\n",
       "      Bokeh.embed.inject_css(\"https://cdn.pydata.org/bokeh/dev/bokeh-widgets-0.12.15dev5.min.css\");\n",
       "      console.log(\"Bokeh: injecting CSS: https://cdn.pydata.org/bokeh/dev/bokeh-tables-0.12.15dev5.min.css\");\n",
       "      Bokeh.embed.inject_css(\"https://cdn.pydata.org/bokeh/dev/bokeh-tables-0.12.15dev5.min.css\");\n",
       "    }\n",
       "  ];\n",
       "\n",
       "  function run_inline_js() {\n",
       "    \n",
       "    if ((root.Bokeh !== undefined) || (force === true)) {\n",
       "      for (var i = 0; i < inline_js.length; i++) {\n",
       "        inline_js[i].call(root, root.Bokeh);\n",
       "      }if (force === true) {\n",
       "        display_loaded();\n",
       "      }} else if (Date.now() < root._bokeh_timeout) {\n",
       "      setTimeout(run_inline_js, 100);\n",
       "    } else if (!root._bokeh_failed_load) {\n",
       "      console.log(\"Bokeh: BokehJS failed to load within specified timeout.\");\n",
       "      root._bokeh_failed_load = true;\n",
       "    } else if (force !== true) {\n",
       "      var cell = $(document.getElementById(\"cb87ae9d-0374-4f16-bd07-4f449fcfec7d\")).parents('.cell').data().cell;\n",
       "      cell.output_area.append_execute_result(NB_LOAD_WARNING)\n",
       "    }\n",
       "\n",
       "  }\n",
       "\n",
       "  if (root._bokeh_is_loading === 0) {\n",
       "    console.log(\"Bokeh: BokehJS loaded, going straight to plotting\");\n",
       "    run_inline_js();\n",
       "  } else {\n",
       "    load_libs(js_urls, function() {\n",
       "      console.log(\"Bokeh: BokehJS plotting callback run at\", now());\n",
       "      run_inline_js();\n",
       "    });\n",
       "  }\n",
       "}(window));"
      ],
      "application/vnd.bokehjs_load.v0+json": "\n(function(root) {\n  function now() {\n    return new Date();\n  }\n\n  var force = true;\n\n  if (typeof (root._bokeh_onload_callbacks) === \"undefined\" || force === true) {\n    root._bokeh_onload_callbacks = [];\n    root._bokeh_is_loading = undefined;\n  }\n\n  \n\n  \n  if (typeof (root._bokeh_timeout) === \"undefined\" || force === true) {\n    root._bokeh_timeout = Date.now() + 5000;\n    root._bokeh_failed_load = false;\n  }\n\n  var NB_LOAD_WARNING = {'data': {'text/html':\n     \"<div style='background-color: #fdd'>\\n\"+\n     \"<p>\\n\"+\n     \"BokehJS does not appear to have successfully loaded. If loading BokehJS from CDN, this \\n\"+\n     \"may be due to a slow or bad network connection. Possible fixes:\\n\"+\n     \"</p>\\n\"+\n     \"<ul>\\n\"+\n     \"<li>re-rerun `output_notebook()` to attempt to load from CDN again, or</li>\\n\"+\n     \"<li>use INLINE resources instead, as so:</li>\\n\"+\n     \"</ul>\\n\"+\n     \"<code>\\n\"+\n     \"from bokeh.resources import INLINE\\n\"+\n     \"output_notebook(resources=INLINE)\\n\"+\n     \"</code>\\n\"+\n     \"</div>\"}};\n\n  function display_loaded() {\n    var el = document.getElementById(\"cb87ae9d-0374-4f16-bd07-4f449fcfec7d\");\n    if (el != null) {\n      el.textContent = \"BokehJS is loading...\";\n    }\n    if (root.Bokeh !== undefined) {\n      if (el != null) {\n        el.textContent = \"BokehJS \" + root.Bokeh.version + \" successfully loaded.\";\n      }\n    } else if (Date.now() < root._bokeh_timeout) {\n      setTimeout(display_loaded, 100)\n    }\n  }\n\n\n  function run_callbacks() {\n    try {\n      root._bokeh_onload_callbacks.forEach(function(callback) { callback() });\n    }\n    finally {\n      delete root._bokeh_onload_callbacks\n    }\n    console.info(\"Bokeh: all callbacks have finished\");\n  }\n\n  function load_libs(js_urls, callback) {\n    root._bokeh_onload_callbacks.push(callback);\n    if (root._bokeh_is_loading > 0) {\n      console.log(\"Bokeh: BokehJS is being loaded, scheduling callback at\", now());\n      return null;\n    }\n    if (js_urls == null || js_urls.length === 0) {\n      run_callbacks();\n      return null;\n    }\n    console.log(\"Bokeh: BokehJS not loaded, scheduling load and callback at\", now());\n    root._bokeh_is_loading = js_urls.length;\n    for (var i = 0; i < js_urls.length; i++) {\n      var url = js_urls[i];\n      var s = document.createElement('script');\n      s.src = url;\n      s.async = false;\n      s.onreadystatechange = s.onload = function() {\n        root._bokeh_is_loading--;\n        if (root._bokeh_is_loading === 0) {\n          console.log(\"Bokeh: all BokehJS libraries loaded\");\n          run_callbacks()\n        }\n      };\n      s.onerror = function() {\n        console.warn(\"failed to load library \" + url);\n      };\n      console.log(\"Bokeh: injecting script tag for BokehJS library: \", url);\n      document.getElementsByTagName(\"head\")[0].appendChild(s);\n    }\n  };var element = document.getElementById(\"cb87ae9d-0374-4f16-bd07-4f449fcfec7d\");\n  if (element == null) {\n    console.log(\"Bokeh: ERROR: autoload.js configured with elementid 'cb87ae9d-0374-4f16-bd07-4f449fcfec7d' but no matching script tag was found. \")\n    return false;\n  }\n\n  var js_urls = [\"https://cdn.pydata.org/bokeh/dev/bokeh-0.12.15dev5.min.js\", \"https://cdn.pydata.org/bokeh/dev/bokeh-widgets-0.12.15dev5.min.js\", \"https://cdn.pydata.org/bokeh/dev/bokeh-tables-0.12.15dev5.min.js\", \"https://cdn.pydata.org/bokeh/dev/bokeh-gl-0.12.15dev5.min.js\"];\n\n  var inline_js = [\n    function(Bokeh) {\n      Bokeh.set_log_level(\"info\");\n    },\n    \n    function(Bokeh) {\n      \n    },\n    function(Bokeh) {\n      console.log(\"Bokeh: injecting CSS: https://cdn.pydata.org/bokeh/dev/bokeh-0.12.15dev5.min.css\");\n      Bokeh.embed.inject_css(\"https://cdn.pydata.org/bokeh/dev/bokeh-0.12.15dev5.min.css\");\n      console.log(\"Bokeh: injecting CSS: https://cdn.pydata.org/bokeh/dev/bokeh-widgets-0.12.15dev5.min.css\");\n      Bokeh.embed.inject_css(\"https://cdn.pydata.org/bokeh/dev/bokeh-widgets-0.12.15dev5.min.css\");\n      console.log(\"Bokeh: injecting CSS: https://cdn.pydata.org/bokeh/dev/bokeh-tables-0.12.15dev5.min.css\");\n      Bokeh.embed.inject_css(\"https://cdn.pydata.org/bokeh/dev/bokeh-tables-0.12.15dev5.min.css\");\n    }\n  ];\n\n  function run_inline_js() {\n    \n    if ((root.Bokeh !== undefined) || (force === true)) {\n      for (var i = 0; i < inline_js.length; i++) {\n        inline_js[i].call(root, root.Bokeh);\n      }if (force === true) {\n        display_loaded();\n      }} else if (Date.now() < root._bokeh_timeout) {\n      setTimeout(run_inline_js, 100);\n    } else if (!root._bokeh_failed_load) {\n      console.log(\"Bokeh: BokehJS failed to load within specified timeout.\");\n      root._bokeh_failed_load = true;\n    } else if (force !== true) {\n      var cell = $(document.getElementById(\"cb87ae9d-0374-4f16-bd07-4f449fcfec7d\")).parents('.cell').data().cell;\n      cell.output_area.append_execute_result(NB_LOAD_WARNING)\n    }\n\n  }\n\n  if (root._bokeh_is_loading === 0) {\n    console.log(\"Bokeh: BokehJS loaded, going straight to plotting\");\n    run_inline_js();\n  } else {\n    load_libs(js_urls, function() {\n      console.log(\"Bokeh: BokehJS plotting callback run at\", now());\n      run_inline_js();\n    });\n  }\n}(window));"
     },
     "metadata": {},
     "output_type": "display_data"
    }
   ],
   "source": [
    "from bokeh.plotting import figure,show\n",
    "from bokeh.models import ColumnDataSource\n",
    "from bokeh.io import output_notebook\n",
    "output_notebook()"
   ]
  },
  {
   "cell_type": "code",
   "execution_count": 12,
   "metadata": {},
   "outputs": [
    {
     "data": {
      "text/html": [
       "\n",
       "<div class=\"bk-root\">\n",
       "    <div class=\"bk-plotdiv\" id=\"538768e1-8acb-40b3-9894-26332458805e\"></div>\n",
       "</div>"
      ]
     },
     "metadata": {},
     "output_type": "display_data"
    },
    {
     "data": {
      "application/javascript": [
       "(function(root) {\n",
       "  function embed_document(root) {\n",
       "    \n",
       "  var docs_json = {\"7fbf6457-2f9b-4486-9cb8-319173718638\":{\"roots\":{\"references\":[{\"attributes\":{\"callback\":null,\"column_names\":[\"index\",\"Data\",\"Value\"],\"data\":{\"Data\":{\"__ndarray__\":\"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\",\"dtype\":\"float64\",\"shape\":[365]},\"Value\":{\"__ndarray__\":\"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\",\"dtype\":\"float64\",\"shape\":[365]},\"index\":[0,1,2,3,4,5,6,7,8,9,10,11,12,13,14,15,16,17,18,19,20,21,22,23,24,25,26,27,28,29,30,31,32,33,34,35,36,37,38,39,40,41,42,43,44,45,46,47,48,49,50,51,52,53,54,55,56,57,58,59,60,61,62,63,64,65,66,67,68,69,70,71,72,73,74,75,76,77,78,79,80,81,82,83,84,85,86,87,88,89,90,91,92,93,94,95,96,97,98,99,100,101,102,103,104,105,106,107,108,109,110,111,112,113,114,115,116,117,118,119,120,121,122,123,124,125,126,127,128,129,130,131,132,133,134,135,136,137,138,139,140,141,142,143,144,145,146,147,148,149,150,151,152,153,154,155,156,157,158,159,160,161,162,163,164,165,166,167,168,169,170,171,172,173,174,175,176,177,178,179,180,181,182,183,184,185,186,187,188,189,190,191,192,193,194,195,196,197,198,199,200,201,202,203,204,205,206,207,208,209,210,211,212,213,214,215,216,217,218,219,220,221,222,223,224,225,226,227,228,229,230,231,232,233,234,235,236,237,238,239,240,241,242,243,244,245,246,247,248,249,250,251,252,253,254,255,256,257,258,259,260,261,262,263,264,265,266,267,268,269,270,271,272,273,274,275,276,277,278,279,280,281,282,283,284,285,286,287,288,289,290,291,292,293,294,295,296,297,298,299,300,301,302,303,304,305,306,307,308,309,310,311,312,313,314,315,316,317,318,319,320,321,322,323,324,325,326,327,328,329,330,331,332,333,334,335,336,337,338,339,340,341,342,343,344,345,346,347,348,349,350,351,352,353,354,355,356,357,358,359,360,361,362,363,364]},\"selected\":null,\"selection_policy\":null},\"id\":\"e2a8da62-5bf9-4986-a2c7-17f5b9fca87d\",\"type\":\"ColumnDataSource\"},{\"attributes\":{\"data_source\":{\"id\":\"e2a8da62-5bf9-4986-a2c7-17f5b9fca87d\",\"type\":\"ColumnDataSource\"},\"glyph\":{\"id\":\"74aaa4e1-e01a-4e30-97a8-1c5ba32d6321\",\"type\":\"Line\"},\"hover_glyph\":null,\"muted_glyph\":null,\"nonselection_glyph\":{\"id\":\"cab84b84-e63f-49c3-8140-b5d31492025c\",\"type\":\"Line\"},\"selection_glyph\":null,\"view\":{\"id\":\"133a3d68-aae5-4cfd-a114-d9500a587ee4\",\"type\":\"CDSView\"}},\"id\":\"1ba4146f-e275-451d-9a81-82f7d93fe713\",\"type\":\"GlyphRenderer\"},{\"attributes\":{\"base\":24,\"mantissas\":[1,2,4,6,8,12],\"max_interval\":43200000.0,\"min_interval\":3600000.0,\"num_minor_ticks\":0},\"id\":\"46b3f49c-fee6-4bb1-b916-709328b1bdae\",\"type\":\"AdaptiveTicker\"},{\"attributes\":{\"months\":[0,6]},\"id\":\"5ecf1db6-0130-4905-9f36-fca5a3407d35\",\"type\":\"MonthsTicker\"},{\"attributes\":{\"callback\":null},\"id\":\"61c271f6-3e67-46c7-9f47-d9f345a76336\",\"type\":\"DataRange1d\"},{\"attributes\":{\"below\":[{\"id\":\"8cc34950-14e0-44bd-975d-3f1b5debeecf\",\"type\":\"DatetimeAxis\"}],\"left\":[{\"id\":\"ac677705-c51b-4c7a-9094-dbd3e93d77b1\",\"type\":\"LinearAxis\"}],\"renderers\":[{\"id\":\"8cc34950-14e0-44bd-975d-3f1b5debeecf\",\"type\":\"DatetimeAxis\"},{\"id\":\"7bca8d8c-3bcc-407a-9718-96d4d5bf3947\",\"type\":\"Grid\"},{\"id\":\"ac677705-c51b-4c7a-9094-dbd3e93d77b1\",\"type\":\"LinearAxis\"},{\"id\":\"17a320f3-cc99-424a-a833-abbf6e50dc36\",\"type\":\"Grid\"},{\"id\":\"a5e8dd9a-643b-4d23-971d-bebf70a5464d\",\"type\":\"BoxAnnotation\"},{\"id\":\"1ba4146f-e275-451d-9a81-82f7d93fe713\",\"type\":\"GlyphRenderer\"}],\"title\":{\"id\":\"c4cb85c6-39e3-4b17-8388-1ae458ba8be1\",\"type\":\"Title\"},\"toolbar\":{\"id\":\"3103f262-9ab8-498c-b15d-e10cc1411892\",\"type\":\"Toolbar\"},\"x_range\":{\"id\":\"59ca83c3-dfc6-4aa8-8b59-4a1fdb556830\",\"type\":\"DataRange1d\"},\"x_scale\":{\"id\":\"32030e79-d685-4c8b-a7a3-1750272c3f37\",\"type\":\"LinearScale\"},\"y_range\":{\"id\":\"61c271f6-3e67-46c7-9f47-d9f345a76336\",\"type\":\"DataRange1d\"},\"y_scale\":{\"id\":\"80efcaab-db7b-4439-bba0-cebb57fd6a7f\",\"type\":\"LinearScale\"}},\"id\":\"4769743c-352d-45d8-b847-568b8d941dda\",\"subtype\":\"Figure\",\"type\":\"Plot\"},{\"attributes\":{\"dimension\":1,\"plot\":{\"id\":\"4769743c-352d-45d8-b847-568b8d941dda\",\"subtype\":\"Figure\",\"type\":\"Plot\"},\"ticker\":{\"id\":\"adefcad9-5361-4eba-bdb5-d08a4042913a\",\"type\":\"BasicTicker\"}},\"id\":\"17a320f3-cc99-424a-a833-abbf6e50dc36\",\"type\":\"Grid\"},{\"attributes\":{\"plot\":{\"id\":\"4769743c-352d-45d8-b847-568b8d941dda\",\"subtype\":\"Figure\",\"type\":\"Plot\"},\"ticker\":{\"id\":\"b2cc6fc0-998f-4031-984a-ad4916dcb381\",\"type\":\"DatetimeTicker\"}},\"id\":\"7bca8d8c-3bcc-407a-9718-96d4d5bf3947\",\"type\":\"Grid\"},{\"attributes\":{\"axis_label\":\"Date\",\"formatter\":{\"id\":\"d182c8bb-eb80-444f-aa3b-956946607c51\",\"type\":\"DatetimeTickFormatter\"},\"plot\":{\"id\":\"4769743c-352d-45d8-b847-568b8d941dda\",\"subtype\":\"Figure\",\"type\":\"Plot\"},\"ticker\":{\"id\":\"b2cc6fc0-998f-4031-984a-ad4916dcb381\",\"type\":\"DatetimeTicker\"}},\"id\":\"8cc34950-14e0-44bd-975d-3f1b5debeecf\",\"type\":\"DatetimeAxis\"},{\"attributes\":{\"months\":[0,4,8]},\"id\":\"ba42ecb6-bd50-4fca-a64a-77397209afb9\",\"type\":\"MonthsTicker\"},{\"attributes\":{\"active_drag\":\"auto\",\"active_inspect\":\"auto\",\"active_scroll\":\"auto\",\"active_tap\":\"auto\",\"tools\":[{\"id\":\"e32ab97e-d0ff-4dfb-87ab-d487ae436a84\",\"type\":\"PanTool\"},{\"id\":\"2ed606d3-b186-4bfa-833e-cee438e9d8e0\",\"type\":\"WheelZoomTool\"},{\"id\":\"5dcb75a3-07f8-4c6e-b436-e51982bef718\",\"type\":\"BoxZoomTool\"},{\"id\":\"3f4739bf-2bc1-46b7-a484-bfcaf85c8711\",\"type\":\"SaveTool\"},{\"id\":\"4c89e658-889d-43d7-8a17-28aa70c7d400\",\"type\":\"ResetTool\"},{\"id\":\"11265767-0bca-4202-ba1e-3ca16ef4a8de\",\"type\":\"HelpTool\"}]},\"id\":\"3103f262-9ab8-498c-b15d-e10cc1411892\",\"type\":\"Toolbar\"},{\"attributes\":{\"months\":[0,1,2,3,4,5,6,7,8,9,10,11]},\"id\":\"b17f0255-72dc-4de5-8455-b9851844d15c\",\"type\":\"MonthsTicker\"},{\"attributes\":{\"axis_label\":\"Difficult\",\"formatter\":{\"id\":\"f917fa6c-ac13-4ddc-85ad-6f329afd1dc4\",\"type\":\"BasicTickFormatter\"},\"plot\":{\"id\":\"4769743c-352d-45d8-b847-568b8d941dda\",\"subtype\":\"Figure\",\"type\":\"Plot\"},\"ticker\":{\"id\":\"adefcad9-5361-4eba-bdb5-d08a4042913a\",\"type\":\"BasicTicker\"}},\"id\":\"ac677705-c51b-4c7a-9094-dbd3e93d77b1\",\"type\":\"LinearAxis\"},{\"attributes\":{\"months\":[0,2,4,6,8,10]},\"id\":\"b3dff43f-8357-4d68-82b2-9440ca0f5aba\",\"type\":\"MonthsTicker\"},{\"attributes\":{\"days\":[1,4,7,10,13,16,19,22,25,28]},\"id\":\"ebb499ac-870e-4406-853e-b34ae5de9cde\",\"type\":\"DaysTicker\"},{\"attributes\":{},\"id\":\"3f4739bf-2bc1-46b7-a484-bfcaf85c8711\",\"type\":\"SaveTool\"},{\"attributes\":{},\"id\":\"32030e79-d685-4c8b-a7a3-1750272c3f37\",\"type\":\"LinearScale\"},{\"attributes\":{\"callback\":null},\"id\":\"59ca83c3-dfc6-4aa8-8b59-4a1fdb556830\",\"type\":\"DataRange1d\"},{\"attributes\":{\"days\":[1,2,3,4,5,6,7,8,9,10,11,12,13,14,15,16,17,18,19,20,21,22,23,24,25,26,27,28,29,30,31]},\"id\":\"cfa82ff8-ea73-458f-987c-439280b1e9d7\",\"type\":\"DaysTicker\"},{\"attributes\":{\"bottom_units\":\"screen\",\"fill_alpha\":{\"value\":0.5},\"fill_color\":{\"value\":\"lightgrey\"},\"left_units\":\"screen\",\"level\":\"overlay\",\"line_alpha\":{\"value\":1.0},\"line_color\":{\"value\":\"black\"},\"line_dash\":[4,4],\"line_width\":{\"value\":2},\"plot\":null,\"render_mode\":\"css\",\"right_units\":\"screen\",\"top_units\":\"screen\"},\"id\":\"a5e8dd9a-643b-4d23-971d-bebf70a5464d\",\"type\":\"BoxAnnotation\"},{\"attributes\":{\"overlay\":{\"id\":\"a5e8dd9a-643b-4d23-971d-bebf70a5464d\",\"type\":\"BoxAnnotation\"}},\"id\":\"5dcb75a3-07f8-4c6e-b436-e51982bef718\",\"type\":\"BoxZoomTool\"},{\"attributes\":{},\"id\":\"e32ab97e-d0ff-4dfb-87ab-d487ae436a84\",\"type\":\"PanTool\"},{\"attributes\":{},\"id\":\"11265767-0bca-4202-ba1e-3ca16ef4a8de\",\"type\":\"HelpTool\"},{\"attributes\":{\"num_minor_ticks\":5,\"tickers\":[{\"id\":\"ea855f40-c58e-4716-933c-80c5cfec555d\",\"type\":\"AdaptiveTicker\"},{\"id\":\"2630e4b2-0158-4688-a812-7a4bc3c72469\",\"type\":\"AdaptiveTicker\"},{\"id\":\"46b3f49c-fee6-4bb1-b916-709328b1bdae\",\"type\":\"AdaptiveTicker\"},{\"id\":\"cfa82ff8-ea73-458f-987c-439280b1e9d7\",\"type\":\"DaysTicker\"},{\"id\":\"ebb499ac-870e-4406-853e-b34ae5de9cde\",\"type\":\"DaysTicker\"},{\"id\":\"d1f34bfa-89cc-48b5-90bc-de5fb7569a77\",\"type\":\"DaysTicker\"},{\"id\":\"6133d200-592a-46db-b436-552499dede0f\",\"type\":\"DaysTicker\"},{\"id\":\"b17f0255-72dc-4de5-8455-b9851844d15c\",\"type\":\"MonthsTicker\"},{\"id\":\"b3dff43f-8357-4d68-82b2-9440ca0f5aba\",\"type\":\"MonthsTicker\"},{\"id\":\"ba42ecb6-bd50-4fca-a64a-77397209afb9\",\"type\":\"MonthsTicker\"},{\"id\":\"5ecf1db6-0130-4905-9f36-fca5a3407d35\",\"type\":\"MonthsTicker\"},{\"id\":\"09718317-ebfa-4d9a-9676-2cf641a9e8aa\",\"type\":\"YearsTicker\"}]},\"id\":\"b2cc6fc0-998f-4031-984a-ad4916dcb381\",\"type\":\"DatetimeTicker\"},{\"attributes\":{\"line_alpha\":0.1,\"line_color\":\"#1f77b4\",\"x\":{\"field\":\"Data\"},\"y\":{\"field\":\"Value\"}},\"id\":\"cab84b84-e63f-49c3-8140-b5d31492025c\",\"type\":\"Line\"},{\"attributes\":{},\"id\":\"f917fa6c-ac13-4ddc-85ad-6f329afd1dc4\",\"type\":\"BasicTickFormatter\"},{\"attributes\":{},\"id\":\"09718317-ebfa-4d9a-9676-2cf641a9e8aa\",\"type\":\"YearsTicker\"},{\"attributes\":{\"mantissas\":[1,2,5],\"max_interval\":500.0,\"num_minor_ticks\":0},\"id\":\"ea855f40-c58e-4716-933c-80c5cfec555d\",\"type\":\"AdaptiveTicker\"},{\"attributes\":{\"plot\":null,\"text\":\"\"},\"id\":\"c4cb85c6-39e3-4b17-8388-1ae458ba8be1\",\"type\":\"Title\"},{\"attributes\":{\"source\":{\"id\":\"e2a8da62-5bf9-4986-a2c7-17f5b9fca87d\",\"type\":\"ColumnDataSource\"}},\"id\":\"133a3d68-aae5-4cfd-a114-d9500a587ee4\",\"type\":\"CDSView\"},{\"attributes\":{},\"id\":\"80efcaab-db7b-4439-bba0-cebb57fd6a7f\",\"type\":\"LinearScale\"},{\"attributes\":{\"base\":60,\"mantissas\":[1,2,5,10,15,20,30],\"max_interval\":1800000.0,\"min_interval\":1000.0,\"num_minor_ticks\":0},\"id\":\"2630e4b2-0158-4688-a812-7a4bc3c72469\",\"type\":\"AdaptiveTicker\"},{\"attributes\":{},\"id\":\"d182c8bb-eb80-444f-aa3b-956946607c51\",\"type\":\"DatetimeTickFormatter\"},{\"attributes\":{},\"id\":\"2ed606d3-b186-4bfa-833e-cee438e9d8e0\",\"type\":\"WheelZoomTool\"},{\"attributes\":{},\"id\":\"4c89e658-889d-43d7-8a17-28aa70c7d400\",\"type\":\"ResetTool\"},{\"attributes\":{},\"id\":\"adefcad9-5361-4eba-bdb5-d08a4042913a\",\"type\":\"BasicTicker\"},{\"attributes\":{\"days\":[1,8,15,22]},\"id\":\"d1f34bfa-89cc-48b5-90bc-de5fb7569a77\",\"type\":\"DaysTicker\"},{\"attributes\":{\"days\":[1,15]},\"id\":\"6133d200-592a-46db-b436-552499dede0f\",\"type\":\"DaysTicker\"},{\"attributes\":{\"line_color\":\"#1f77b4\",\"x\":{\"field\":\"Data\"},\"y\":{\"field\":\"Value\"}},\"id\":\"74aaa4e1-e01a-4e30-97a8-1c5ba32d6321\",\"type\":\"Line\"}],\"root_ids\":[\"4769743c-352d-45d8-b847-568b8d941dda\"]},\"title\":\"Bokeh Application\",\"version\":\"0.12.15dev5\"}};\n",
       "  var render_items = [{\"docid\":\"7fbf6457-2f9b-4486-9cb8-319173718638\",\"elementid\":\"538768e1-8acb-40b3-9894-26332458805e\",\"modelid\":\"4769743c-352d-45d8-b847-568b8d941dda\"}];\n",
       "  root.Bokeh.embed.embed_items_notebook(docs_json, render_items);\n",
       "\n",
       "  }\n",
       "  if (root.Bokeh !== undefined) {\n",
       "    embed_document(root);\n",
       "  } else {\n",
       "    var attempts = 0;\n",
       "    var timer = setInterval(function(root) {\n",
       "      if (root.Bokeh !== undefined) {\n",
       "        embed_document(root);\n",
       "        clearInterval(timer);\n",
       "      }\n",
       "      attempts++;\n",
       "      if (attempts > 100) {\n",
       "        console.log(\"Bokeh: ERROR: Unable to run BokehJS code because BokehJS library is missing\")\n",
       "        clearInterval(timer);\n",
       "      }\n",
       "    }, 10, root)\n",
       "  }\n",
       "})(window);"
      ],
      "application/vnd.bokehjs_exec.v0+json": ""
     },
     "metadata": {
      "application/vnd.bokehjs_exec.v0+json": {
       "id": "4769743c-352d-45d8-b847-568b8d941dda"
      }
     },
     "output_type": "display_data"
    }
   ],
   "source": [
    "# Create a figure with x_axis_type=\"datetime\": p\n",
    "p = figure(x_axis_type=\"datetime\", x_axis_label='Date', y_axis_label='Difficult')\n",
    "source=ColumnDataSource(Dati)\n",
    "p.line(source=source,x=\"Data\",y=\"Value\")\n",
    "show(p)"
   ]
  },
  {
   "cell_type": "code",
   "execution_count": 13,
   "metadata": {},
   "outputs": [],
   "source": [
    "from math import log\n",
    "Dati[\"logValue\"]=Dati.Value.apply(log)"
   ]
  },
  {
   "cell_type": "code",
   "execution_count": 14,
   "metadata": {},
   "outputs": [
    {
     "data": {
      "text/html": [
       "\n",
       "<div class=\"bk-root\">\n",
       "    <div class=\"bk-plotdiv\" id=\"046a06e7-32e2-4873-a92c-68ac05310c17\"></div>\n",
       "</div>"
      ]
     },
     "metadata": {},
     "output_type": "display_data"
    },
    {
     "data": {
      "application/javascript": [
       "(function(root) {\n",
       "  function embed_document(root) {\n",
       "    \n",
       "  var docs_json = {\"67a5fd81-32aa-4747-83a9-b2f55f0ae219\":{\"roots\":{\"references\":[{\"attributes\":{\"plot\":{\"id\":\"0b36a1b8-d653-4d96-8298-b7e362c66ccb\",\"subtype\":\"Figure\",\"type\":\"Plot\"},\"ticker\":{\"id\":\"7e27468e-e021-465f-bbf6-e7206ba186ed\",\"type\":\"DatetimeTicker\"}},\"id\":\"2bb144eb-9bcb-4148-836c-3ec7303285b8\",\"type\":\"Grid\"},{\"attributes\":{\"months\":[0,4,8]},\"id\":\"69f85b9e-2487-4b34-9dd2-453a28eb318e\",\"type\":\"MonthsTicker\"},{\"attributes\":{\"callback\":null,\"column_names\":[\"index\",\"Data\",\"logValue\",\"Value\"],\"data\":{\"Data\":{\"__ndarray__\":\"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\",\"dtype\":\"float64\",\"shape\":[365]},\"Value\":{\"__ndarray__\":\"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\",\"dtype\":\"float64\",\"shape\":[365]},\"index\":[0,1,2,3,4,5,6,7,8,9,10,11,12,13,14,15,16,17,18,19,20,21,22,23,24,25,26,27,28,29,30,31,32,33,34,35,36,37,38,39,40,41,42,43,44,45,46,47,48,49,50,51,52,53,54,55,56,57,58,59,60,61,62,63,64,65,66,67,68,69,70,71,72,73,74,75,76,77,78,79,80,81,82,83,84,85,86,87,88,89,90,91,92,93,94,95,96,97,98,99,100,101,102,103,104,105,106,107,108,109,110,111,112,113,114,115,116,117,118,119,120,121,122,123,124,125,126,127,128,129,130,131,132,133,134,135,136,137,138,139,140,141,142,143,144,145,146,147,148,149,150,151,152,153,154,155,156,157,158,159,160,161,162,163,164,165,166,167,168,169,170,171,172,173,174,175,176,177,178,179,180,181,182,183,184,185,186,187,188,189,190,191,192,193,194,195,196,197,198,199,200,201,202,203,204,205,206,207,208,209,210,211,212,213,214,215,216,217,218,219,220,221,222,223,224,225,226,227,228,229,230,231,232,233,234,235,236,237,238,239,240,241,242,243,244,245,246,247,248,249,250,251,252,253,254,255,256,257,258,259,260,261,262,263,264,265,266,267,268,269,270,271,272,273,274,275,276,277,278,279,280,281,282,283,284,285,286,287,288,289,290,291,292,293,294,295,296,297,298,299,300,301,302,303,304,305,306,307,308,309,310,311,312,313,314,315,316,317,318,319,320,321,322,323,324,325,326,327,328,329,330,331,332,333,334,335,336,337,338,339,340,341,342,343,344,345,346,347,348,349,350,351,352,353,354,355,356,357,358,359,360,361,362,363,364],\"logValue\":{\"__ndarray__\":\"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\",\"dtype\":\"float64\",\"shape\":[365]}},\"selected\":null,\"selection_policy\":null},\"id\":\"aae98c8c-c7d8-42c4-829e-de860be5b216\",\"type\":\"ColumnDataSource\"},{\"attributes\":{\"plot\":null,\"text\":\"\"},\"id\":\"17ca7ad7-17e4-4852-b45c-243e26bc15d9\",\"type\":\"Title\"},{\"attributes\":{\"months\":[0,2,4,6,8,10]},\"id\":\"782f03bb-724f-4d04-b07c-483835c826c6\",\"type\":\"MonthsTicker\"},{\"attributes\":{\"overlay\":{\"id\":\"1a8a7d67-bbf2-4d7b-bef4-85aac8339f43\",\"type\":\"BoxAnnotation\"}},\"id\":\"829e207d-8a51-4d55-bad9-9e28e653af7b\",\"type\":\"BoxZoomTool\"},{\"attributes\":{},\"id\":\"d3d10dba-0c00-43fb-9152-f4dc6f2ad675\",\"type\":\"PanTool\"},{\"attributes\":{\"callback\":null},\"id\":\"fb18b87a-2a14-4304-a942-cedfc5351ab2\",\"type\":\"DataRange1d\"},{\"attributes\":{\"num_minor_ticks\":5,\"tickers\":[{\"id\":\"12a99518-0782-46bf-8944-9ef557da9dc1\",\"type\":\"AdaptiveTicker\"},{\"id\":\"c80c1bf9-0f7b-4b72-ae43-3606729bc111\",\"type\":\"AdaptiveTicker\"},{\"id\":\"5f1e2718-b336-4f7e-b96c-99b4491ab04f\",\"type\":\"AdaptiveTicker\"},{\"id\":\"034e7964-d2f0-4e27-b82c-664382cd3243\",\"type\":\"DaysTicker\"},{\"id\":\"9d5ba10b-88b0-4c26-bbe8-f9293aa22478\",\"type\":\"DaysTicker\"},{\"id\":\"d955f50d-6aea-479c-8121-2f925272cf2c\",\"type\":\"DaysTicker\"},{\"id\":\"d556e9ea-1323-431c-8bac-d79450029c51\",\"type\":\"DaysTicker\"},{\"id\":\"f7f99402-e37f-45f7-b517-cd7efc6ea5d3\",\"type\":\"MonthsTicker\"},{\"id\":\"782f03bb-724f-4d04-b07c-483835c826c6\",\"type\":\"MonthsTicker\"},{\"id\":\"69f85b9e-2487-4b34-9dd2-453a28eb318e\",\"type\":\"MonthsTicker\"},{\"id\":\"13ec0cb0-6158-42db-8aec-010243fe6619\",\"type\":\"MonthsTicker\"},{\"id\":\"d4685144-47ec-44bb-b698-291277c6fc5a\",\"type\":\"YearsTicker\"}]},\"id\":\"7e27468e-e021-465f-bbf6-e7206ba186ed\",\"type\":\"DatetimeTicker\"},{\"attributes\":{\"line_alpha\":0.1,\"line_color\":\"#1f77b4\",\"x\":{\"field\":\"Data\"},\"y\":{\"field\":\"logValue\"}},\"id\":\"37e0b330-7bad-4299-b281-40a49c1cb28a\",\"type\":\"Line\"},{\"attributes\":{\"line_color\":\"#1f77b4\",\"x\":{\"field\":\"Data\"},\"y\":{\"field\":\"logValue\"}},\"id\":\"f6b128cd-f475-4a2a-8be2-b71fe59e7cb9\",\"type\":\"Line\"},{\"attributes\":{\"bottom_units\":\"screen\",\"fill_alpha\":{\"value\":0.5},\"fill_color\":{\"value\":\"lightgrey\"},\"left_units\":\"screen\",\"level\":\"overlay\",\"line_alpha\":{\"value\":1.0},\"line_color\":{\"value\":\"black\"},\"line_dash\":[4,4],\"line_width\":{\"value\":2},\"plot\":null,\"render_mode\":\"css\",\"right_units\":\"screen\",\"top_units\":\"screen\"},\"id\":\"1a8a7d67-bbf2-4d7b-bef4-85aac8339f43\",\"type\":\"BoxAnnotation\"},{\"attributes\":{},\"id\":\"a0a1efc2-6334-4941-9a21-7ef5dacc4163\",\"type\":\"LinearScale\"},{\"attributes\":{\"data_source\":{\"id\":\"aae98c8c-c7d8-42c4-829e-de860be5b216\",\"type\":\"ColumnDataSource\"},\"glyph\":{\"id\":\"f6b128cd-f475-4a2a-8be2-b71fe59e7cb9\",\"type\":\"Line\"},\"hover_glyph\":null,\"muted_glyph\":null,\"nonselection_glyph\":{\"id\":\"37e0b330-7bad-4299-b281-40a49c1cb28a\",\"type\":\"Line\"},\"selection_glyph\":null,\"view\":{\"id\":\"d74905ee-d75c-489d-967d-584527086626\",\"type\":\"CDSView\"}},\"id\":\"1f02d9c7-0156-4489-95c0-a77e2fff85ae\",\"type\":\"GlyphRenderer\"},{\"attributes\":{\"base\":60,\"mantissas\":[1,2,5,10,15,20,30],\"max_interval\":1800000.0,\"min_interval\":1000.0,\"num_minor_ticks\":0},\"id\":\"c80c1bf9-0f7b-4b72-ae43-3606729bc111\",\"type\":\"AdaptiveTicker\"},{\"attributes\":{\"below\":[{\"id\":\"8fe99ef1-856e-467a-8ae9-96cfb64afcb0\",\"type\":\"DatetimeAxis\"}],\"left\":[{\"id\":\"4db1b5b4-aca6-4f11-9e4e-aa689893c3e0\",\"type\":\"LinearAxis\"}],\"renderers\":[{\"id\":\"8fe99ef1-856e-467a-8ae9-96cfb64afcb0\",\"type\":\"DatetimeAxis\"},{\"id\":\"2bb144eb-9bcb-4148-836c-3ec7303285b8\",\"type\":\"Grid\"},{\"id\":\"4db1b5b4-aca6-4f11-9e4e-aa689893c3e0\",\"type\":\"LinearAxis\"},{\"id\":\"e56be528-3b44-4ca4-80fa-a5aa0b98d652\",\"type\":\"Grid\"},{\"id\":\"1a8a7d67-bbf2-4d7b-bef4-85aac8339f43\",\"type\":\"BoxAnnotation\"},{\"id\":\"1f02d9c7-0156-4489-95c0-a77e2fff85ae\",\"type\":\"GlyphRenderer\"}],\"title\":{\"id\":\"17ca7ad7-17e4-4852-b45c-243e26bc15d9\",\"type\":\"Title\"},\"toolbar\":{\"id\":\"82570446-3fd1-4ed9-804e-fafb52258183\",\"type\":\"Toolbar\"},\"x_range\":{\"id\":\"2267648d-aa80-436d-9319-bd9cb799afba\",\"type\":\"DataRange1d\"},\"x_scale\":{\"id\":\"9072f69e-c2e8-470e-8bde-8e6d2f8d3d30\",\"type\":\"LinearScale\"},\"y_range\":{\"id\":\"fb18b87a-2a14-4304-a942-cedfc5351ab2\",\"type\":\"DataRange1d\"},\"y_scale\":{\"id\":\"a0a1efc2-6334-4941-9a21-7ef5dacc4163\",\"type\":\"LinearScale\"}},\"id\":\"0b36a1b8-d653-4d96-8298-b7e362c66ccb\",\"subtype\":\"Figure\",\"type\":\"Plot\"},{\"attributes\":{\"days\":[1,2,3,4,5,6,7,8,9,10,11,12,13,14,15,16,17,18,19,20,21,22,23,24,25,26,27,28,29,30,31]},\"id\":\"034e7964-d2f0-4e27-b82c-664382cd3243\",\"type\":\"DaysTicker\"},{\"attributes\":{},\"id\":\"0f9b5d9e-55be-4518-92ee-217da32659f9\",\"type\":\"WheelZoomTool\"},{\"attributes\":{\"axis_label\":\"log(Difficult)\",\"formatter\":{\"id\":\"5da3d6b2-3430-40af-936e-45441b987aed\",\"type\":\"BasicTickFormatter\"},\"plot\":{\"id\":\"0b36a1b8-d653-4d96-8298-b7e362c66ccb\",\"subtype\":\"Figure\",\"type\":\"Plot\"},\"ticker\":{\"id\":\"05546e93-72d3-476b-8da1-8f801487374a\",\"type\":\"BasicTicker\"}},\"id\":\"4db1b5b4-aca6-4f11-9e4e-aa689893c3e0\",\"type\":\"LinearAxis\"},{\"attributes\":{\"days\":[1,4,7,10,13,16,19,22,25,28]},\"id\":\"9d5ba10b-88b0-4c26-bbe8-f9293aa22478\",\"type\":\"DaysTicker\"},{\"attributes\":{\"callback\":null},\"id\":\"2267648d-aa80-436d-9319-bd9cb799afba\",\"type\":\"DataRange1d\"},{\"attributes\":{},\"id\":\"5da3d6b2-3430-40af-936e-45441b987aed\",\"type\":\"BasicTickFormatter\"},{\"attributes\":{},\"id\":\"59aca200-98e0-47ee-96d5-323baf81176c\",\"type\":\"SaveTool\"},{\"attributes\":{\"months\":[0,6]},\"id\":\"13ec0cb0-6158-42db-8aec-010243fe6619\",\"type\":\"MonthsTicker\"},{\"attributes\":{},\"id\":\"158db128-61d1-4a09-be6b-c747e66bab06\",\"type\":\"DatetimeTickFormatter\"},{\"attributes\":{},\"id\":\"9072f69e-c2e8-470e-8bde-8e6d2f8d3d30\",\"type\":\"LinearScale\"},{\"attributes\":{},\"id\":\"5b503a99-bae0-4252-a522-3a7898ac3448\",\"type\":\"HelpTool\"},{\"attributes\":{\"months\":[0,1,2,3,4,5,6,7,8,9,10,11]},\"id\":\"f7f99402-e37f-45f7-b517-cd7efc6ea5d3\",\"type\":\"MonthsTicker\"},{\"attributes\":{\"mantissas\":[1,2,5],\"max_interval\":500.0,\"num_minor_ticks\":0},\"id\":\"12a99518-0782-46bf-8944-9ef557da9dc1\",\"type\":\"AdaptiveTicker\"},{\"attributes\":{\"axis_label\":\"Date\",\"formatter\":{\"id\":\"158db128-61d1-4a09-be6b-c747e66bab06\",\"type\":\"DatetimeTickFormatter\"},\"plot\":{\"id\":\"0b36a1b8-d653-4d96-8298-b7e362c66ccb\",\"subtype\":\"Figure\",\"type\":\"Plot\"},\"ticker\":{\"id\":\"7e27468e-e021-465f-bbf6-e7206ba186ed\",\"type\":\"DatetimeTicker\"}},\"id\":\"8fe99ef1-856e-467a-8ae9-96cfb64afcb0\",\"type\":\"DatetimeAxis\"},{\"attributes\":{\"active_drag\":\"auto\",\"active_inspect\":\"auto\",\"active_scroll\":\"auto\",\"active_tap\":\"auto\",\"tools\":[{\"id\":\"d3d10dba-0c00-43fb-9152-f4dc6f2ad675\",\"type\":\"PanTool\"},{\"id\":\"0f9b5d9e-55be-4518-92ee-217da32659f9\",\"type\":\"WheelZoomTool\"},{\"id\":\"829e207d-8a51-4d55-bad9-9e28e653af7b\",\"type\":\"BoxZoomTool\"},{\"id\":\"59aca200-98e0-47ee-96d5-323baf81176c\",\"type\":\"SaveTool\"},{\"id\":\"de2ee387-5d1d-4b3a-b225-84de12d4915f\",\"type\":\"ResetTool\"},{\"id\":\"5b503a99-bae0-4252-a522-3a7898ac3448\",\"type\":\"HelpTool\"}]},\"id\":\"82570446-3fd1-4ed9-804e-fafb52258183\",\"type\":\"Toolbar\"},{\"attributes\":{\"base\":24,\"mantissas\":[1,2,4,6,8,12],\"max_interval\":43200000.0,\"min_interval\":3600000.0,\"num_minor_ticks\":0},\"id\":\"5f1e2718-b336-4f7e-b96c-99b4491ab04f\",\"type\":\"AdaptiveTicker\"},{\"attributes\":{},\"id\":\"05546e93-72d3-476b-8da1-8f801487374a\",\"type\":\"BasicTicker\"},{\"attributes\":{},\"id\":\"de2ee387-5d1d-4b3a-b225-84de12d4915f\",\"type\":\"ResetTool\"},{\"attributes\":{\"source\":{\"id\":\"aae98c8c-c7d8-42c4-829e-de860be5b216\",\"type\":\"ColumnDataSource\"}},\"id\":\"d74905ee-d75c-489d-967d-584527086626\",\"type\":\"CDSView\"},{\"attributes\":{\"days\":[1,15]},\"id\":\"d556e9ea-1323-431c-8bac-d79450029c51\",\"type\":\"DaysTicker\"},{\"attributes\":{\"days\":[1,8,15,22]},\"id\":\"d955f50d-6aea-479c-8121-2f925272cf2c\",\"type\":\"DaysTicker\"},{\"attributes\":{\"dimension\":1,\"plot\":{\"id\":\"0b36a1b8-d653-4d96-8298-b7e362c66ccb\",\"subtype\":\"Figure\",\"type\":\"Plot\"},\"ticker\":{\"id\":\"05546e93-72d3-476b-8da1-8f801487374a\",\"type\":\"BasicTicker\"}},\"id\":\"e56be528-3b44-4ca4-80fa-a5aa0b98d652\",\"type\":\"Grid\"},{\"attributes\":{},\"id\":\"d4685144-47ec-44bb-b698-291277c6fc5a\",\"type\":\"YearsTicker\"}],\"root_ids\":[\"0b36a1b8-d653-4d96-8298-b7e362c66ccb\"]},\"title\":\"Bokeh Application\",\"version\":\"0.12.15dev5\"}};\n",
       "  var render_items = [{\"docid\":\"67a5fd81-32aa-4747-83a9-b2f55f0ae219\",\"elementid\":\"046a06e7-32e2-4873-a92c-68ac05310c17\",\"modelid\":\"0b36a1b8-d653-4d96-8298-b7e362c66ccb\"}];\n",
       "  root.Bokeh.embed.embed_items_notebook(docs_json, render_items);\n",
       "\n",
       "  }\n",
       "  if (root.Bokeh !== undefined) {\n",
       "    embed_document(root);\n",
       "  } else {\n",
       "    var attempts = 0;\n",
       "    var timer = setInterval(function(root) {\n",
       "      if (root.Bokeh !== undefined) {\n",
       "        embed_document(root);\n",
       "        clearInterval(timer);\n",
       "      }\n",
       "      attempts++;\n",
       "      if (attempts > 100) {\n",
       "        console.log(\"Bokeh: ERROR: Unable to run BokehJS code because BokehJS library is missing\")\n",
       "        clearInterval(timer);\n",
       "      }\n",
       "    }, 10, root)\n",
       "  }\n",
       "})(window);"
      ],
      "application/vnd.bokehjs_exec.v0+json": ""
     },
     "metadata": {
      "application/vnd.bokehjs_exec.v0+json": {
       "id": "0b36a1b8-d653-4d96-8298-b7e362c66ccb"
      }
     },
     "output_type": "display_data"
    }
   ],
   "source": [
    "p = figure(x_axis_type=\"datetime\", x_axis_label='Date', y_axis_label='log(Difficult)')\n",
    "source=ColumnDataSource(Dati)\n",
    "p.line(source=source,x=\"Data\",y=\"logValue\")\n",
    "show(p)"
   ]
  },
  {
   "cell_type": "code",
   "execution_count": 15,
   "metadata": {},
   "outputs": [
    {
     "data": {
      "text/plain": [
       "(array([   1.,    1.,    0.,    1.,    1.,    3.,  316.,    4.,    4.,\n",
       "           4.,    5.,    2.,    4.,    3.,    2.,    1.,    2.,    3.,\n",
       "           1.,    0.,    3.,    0.,    0.,    1.,    0.,    1.,    0.,\n",
       "           0.,    0.,    1.]),\n",
       " array([-0.04229439, -0.03543658, -0.02857878, -0.02172098, -0.01486318,\n",
       "        -0.00800537, -0.00114757,  0.00571023,  0.01256803,  0.01942584,\n",
       "         0.02628364,  0.03314144,  0.03999925,  0.04685705,  0.05371485,\n",
       "         0.06057265,  0.06743046,  0.07428826,  0.08114606,  0.08800386,\n",
       "         0.09486167,  0.10171947,  0.10857727,  0.11543507,  0.12229288,\n",
       "         0.12915068,  0.13600848,  0.14286628,  0.14972409,  0.15658189,\n",
       "         0.16343969]),\n",
       " <a list of 30 Patch objects>)"
      ]
     },
     "execution_count": 15,
     "metadata": {},
     "output_type": "execute_result"
    },
    {
     "data": {
      "image/png": "[encoded data removed]",
      "text/plain": [
       "<matplotlib.figure.Figure at 0x7f923bdf6eb8>"
      ]
     },
     "metadata": {},
     "output_type": "display_data"
    }
   ],
   "source": [
    "plt.hist(np.diff(Dati.logValue), bins=30)"
   ]
  },
  {
   "cell_type": "code",
   "execution_count": 16,
   "metadata": {},
   "outputs": [
    {
     "data": {
      "text/html": [
       "<div>\n",
       "<style scoped>\n",
       "    .dataframe tbody tr th:only-of-type {\n",
       "        vertical-align: middle;\n",
       "    }\n",
       "\n",
       "    .dataframe tbody tr th {\n",
       "        vertical-align: top;\n",
       "    }\n",
       "\n",
       "    .dataframe thead th {\n",
       "        text-align: right;\n",
       "    }\n",
       "</style>\n",
       "<table border=\"1\" class=\"dataframe\">\n",
       "  <thead>\n",
       "    <tr style=\"text-align: right;\">\n",
       "      <th></th>\n",
       "      <th>Diff_LogValue</th>\n",
       "    </tr>\n",
       "  </thead>\n",
       "  <tbody>\n",
       "    <tr>\n",
       "      <th>count</th>\n",
       "      <td>364.000000</td>\n",
       "    </tr>\n",
       "    <tr>\n",
       "      <th>mean</th>\n",
       "      <td>0.005488</td>\n",
       "    </tr>\n",
       "    <tr>\n",
       "      <th>std</th>\n",
       "      <td>0.020548</td>\n",
       "    </tr>\n",
       "    <tr>\n",
       "      <th>min</th>\n",
       "      <td>-0.042294</td>\n",
       "    </tr>\n",
       "    <tr>\n",
       "      <th>25%</th>\n",
       "      <td>0.000000</td>\n",
       "    </tr>\n",
       "    <tr>\n",
       "      <th>50%</th>\n",
       "      <td>0.000000</td>\n",
       "    </tr>\n",
       "    <tr>\n",
       "      <th>75%</th>\n",
       "      <td>0.000000</td>\n",
       "    </tr>\n",
       "    <tr>\n",
       "      <th>max</th>\n",
       "      <td>0.163440</td>\n",
       "    </tr>\n",
       "  </tbody>\n",
       "</table>\n",
       "</div>"
      ],
      "text/plain": [
       "       Diff_LogValue\n",
       "count     364.000000\n",
       "mean        0.005488\n",
       "std         0.020548\n",
       "min        -0.042294\n",
       "25%         0.000000\n",
       "50%         0.000000\n",
       "75%         0.000000\n",
       "max         0.163440"
      ]
     },
     "execution_count": 16,
     "metadata": {},
     "output_type": "execute_result"
    }
   ],
   "source": [
    "pd.DataFrame({\"Diff_LogValue\":np.diff(Dati.logValue)}).describe()"
   ]
  },
  {
   "cell_type": "code",
   "execution_count": 17,
   "metadata": {},
   "outputs": [],
   "source": [
    "days20= lambda x: (x-Dati.Data.min()).days\n",
    "Dati[\"Days_from_start\"]=Dati.Data.apply(days20)"
   ]
  },
  {
   "cell_type": "code",
   "execution_count": 18,
   "metadata": {},
   "outputs": [
    {
     "data": {
      "text/html": [
       "\n",
       "<div class=\"bk-root\">\n",
       "    <div class=\"bk-plotdiv\" id=\"5f53b65f-c894-41c2-a562-6676b545ee8f\"></div>\n",
       "</div>"
      ]
     },
     "metadata": {},
     "output_type": "display_data"
    },
    {
     "data": {
      "application/javascript": [
       "(function(root) {\n",
       "  function embed_document(root) {\n",
       "    \n",
       "  var docs_json = {\"981ecdd5-cab0-408c-b21c-1a4168d852d1\":{\"roots\":{\"references\":[{\"attributes\":{\"overlay\":{\"id\":\"25c40c60-c70b-41ae-8155-213b3a110ba3\",\"type\":\"BoxAnnotation\"}},\"id\":\"9c02ddd0-8dd5-4ccb-b6cc-14b827a1fdeb\",\"type\":\"BoxZoomTool\"},{\"attributes\":{},\"id\":\"912e46b3-dcc2-43cd-bee3-7a795449565f\",\"type\":\"WheelZoomTool\"},{\"attributes\":{\"dimension\":1,\"plot\":{\"id\":\"45b35b64-d77a-4b82-8c8b-3d8ca2d30057\",\"subtype\":\"Figure\",\"type\":\"Plot\"},\"ticker\":{\"id\":\"46b47e68-e0e8-46bf-9b76-902089016396\",\"type\":\"BasicTicker\"}},\"id\":\"0537efea-8bd7-4fed-9a20-c0a51214c4ca\",\"type\":\"Grid\"},{\"attributes\":{\"plot\":{\"id\":\"45b35b64-d77a-4b82-8c8b-3d8ca2d30057\",\"subtype\":\"Figure\",\"type\":\"Plot\"},\"ticker\":{\"id\":\"869f6271-e2cd-4d18-b1cf-9348677f5ca4\",\"type\":\"BasicTicker\"}},\"id\":\"a75f507b-fe87-4afc-9392-fcb4c438771a\",\"type\":\"Grid\"},{\"attributes\":{},\"id\":\"854b3fc7-37cc-485e-ac4f-64635a5c59e9\",\"type\":\"PanTool\"},{\"attributes\":{\"bottom_units\":\"screen\",\"fill_alpha\":{\"value\":0.5},\"fill_color\":{\"value\":\"lightgrey\"},\"left_units\":\"screen\",\"level\":\"overlay\",\"line_alpha\":{\"value\":1.0},\"line_color\":{\"value\":\"black\"},\"line_dash\":[4,4],\"line_width\":{\"value\":2},\"plot\":null,\"render_mode\":\"css\",\"right_units\":\"screen\",\"top_units\":\"screen\"},\"id\":\"25c40c60-c70b-41ae-8155-213b3a110ba3\",\"type\":\"BoxAnnotation\"},{\"attributes\":{},\"id\":\"75ac37ed-ed27-4836-9834-fd348b1ab816\",\"type\":\"HelpTool\"},{\"attributes\":{\"source\":{\"id\":\"9f01777e-1a34-4d07-9dd7-a12cc134a090\",\"type\":\"ColumnDataSource\"}},\"id\":\"0dfe3bb4-222f-49a0-a5b8-695afeac918f\",\"type\":\"CDSView\"},{\"attributes\":{\"callback\":null},\"id\":\"bab557cd-7984-47a5-ac72-47ca3eefdf86\",\"type\":\"DataRange1d\"},{\"attributes\":{\"line_color\":\"#1f77b4\",\"x\":{\"field\":\"Days_from_start\"},\"y\":{\"field\":\"logValue\"}},\"id\":\"5469d174-a782-4a24-8dd8-b8e6db582799\",\"type\":\"Line\"},{\"attributes\":{},\"id\":\"869f6271-e2cd-4d18-b1cf-9348677f5ca4\",\"type\":\"BasicTicker\"},{\"attributes\":{},\"id\":\"29c44d6d-34d0-497e-97b3-0ac9dac97e5d\",\"type\":\"SaveTool\"},{\"attributes\":{\"axis_label\":\"log(Difficult)\",\"formatter\":{\"id\":\"b688ea09-ac86-458f-ac3d-d127d55b9d2d\",\"type\":\"BasicTickFormatter\"},\"plot\":{\"id\":\"45b35b64-d77a-4b82-8c8b-3d8ca2d30057\",\"subtype\":\"Figure\",\"type\":\"Plot\"},\"ticker\":{\"id\":\"46b47e68-e0e8-46bf-9b76-902089016396\",\"type\":\"BasicTicker\"}},\"id\":\"1181d603-1095-496a-ab3a-eb9df83634df\",\"type\":\"LinearAxis\"},{\"attributes\":{},\"id\":\"46b47e68-e0e8-46bf-9b76-902089016396\",\"type\":\"BasicTicker\"},{\"attributes\":{\"axis_label\":\"Date from start\",\"formatter\":{\"id\":\"bf4b74f8-6721-49d8-83d8-9149962971aa\",\"type\":\"BasicTickFormatter\"},\"plot\":{\"id\":\"45b35b64-d77a-4b82-8c8b-3d8ca2d30057\",\"subtype\":\"Figure\",\"type\":\"Plot\"},\"ticker\":{\"id\":\"869f6271-e2cd-4d18-b1cf-9348677f5ca4\",\"type\":\"BasicTicker\"}},\"id\":\"494c6828-20ff-4900-b40c-f4b63b491a35\",\"type\":\"LinearAxis\"},{\"attributes\":{\"callback\":null,\"column_names\":[\"Days_from_start\",\"index\",\"Data\",\"logValue\",\"Value\"],\"data\":{\"Data\":{\"__ndarray__\":\"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\",\"dtype\":\"float64\",\"shape\":[365]},\"Days_from_start\":[0,1,2,3,4,5,6,7,8,9,10,11,12,13,14,15,16,17,18,19,20,21,22,23,24,25,26,27,28,29,30,31,32,33,34,35,36,37,38,39,40,41,42,43,44,45,46,47,48,49,50,51,52,53,54,55,56,57,58,59,60,61,62,63,64,65,66,67,68,69,70,71,72,73,74,75,76,77,78,79,80,81,82,83,84,85,86,87,88,89,90,91,92,93,94,95,96,97,98,99,100,101,102,103,104,105,106,107,108,109,110,111,112,113,114,115,116,117,118,119,120,121,122,123,124,125,126,127,128,129,130,131,132,133,134,135,136,137,138,139,140,141,142,143,144,145,146,147,148,149,150,151,152,153,154,155,156,157,158,159,160,161,162,163,164,165,166,167,168,169,170,171,172,173,174,175,176,177,178,179,180,181,182,183,184,185,186,187,188,189,190,191,192,193,194,195,196,197,198,199,200,201,202,203,204,205,206,207,208,209,210,211,212,213,214,215,216,217,218,219,220,221,222,223,224,225,226,227,228,229,230,231,232,233,234,235,236,237,238,239,240,241,242,243,244,245,246,247,248,249,250,251,252,253,254,255,256,257,258,259,260,261,262,263,264,265,266,267,268,269,270,271,272,273,274,275,276,277,278,279,280,281,282,283,284,285,286,287,288,289,290,291,292,293,294,295,296,297,298,299,300,301,302,303,304,305,306,307,308,309,310,311,312,313,314,315,316,317,318,319,320,321,322,323,324,325,326,327,328,329,330,331,332,333,334,335,336,337,338,339,340,341,342,343,344,345,346,347,348,349,350,351,352,353,354,355,356,357,358,359,360,361,362,363,364],\"Value\":{\"__ndarray__\":\"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\",\"dtype\":\"float64\",\"shape\":[365]},\"index\":[0,1,2,3,4,5,6,7,8,9,10,11,12,13,14,15,16,17,18,19,20,21,22,23,24,25,26,27,28,29,30,31,32,33,34,35,36,37,38,39,40,41,42,43,44,45,46,47,48,49,50,51,52,53,54,55,56,57,58,59,60,61,62,63,64,65,66,67,68,69,70,71,72,73,74,75,76,77,78,79,80,81,82,83,84,85,86,87,88,89,90,91,92,93,94,95,96,97,98,99,100,101,102,103,104,105,106,107,108,109,110,111,112,113,114,115,116,117,118,119,120,121,122,123,124,125,126,127,128,129,130,131,132,133,134,135,136,137,138,139,140,141,142,143,144,145,146,147,148,149,150,151,152,153,154,155,156,157,158,159,160,161,162,163,164,165,166,167,168,169,170,171,172,173,174,175,176,177,178,179,180,181,182,183,184,185,186,187,188,189,190,191,192,193,194,195,196,197,198,199,200,201,202,203,204,205,206,207,208,209,210,211,212,213,214,215,216,217,218,219,220,221,222,223,224,225,226,227,228,229,230,231,232,233,234,235,236,237,238,239,240,241,242,243,244,245,246,247,248,249,250,251,252,253,254,255,256,257,258,259,260,261,262,263,264,265,266,267,268,269,270,271,272,273,274,275,276,277,278,279,280,281,282,283,284,285,286,287,288,289,290,291,292,293,294,295,296,297,298,299,300,301,302,303,304,305,306,307,308,309,310,311,312,313,314,315,316,317,318,319,320,321,322,323,324,325,326,327,328,329,330,331,332,333,334,335,336,337,338,339,340,341,342,343,344,345,346,347,348,349,350,351,352,353,354,355,356,357,358,359,360,361,362,363,364],\"logValue\":{\"__ndarray__\":\"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\",\"dtype\":\"float64\",\"shape\":[365]}},\"selected\":null,\"selection_policy\":null},\"id\":\"9f01777e-1a34-4d07-9dd7-a12cc134a090\",\"type\":\"ColumnDataSource\"},{\"attributes\":{\"plot\":null,\"text\":\"\"},\"id\":\"5d227209-7237-4aa7-b4b6-ce81543c994f\",\"type\":\"Title\"},{\"attributes\":{\"data_source\":{\"id\":\"9f01777e-1a34-4d07-9dd7-a12cc134a090\",\"type\":\"ColumnDataSource\"},\"glyph\":{\"id\":\"5469d174-a782-4a24-8dd8-b8e6db582799\",\"type\":\"Line\"},\"hover_glyph\":null,\"muted_glyph\":null,\"nonselection_glyph\":{\"id\":\"eff5aa67-7ffe-46ce-869b-333770465f2a\",\"type\":\"Line\"},\"selection_glyph\":null,\"view\":{\"id\":\"0dfe3bb4-222f-49a0-a5b8-695afeac918f\",\"type\":\"CDSView\"}},\"id\":\"c0f83b6c-7007-4fcb-b87f-abfe82d993c6\",\"type\":\"GlyphRenderer\"},{\"attributes\":{},\"id\":\"bf4b74f8-6721-49d8-83d8-9149962971aa\",\"type\":\"BasicTickFormatter\"},{\"attributes\":{},\"id\":\"6f7ce0ed-8267-4cc2-a829-0b7f6acc3453\",\"type\":\"LinearScale\"},{\"attributes\":{},\"id\":\"b688ea09-ac86-458f-ac3d-d127d55b9d2d\",\"type\":\"BasicTickFormatter\"},{\"attributes\":{\"below\":[{\"id\":\"494c6828-20ff-4900-b40c-f4b63b491a35\",\"type\":\"LinearAxis\"}],\"left\":[{\"id\":\"1181d603-1095-496a-ab3a-eb9df83634df\",\"type\":\"LinearAxis\"}],\"renderers\":[{\"id\":\"494c6828-20ff-4900-b40c-f4b63b491a35\",\"type\":\"LinearAxis\"},{\"id\":\"a75f507b-fe87-4afc-9392-fcb4c438771a\",\"type\":\"Grid\"},{\"id\":\"1181d603-1095-496a-ab3a-eb9df83634df\",\"type\":\"LinearAxis\"},{\"id\":\"0537efea-8bd7-4fed-9a20-c0a51214c4ca\",\"type\":\"Grid\"},{\"id\":\"25c40c60-c70b-41ae-8155-213b3a110ba3\",\"type\":\"BoxAnnotation\"},{\"id\":\"c0f83b6c-7007-4fcb-b87f-abfe82d993c6\",\"type\":\"GlyphRenderer\"}],\"title\":{\"id\":\"5d227209-7237-4aa7-b4b6-ce81543c994f\",\"type\":\"Title\"},\"toolbar\":{\"id\":\"ad5e4160-9753-4b24-92aa-2d31e2fa1e87\",\"type\":\"Toolbar\"},\"x_range\":{\"id\":\"d3a54c6f-d659-4a18-9f52-8fac637a31d4\",\"type\":\"DataRange1d\"},\"x_scale\":{\"id\":\"6f7ce0ed-8267-4cc2-a829-0b7f6acc3453\",\"type\":\"LinearScale\"},\"y_range\":{\"id\":\"bab557cd-7984-47a5-ac72-47ca3eefdf86\",\"type\":\"DataRange1d\"},\"y_scale\":{\"id\":\"9a08f10a-3e48-4c32-9eec-dc1f1788a324\",\"type\":\"LinearScale\"}},\"id\":\"45b35b64-d77a-4b82-8c8b-3d8ca2d30057\",\"subtype\":\"Figure\",\"type\":\"Plot\"},{\"attributes\":{\"active_drag\":\"auto\",\"active_inspect\":\"auto\",\"active_scroll\":\"auto\",\"active_tap\":\"auto\",\"tools\":[{\"id\":\"854b3fc7-37cc-485e-ac4f-64635a5c59e9\",\"type\":\"PanTool\"},{\"id\":\"912e46b3-dcc2-43cd-bee3-7a795449565f\",\"type\":\"WheelZoomTool\"},{\"id\":\"9c02ddd0-8dd5-4ccb-b6cc-14b827a1fdeb\",\"type\":\"BoxZoomTool\"},{\"id\":\"29c44d6d-34d0-497e-97b3-0ac9dac97e5d\",\"type\":\"SaveTool\"},{\"id\":\"0ead83d9-b990-460f-8924-a38d6dcf52a0\",\"type\":\"ResetTool\"},{\"id\":\"75ac37ed-ed27-4836-9834-fd348b1ab816\",\"type\":\"HelpTool\"}]},\"id\":\"ad5e4160-9753-4b24-92aa-2d31e2fa1e87\",\"type\":\"Toolbar\"},{\"attributes\":{},\"id\":\"0ead83d9-b990-460f-8924-a38d6dcf52a0\",\"type\":\"ResetTool\"},{\"attributes\":{},\"id\":\"9a08f10a-3e48-4c32-9eec-dc1f1788a324\",\"type\":\"LinearScale\"},{\"attributes\":{\"line_alpha\":0.1,\"line_color\":\"#1f77b4\",\"x\":{\"field\":\"Days_from_start\"},\"y\":{\"field\":\"logValue\"}},\"id\":\"eff5aa67-7ffe-46ce-869b-333770465f2a\",\"type\":\"Line\"},{\"attributes\":{\"callback\":null},\"id\":\"d3a54c6f-d659-4a18-9f52-8fac637a31d4\",\"type\":\"DataRange1d\"}],\"root_ids\":[\"45b35b64-d77a-4b82-8c8b-3d8ca2d30057\"]},\"title\":\"Bokeh Application\",\"version\":\"0.12.15dev5\"}};\n",
       "  var render_items = [{\"docid\":\"981ecdd5-cab0-408c-b21c-1a4168d852d1\",\"elementid\":\"5f53b65f-c894-41c2-a562-6676b545ee8f\",\"modelid\":\"45b35b64-d77a-4b82-8c8b-3d8ca2d30057\"}];\n",
       "  root.Bokeh.embed.embed_items_notebook(docs_json, render_items);\n",
       "\n",
       "  }\n",
       "  if (root.Bokeh !== undefined) {\n",
       "    embed_document(root);\n",
       "  } else {\n",
       "    var attempts = 0;\n",
       "    var timer = setInterval(function(root) {\n",
       "      if (root.Bokeh !== undefined) {\n",
       "        embed_document(root);\n",
       "        clearInterval(timer);\n",
       "      }\n",
       "      attempts++;\n",
       "      if (attempts > 100) {\n",
       "        console.log(\"Bokeh: ERROR: Unable to run BokehJS code because BokehJS library is missing\")\n",
       "        clearInterval(timer);\n",
       "      }\n",
       "    }, 10, root)\n",
       "  }\n",
       "})(window);"
      ],
      "application/vnd.bokehjs_exec.v0+json": ""
     },
     "metadata": {
      "application/vnd.bokehjs_exec.v0+json": {
       "id": "45b35b64-d77a-4b82-8c8b-3d8ca2d30057"
      }
     },
     "output_type": "display_data"
    }
   ],
   "source": [
    "p = figure(x_axis_label='Date from start', y_axis_label='log(Difficult)')\n",
    "source=ColumnDataSource(Dati)\n",
    "p.line(source=source,x=\"Days_from_start\",y=\"logValue\")\n",
    "show(p)"
   ]
  },
  {
   "cell_type": "code",
   "execution_count": 19,
   "metadata": {},
   "outputs": [],
   "source": [
    "from sklearn.linear_model import LinearRegression"
   ]
  },
  {
   "cell_type": "code",
   "execution_count": 20,
   "metadata": {},
   "outputs": [],
   "source": [
    "lr=LinearRegression()"
   ]
  },
  {
   "cell_type": "code",
   "execution_count": 21,
   "metadata": {},
   "outputs": [
    {
     "data": {
      "text/plain": [
       "LinearRegression(copy_X=True, fit_intercept=True, n_jobs=1, normalize=False)"
      ]
     },
     "execution_count": 21,
     "metadata": {},
     "output_type": "execute_result"
    }
   ],
   "source": [
    "X=Dati.Days_from_start.values.reshape(-1,1)\n",
    "Y=Dati.logValue.values.reshape(-1,1)\n",
    "lr.fit(X,Y)"
   ]
  },
  {
   "cell_type": "code",
   "execution_count": 22,
   "metadata": {},
   "outputs": [],
   "source": [
    "Dati[\"Linear_Pred\"]=lr.predict(X)"
   ]
  },
  {
   "cell_type": "code",
   "execution_count": 23,
   "metadata": {},
   "outputs": [
    {
     "data": {
      "text/html": [
       "\n",
       "<div class=\"bk-root\">\n",
       "    <div class=\"bk-plotdiv\" id=\"1e8153fd-c0ab-4197-af96-0511b4ab4ecd\"></div>\n",
       "</div>"
      ]
     },
     "metadata": {},
     "output_type": "display_data"
    },
    {
     "data": {
      "application/javascript": [
       "(function(root) {\n",
       "  function embed_document(root) {\n",
       "    \n",
       "  var docs_json = {\"def17784-6b1d-4da1-bd3e-b468d039d4be\":{\"roots\":{\"references\":[{\"attributes\":{},\"id\":\"28b3a8ad-4efd-471b-b007-a0f68ce53066\",\"type\":\"LinearScale\"},{\"attributes\":{},\"id\":\"756febab-0a83-4789-8754-b5842f4fe296\",\"type\":\"BasicTickFormatter\"},{\"attributes\":{\"data_source\":{\"id\":\"38d434ae-7b6e-4363-8cf8-b0421d337b05\",\"type\":\"ColumnDataSource\"},\"glyph\":{\"id\":\"f8e17f59-7f85-4165-a24b-0c063c8987b3\",\"type\":\"Line\"},\"hover_glyph\":null,\"muted_glyph\":null,\"nonselection_glyph\":{\"id\":\"1db4126a-f9f4-4233-841b-6a827ff90cb1\",\"type\":\"Line\"},\"selection_glyph\":null,\"view\":{\"id\":\"a826905b-130e-4f83-a11d-a7386d6bcca8\",\"type\":\"CDSView\"}},\"id\":\"3d351d64-384c-46d9-953e-24710c02d749\",\"type\":\"GlyphRenderer\"},{\"attributes\":{\"plot\":null,\"text\":\"\"},\"id\":\"f9d8ac86-2340-4dad-8b06-79c2380872db\",\"type\":\"Title\"},{\"attributes\":{\"axis_label\":\"log(Difficult)\",\"formatter\":{\"id\":\"75e7f455-571a-4821-b38a-4ae6fd312c9a\",\"type\":\"BasicTickFormatter\"},\"plot\":{\"id\":\"80b132b9-6594-4467-a397-dbc774b8a5df\",\"subtype\":\"Figure\",\"type\":\"Plot\"},\"ticker\":{\"id\":\"672bb702-4069-406b-9e08-2028c134e216\",\"type\":\"BasicTicker\"}},\"id\":\"99543207-becd-4fa0-9a95-c46f1807d607\",\"type\":\"LinearAxis\"},{\"attributes\":{\"callback\":null,\"column_names\":[\"Days_from_start\",\"index\",\"Data\",\"Linear_Pred\",\"logValue\",\"Value\"],\"data\":{\"Data\":{\"__ndarray__\":\"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\",\"dtype\":\"float64\",\"shape\":[365]},\"Days_from_start\":[0,1,2,3,4,5,6,7,8,9,10,11,12,13,14,15,16,17,18,19,20,21,22,23,24,25,26,27,28,29,30,31,32,33,34,35,36,37,38,39,40,41,42,43,44,45,46,47,48,49,50,51,52,53,54,55,56,57,58,59,60,61,62,63,64,65,66,67,68,69,70,71,72,73,74,75,76,77,78,79,80,81,82,83,84,85,86,87,88,89,90,91,92,93,94,95,96,97,98,99,100,101,102,103,104,105,106,107,108,109,110,111,112,113,114,115,116,117,118,119,120,121,122,123,124,125,126,127,128,129,130,131,132,133,134,135,136,137,138,139,140,141,142,143,144,145,146,147,148,149,150,151,152,153,154,155,156,157,158,159,160,161,162,163,164,165,166,167,168,169,170,171,172,173,174,175,176,177,178,179,180,181,182,183,184,185,186,187,188,189,190,191,192,193,194,195,196,197,198,199,200,201,202,203,204,205,206,207,208,209,210,211,212,213,214,215,216,217,218,219,220,221,222,223,224,225,226,227,228,229,230,231,232,233,234,235,236,237,238,239,240,241,242,243,244,245,246,247,248,249,250,251,252,253,254,255,256,257,258,259,260,261,262,263,264,265,266,267,268,269,270,271,272,273,274,275,276,277,278,279,280,281,282,283,284,285,286,287,288,289,290,291,292,293,294,295,296,297,298,299,300,301,302,303,304,305,306,307,308,309,310,311,312,313,314,315,316,317,318,319,320,321,322,323,324,325,326,327,328,329,330,331,332,333,334,335,336,337,338,339,340,341,342,343,344,345,346,347,348,349,350,351,352,353,354,355,356,357,358,359,360,361,362,363,364],\"Linear_Pred\":{\"__ndarray__\":\"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\",\"dtype\":\"float64\",\"shape\":[365]},\"Value\":{\"__ndarray__\":\"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\",\"dtype\":\"float64\",\"shape\":[365]},\"index\":[0,1,2,3,4,5,6,7,8,9,10,11,12,13,14,15,16,17,18,19,20,21,22,23,24,25,26,27,28,29,30,31,32,33,34,35,36,37,38,39,40,41,42,43,44,45,46,47,48,49,50,51,52,53,54,55,56,57,58,59,60,61,62,63,64,65,66,67,68,69,70,71,72,73,74,75,76,77,78,79,80,81,82,83,84,85,86,87,88,89,90,91,92,93,94,95,96,97,98,99,100,101,102,103,104,105,106,107,108,109,110,111,112,113,114,115,116,117,118,119,120,121,122,123,124,125,126,127,128,129,130,131,132,133,134,135,136,137,138,139,140,141,142,143,144,145,146,147,148,149,150,151,152,153,154,155,156,157,158,159,160,161,162,163,164,165,166,167,168,169,170,171,172,173,174,175,176,177,178,179,180,181,182,183,184,185,186,187,188,189,190,191,192,193,194,195,196,197,198,199,200,201,202,203,204,205,206,207,208,209,210,211,212,213,214,215,216,217,218,219,220,221,222,223,224,225,226,227,228,229,230,231,232,233,234,235,236,237,238,239,240,241,242,243,244,245,246,247,248,249,250,251,252,253,254,255,256,257,258,259,260,261,262,263,264,265,266,267,268,269,270,271,272,273,274,275,276,277,278,279,280,281,282,283,284,285,286,287,288,289,290,291,292,293,294,295,296,297,298,299,300,301,302,303,304,305,306,307,308,309,310,311,312,313,314,315,316,317,318,319,320,321,322,323,324,325,326,327,328,329,330,331,332,333,334,335,336,337,338,339,340,341,342,343,344,345,346,347,348,349,350,351,352,353,354,355,356,357,358,359,360,361,362,363,364],\"logValue\":{\"__ndarray__\":\"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\",\"dtype\":\"float64\",\"shape\":[365]}},\"selected\":null,\"selection_policy\":null},\"id\":\"38d434ae-7b6e-4363-8cf8-b0421d337b05\",\"type\":\"ColumnDataSource\"},{\"attributes\":{\"axis_label\":\"Date from start\",\"formatter\":{\"id\":\"756febab-0a83-4789-8754-b5842f4fe296\",\"type\":\"BasicTickFormatter\"},\"plot\":{\"id\":\"80b132b9-6594-4467-a397-dbc774b8a5df\",\"subtype\":\"Figure\",\"type\":\"Plot\"},\"ticker\":{\"id\":\"25f3809e-b5bb-4704-99e4-71aa9684ec45\",\"type\":\"BasicTicker\"}},\"id\":\"4d25af7a-58f5-4803-ad4e-d2968bba198a\",\"type\":\"LinearAxis\"},{\"attributes\":{\"callback\":null},\"id\":\"6d28f182-799f-4d9a-ad7d-37ee22a771fa\",\"type\":\"DataRange1d\"},{\"attributes\":{\"fill_alpha\":{\"value\":0.3},\"fill_color\":{\"value\":\"red\"},\"line_alpha\":{\"value\":0.3},\"line_color\":{\"value\":\"red\"},\"size\":{\"units\":\"screen\",\"value\":1},\"x\":{\"field\":\"Days_from_start\"},\"y\":{\"field\":\"Linear_Pred\"}},\"id\":\"3d45d798-7815-4aef-be26-0ac2712c8523\",\"type\":\"Circle\"},{\"attributes\":{},\"id\":\"672bb702-4069-406b-9e08-2028c134e216\",\"type\":\"BasicTicker\"},{\"attributes\":{},\"id\":\"25f3809e-b5bb-4704-99e4-71aa9684ec45\",\"type\":\"BasicTicker\"},{\"attributes\":{},\"id\":\"da6da85d-4d8e-4947-926b-b44c6fe44904\",\"type\":\"SaveTool\"},{\"attributes\":{},\"id\":\"a4636492-26ae-416a-935c-30025d168388\",\"type\":\"HelpTool\"},{\"attributes\":{},\"id\":\"a1340287-29a3-49c1-bd22-015b8f6fd1d6\",\"type\":\"PanTool\"},{\"attributes\":{\"active_drag\":\"auto\",\"active_inspect\":\"auto\",\"active_scroll\":\"auto\",\"active_tap\":\"auto\",\"tools\":[{\"id\":\"a1340287-29a3-49c1-bd22-015b8f6fd1d6\",\"type\":\"PanTool\"},{\"id\":\"51559021-876b-438f-a843-a4b769c21118\",\"type\":\"WheelZoomTool\"},{\"id\":\"559c86f1-eb97-4281-8b31-0f1597ed0ddb\",\"type\":\"BoxZoomTool\"},{\"id\":\"da6da85d-4d8e-4947-926b-b44c6fe44904\",\"type\":\"SaveTool\"},{\"id\":\"512179f5-a262-4324-90a2-b5649675a846\",\"type\":\"ResetTool\"},{\"id\":\"a4636492-26ae-416a-935c-30025d168388\",\"type\":\"HelpTool\"}]},\"id\":\"fe267ac7-c1eb-4f6f-b441-9a98822f8422\",\"type\":\"Toolbar\"},{\"attributes\":{\"line_alpha\":0.1,\"line_color\":\"#1f77b4\",\"x\":{\"field\":\"Days_from_start\"},\"y\":{\"field\":\"logValue\"}},\"id\":\"1db4126a-f9f4-4233-841b-6a827ff90cb1\",\"type\":\"Line\"},{\"attributes\":{\"overlay\":{\"id\":\"9c9268a8-21d3-4208-b131-13b7c7334e9c\",\"type\":\"BoxAnnotation\"}},\"id\":\"559c86f1-eb97-4281-8b31-0f1597ed0ddb\",\"type\":\"BoxZoomTool\"},{\"attributes\":{\"below\":[{\"id\":\"4d25af7a-58f5-4803-ad4e-d2968bba198a\",\"type\":\"LinearAxis\"}],\"left\":[{\"id\":\"99543207-becd-4fa0-9a95-c46f1807d607\",\"type\":\"LinearAxis\"}],\"renderers\":[{\"id\":\"4d25af7a-58f5-4803-ad4e-d2968bba198a\",\"type\":\"LinearAxis\"},{\"id\":\"c7ddd02b-a144-4ea0-a617-e740bae033b7\",\"type\":\"Grid\"},{\"id\":\"99543207-becd-4fa0-9a95-c46f1807d607\",\"type\":\"LinearAxis\"},{\"id\":\"30916935-3c05-468d-a527-b396582c2564\",\"type\":\"Grid\"},{\"id\":\"9c9268a8-21d3-4208-b131-13b7c7334e9c\",\"type\":\"BoxAnnotation\"},{\"id\":\"3d351d64-384c-46d9-953e-24710c02d749\",\"type\":\"GlyphRenderer\"},{\"id\":\"69ec8d88-993d-4921-84a5-af8a43f8a56a\",\"type\":\"GlyphRenderer\"}],\"title\":{\"id\":\"f9d8ac86-2340-4dad-8b06-79c2380872db\",\"type\":\"Title\"},\"toolbar\":{\"id\":\"fe267ac7-c1eb-4f6f-b441-9a98822f8422\",\"type\":\"Toolbar\"},\"x_range\":{\"id\":\"6d28f182-799f-4d9a-ad7d-37ee22a771fa\",\"type\":\"DataRange1d\"},\"x_scale\":{\"id\":\"ebab4c1a-8127-4160-9017-03a06d6b1063\",\"type\":\"LinearScale\"},\"y_range\":{\"id\":\"fbfed092-e54b-49ca-87af-10b43712d4b8\",\"type\":\"DataRange1d\"},\"y_scale\":{\"id\":\"28b3a8ad-4efd-471b-b007-a0f68ce53066\",\"type\":\"LinearScale\"}},\"id\":\"80b132b9-6594-4467-a397-dbc774b8a5df\",\"subtype\":\"Figure\",\"type\":\"Plot\"},{\"attributes\":{\"source\":{\"id\":\"38d434ae-7b6e-4363-8cf8-b0421d337b05\",\"type\":\"ColumnDataSource\"}},\"id\":\"93c7849e-2107-451d-b39c-7c0c7687d275\",\"type\":\"CDSView\"},{\"attributes\":{},\"id\":\"512179f5-a262-4324-90a2-b5649675a846\",\"type\":\"ResetTool\"},{\"attributes\":{},\"id\":\"ebab4c1a-8127-4160-9017-03a06d6b1063\",\"type\":\"LinearScale\"},{\"attributes\":{},\"id\":\"51559021-876b-438f-a843-a4b769c21118\",\"type\":\"WheelZoomTool\"},{\"attributes\":{\"dimension\":1,\"plot\":{\"id\":\"80b132b9-6594-4467-a397-dbc774b8a5df\",\"subtype\":\"Figure\",\"type\":\"Plot\"},\"ticker\":{\"id\":\"672bb702-4069-406b-9e08-2028c134e216\",\"type\":\"BasicTicker\"}},\"id\":\"30916935-3c05-468d-a527-b396582c2564\",\"type\":\"Grid\"},{\"attributes\":{\"bottom_units\":\"screen\",\"fill_alpha\":{\"value\":0.5},\"fill_color\":{\"value\":\"lightgrey\"},\"left_units\":\"screen\",\"level\":\"overlay\",\"line_alpha\":{\"value\":1.0},\"line_color\":{\"value\":\"black\"},\"line_dash\":[4,4],\"line_width\":{\"value\":2},\"plot\":null,\"render_mode\":\"css\",\"right_units\":\"screen\",\"top_units\":\"screen\"},\"id\":\"9c9268a8-21d3-4208-b131-13b7c7334e9c\",\"type\":\"BoxAnnotation\"},{\"attributes\":{\"fill_alpha\":{\"value\":0.1},\"fill_color\":{\"value\":\"#1f77b4\"},\"line_alpha\":{\"value\":0.1},\"line_color\":{\"value\":\"#1f77b4\"},\"size\":{\"units\":\"screen\",\"value\":1},\"x\":{\"field\":\"Days_from_start\"},\"y\":{\"field\":\"Linear_Pred\"}},\"id\":\"21ad6d77-37bc-48a7-8f87-82a2d3a2c7a8\",\"type\":\"Circle\"},{\"attributes\":{},\"id\":\"75e7f455-571a-4821-b38a-4ae6fd312c9a\",\"type\":\"BasicTickFormatter\"},{\"attributes\":{\"source\":{\"id\":\"38d434ae-7b6e-4363-8cf8-b0421d337b05\",\"type\":\"ColumnDataSource\"}},\"id\":\"a826905b-130e-4f83-a11d-a7386d6bcca8\",\"type\":\"CDSView\"},{\"attributes\":{\"plot\":{\"id\":\"80b132b9-6594-4467-a397-dbc774b8a5df\",\"subtype\":\"Figure\",\"type\":\"Plot\"},\"ticker\":{\"id\":\"25f3809e-b5bb-4704-99e4-71aa9684ec45\",\"type\":\"BasicTicker\"}},\"id\":\"c7ddd02b-a144-4ea0-a617-e740bae033b7\",\"type\":\"Grid\"},{\"attributes\":{\"callback\":null},\"id\":\"fbfed092-e54b-49ca-87af-10b43712d4b8\",\"type\":\"DataRange1d\"},{\"attributes\":{\"line_color\":\"#1f77b4\",\"x\":{\"field\":\"Days_from_start\"},\"y\":{\"field\":\"logValue\"}},\"id\":\"f8e17f59-7f85-4165-a24b-0c063c8987b3\",\"type\":\"Line\"},{\"attributes\":{\"data_source\":{\"id\":\"38d434ae-7b6e-4363-8cf8-b0421d337b05\",\"type\":\"ColumnDataSource\"},\"glyph\":{\"id\":\"3d45d798-7815-4aef-be26-0ac2712c8523\",\"type\":\"Circle\"},\"hover_glyph\":null,\"muted_glyph\":null,\"nonselection_glyph\":{\"id\":\"21ad6d77-37bc-48a7-8f87-82a2d3a2c7a8\",\"type\":\"Circle\"},\"selection_glyph\":null,\"view\":{\"id\":\"93c7849e-2107-451d-b39c-7c0c7687d275\",\"type\":\"CDSView\"}},\"id\":\"69ec8d88-993d-4921-84a5-af8a43f8a56a\",\"type\":\"GlyphRenderer\"}],\"root_ids\":[\"80b132b9-6594-4467-a397-dbc774b8a5df\"]},\"title\":\"Bokeh Application\",\"version\":\"0.12.15dev5\"}};\n",
       "  var render_items = [{\"docid\":\"def17784-6b1d-4da1-bd3e-b468d039d4be\",\"elementid\":\"1e8153fd-c0ab-4197-af96-0511b4ab4ecd\",\"modelid\":\"80b132b9-6594-4467-a397-dbc774b8a5df\"}];\n",
       "  root.Bokeh.embed.embed_items_notebook(docs_json, render_items);\n",
       "\n",
       "  }\n",
       "  if (root.Bokeh !== undefined) {\n",
       "    embed_document(root);\n",
       "  } else {\n",
       "    var attempts = 0;\n",
       "    var timer = setInterval(function(root) {\n",
       "      if (root.Bokeh !== undefined) {\n",
       "        embed_document(root);\n",
       "        clearInterval(timer);\n",
       "      }\n",
       "      attempts++;\n",
       "      if (attempts > 100) {\n",
       "        console.log(\"Bokeh: ERROR: Unable to run BokehJS code because BokehJS library is missing\")\n",
       "        clearInterval(timer);\n",
       "      }\n",
       "    }, 10, root)\n",
       "  }\n",
       "})(window);"
      ],
      "application/vnd.bokehjs_exec.v0+json": ""
     },
     "metadata": {
      "application/vnd.bokehjs_exec.v0+json": {
       "id": "80b132b9-6594-4467-a397-dbc774b8a5df"
      }
     },
     "output_type": "display_data"
    }
   ],
   "source": [
    "p = figure(x_axis_label='Date from start', y_axis_label='log(Difficult)')\n",
    "source=ColumnDataSource(Dati)\n",
    "p.line(source=source,x=\"Days_from_start\",y=\"logValue\")\n",
    "p.circle(source=source,x=\"Days_from_start\",y=\"Linear_Pred\",color=\"red\",alpha=0.3,size=1)\n",
    "show(p)"
   ]
  },
  {
   "cell_type": "code",
   "execution_count": 24,
   "metadata": {},
   "outputs": [
    {
     "name": "stderr",
     "output_type": "stream",
     "text": [
      "/home/ettore1461/anaconda3/envs/sheep/lib/python3.5/site-packages/statsmodels/compat/pandas.py:56: FutureWarning: The pandas.core.datetools module is deprecated and will be removed in a future version. Please use the pandas.tseries module instead.\n",
      "  from pandas.core import datetools\n"
     ]
    }
   ],
   "source": [
    "import statsmodels.api as sm"
   ]
  },
  {
   "cell_type": "code",
   "execution_count": 70,
   "metadata": {},
   "outputs": [],
   "source": [
    "intercept=np.ones(X.shape)\n",
    "temp=pd.DataFrame({\"Diff\":Y.reshape(X.size),\"t\":X.reshape(X.size),\"t2\":(X**2).reshape(X.size)\n",
    "                  ,\"int\":intercept.reshape(X.size)\n",
    "                  })\n",
    "#mod=sm.OLS(Y,np.hstack((X**2,X,intercept)))\n",
    "mod=sm.OLS(temp[\"Diff\"],temp[[\"t\",\"t2\"\n",
    "                             ,\"int\"\n",
    "                             ]])"
   ]
  },
  {
   "cell_type": "code",
   "execution_count": 71,
   "metadata": {},
   "outputs": [
    {
     "data": {
      "text/html": [
       "<table class=\"simpletable\">\n",
       "<caption>OLS Regression Results</caption>\n",
       "<tr>\n",
       "  <th>Dep. Variable:</th>          <td>Diff</td>       <th>  R-squared:         </th> <td>   0.989</td> \n",
       "</tr>\n",
       "<tr>\n",
       "  <th>Model:</th>                   <td>OLS</td>       <th>  Adj. R-squared:    </th> <td>   0.989</td> \n",
       "</tr>\n",
       "<tr>\n",
       "  <th>Method:</th>             <td>Least Squares</td>  <th>  F-statistic:       </th> <td>1.613e+04</td>\n",
       "</tr>\n",
       "<tr>\n",
       "  <th>Date:</th>             <td>Wed, 18 Apr 2018</td> <th>  Prob (F-statistic):</th>  <td>  0.00</td>  \n",
       "</tr>\n",
       "<tr>\n",
       "  <th>Time:</th>                 <td>17:33:51</td>     <th>  Log-Likelihood:    </th> <td>  485.70</td> \n",
       "</tr>\n",
       "<tr>\n",
       "  <th>No. Observations:</th>      <td>   365</td>      <th>  AIC:               </th> <td>  -965.4</td> \n",
       "</tr>\n",
       "<tr>\n",
       "  <th>Df Residuals:</th>          <td>   362</td>      <th>  BIC:               </th> <td>  -953.7</td> \n",
       "</tr>\n",
       "<tr>\n",
       "  <th>Df Model:</th>              <td>     2</td>      <th>                     </th>     <td> </td>    \n",
       "</tr>\n",
       "<tr>\n",
       "  <th>Covariance Type:</th>      <td>nonrobust</td>    <th>                     </th>     <td> </td>    \n",
       "</tr>\n",
       "</table>\n",
       "<table class=\"simpletable\">\n",
       "<tr>\n",
       "   <td></td>      <th>coef</th>     <th>std err</th>      <th>t</th>      <th>P>|t|</th>  <th>[0.025</th>    <th>0.975]</th>  \n",
       "</tr>\n",
       "<tr>\n",
       "  <th>t</th>   <td>    0.0036</td> <td>    0.000</td> <td>   28.362</td> <td> 0.000</td> <td>    0.003</td> <td>    0.004</td>\n",
       "</tr>\n",
       "<tr>\n",
       "  <th>t2</th>  <td> 5.756e-06</td> <td> 3.38e-07</td> <td>   17.003</td> <td> 0.000</td> <td> 5.09e-06</td> <td> 6.42e-06</td>\n",
       "</tr>\n",
       "<tr>\n",
       "  <th>int</th> <td>   26.9706</td> <td>    0.010</td> <td> 2689.335</td> <td> 0.000</td> <td>   26.951</td> <td>   26.990</td>\n",
       "</tr>\n",
       "</table>\n",
       "<table class=\"simpletable\">\n",
       "<tr>\n",
       "  <th>Omnibus:</th>       <td> 6.301</td> <th>  Durbin-Watson:     </th> <td>   0.103</td>\n",
       "</tr>\n",
       "<tr>\n",
       "  <th>Prob(Omnibus):</th> <td> 0.043</td> <th>  Jarque-Bera (JB):  </th> <td>   6.421</td>\n",
       "</tr>\n",
       "<tr>\n",
       "  <th>Skew:</th>          <td>-0.306</td> <th>  Prob(JB):          </th> <td>  0.0403</td>\n",
       "</tr>\n",
       "<tr>\n",
       "  <th>Kurtosis:</th>      <td> 2.784</td> <th>  Cond. No.          </th> <td>1.77e+05</td>\n",
       "</tr>\n",
       "</table>"
      ],
      "text/plain": [
       "<class 'statsmodels.iolib.summary.Summary'>\n",
       "\"\"\"\n",
       "                            OLS Regression Results                            \n",
       "==============================================================================\n",
       "Dep. Variable:                   Diff   R-squared:                       0.989\n",
       "Model:                            OLS   Adj. R-squared:                  0.989\n",
       "Method:                 Least Squares   F-statistic:                 1.613e+04\n",
       "Date:                Wed, 18 Apr 2018   Prob (F-statistic):               0.00\n",
       "Time:                        17:33:51   Log-Likelihood:                 485.70\n",
       "No. Observations:                 365   AIC:                            -965.4\n",
       "Df Residuals:                     362   BIC:                            -953.7\n",
       "Df Model:                           2                                         \n",
       "Covariance Type:            nonrobust                                         \n",
       "==============================================================================\n",
       "                 coef    std err          t      P>|t|      [0.025      0.975]\n",
       "------------------------------------------------------------------------------\n",
       "t              0.0036      0.000     28.362      0.000       0.003       0.004\n",
       "t2          5.756e-06   3.38e-07     17.003      0.000    5.09e-06    6.42e-06\n",
       "int           26.9706      0.010   2689.335      0.000      26.951      26.990\n",
       "==============================================================================\n",
       "Omnibus:                        6.301   Durbin-Watson:                   0.103\n",
       "Prob(Omnibus):                  0.043   Jarque-Bera (JB):                6.421\n",
       "Skew:                          -0.306   Prob(JB):                       0.0403\n",
       "Kurtosis:                       2.784   Cond. No.                     1.77e+05\n",
       "==============================================================================\n",
       "\n",
       "Warnings:\n",
       "[1] Standard Errors assume that the covariance matrix of the errors is correctly specified.\n",
       "[2] The condition number is large, 1.77e+05. This might indicate that there are\n",
       "strong multicollinearity or other numerical problems.\n",
       "\"\"\""
      ]
     },
     "execution_count": 71,
     "metadata": {},
     "output_type": "execute_result"
    }
   ],
   "source": [
    "res=mod.fit()\n",
    "res.summary()"
   ]
  },
  {
   "cell_type": "code",
   "execution_count": 66,
   "metadata": {},
   "outputs": [
    {
     "data": {
      "text/html": [
       "<div>\n",
       "<style scoped>\n",
       "    .dataframe tbody tr th:only-of-type {\n",
       "        vertical-align: middle;\n",
       "    }\n",
       "\n",
       "    .dataframe tbody tr th {\n",
       "        vertical-align: top;\n",
       "    }\n",
       "\n",
       "    .dataframe thead th {\n",
       "        text-align: right;\n",
       "    }\n",
       "</style>\n",
       "<table border=\"1\" class=\"dataframe\">\n",
       "  <thead>\n",
       "    <tr style=\"text-align: right;\">\n",
       "      <th></th>\n",
       "      <th>0</th>\n",
       "      <th>1</th>\n",
       "    </tr>\n",
       "  </thead>\n",
       "  <tbody>\n",
       "    <tr>\n",
       "      <th>t</th>\n",
       "      <td>0.003360</td>\n",
       "      <td>0.003860</td>\n",
       "    </tr>\n",
       "    <tr>\n",
       "      <th>t2</th>\n",
       "      <td>0.000005</td>\n",
       "      <td>0.000006</td>\n",
       "    </tr>\n",
       "    <tr>\n",
       "      <th>int</th>\n",
       "      <td>26.950873</td>\n",
       "      <td>26.990317</td>\n",
       "    </tr>\n",
       "  </tbody>\n",
       "</table>\n",
       "</div>"
      ],
      "text/plain": [
       "             0          1\n",
       "t     0.003360   0.003860\n",
       "t2    0.000005   0.000006\n",
       "int  26.950873  26.990317"
      ]
     },
     "execution_count": 66,
     "metadata": {},
     "output_type": "execute_result"
    }
   ],
   "source": [
    "res.conf_int()"
   ]
  },
  {
   "cell_type": "markdown",
   "metadata": {},
   "source": [
    "L'equazione è:\n",
    "\n",
    "$\\ln(Diff)=26.97+(5.756*10^{-6})t^2+0.0036t$"
   ]
  },
  {
   "cell_type": "code",
   "execution_count": 27,
   "metadata": {},
   "outputs": [],
   "source": [
    "Dati[\"Pred_mod1\"]=res.predict(np.hstack((X**2,X,intercept)))"
   ]
  },
  {
   "cell_type": "code",
   "execution_count": 28,
   "metadata": {},
   "outputs": [
    {
     "data": {
      "text/html": [
       "\n",
       "<div class=\"bk-root\">\n",
       "    <div class=\"bk-plotdiv\" id=\"d89e744a-3a3b-4cc8-a384-b22e9ce9e0a5\"></div>\n",
       "</div>"
      ]
     },
     "metadata": {},
     "output_type": "display_data"
    },
    {
     "data": {
      "application/javascript": [
       "(function(root) {\n",
       "  function embed_document(root) {\n",
       "    \n",
       "  var docs_json = {\"4b60885a-d52b-42d7-baca-206f881a2820\":{\"roots\":{\"references\":[{\"attributes\":{},\"id\":\"a857b13b-d9bc-43cf-b30c-96baf35b3e17\",\"type\":\"LinearScale\"},{\"attributes\":{},\"id\":\"f7cbc0b7-6219-4ed4-88ff-272c60f78bd1\",\"type\":\"PanTool\"},{\"attributes\":{\"data_source\":{\"id\":\"a040d6ec-f5ca-479a-9795-85b070ec483a\",\"type\":\"ColumnDataSource\"},\"glyph\":{\"id\":\"e1dd6514-0810-4b04-a95f-c9d632d2e2b6\",\"type\":\"Circle\"},\"hover_glyph\":null,\"muted_glyph\":null,\"nonselection_glyph\":{\"id\":\"505c19ff-78d2-4f15-9616-064a8ee3aa8e\",\"type\":\"Circle\"},\"selection_glyph\":null,\"view\":{\"id\":\"066ec97b-0467-46a4-8784-bd4205658fb6\",\"type\":\"CDSView\"}},\"id\":\"bc1c5377-c88b-4a2c-b1dc-86e35b456fcc\",\"type\":\"GlyphRenderer\"},{\"attributes\":{\"plot\":{\"id\":\"73333196-3f15-4a55-89ee-926f30f325fe\",\"subtype\":\"Figure\",\"type\":\"Plot\"},\"ticker\":{\"id\":\"50a5c217-8709-4dc4-97be-3e81f510e0c0\",\"type\":\"BasicTicker\"}},\"id\":\"06ae3346-8c8b-4ac2-af80-ab8707115060\",\"type\":\"Grid\"},{\"attributes\":{\"active_drag\":\"auto\",\"active_inspect\":\"auto\",\"active_scroll\":\"auto\",\"active_tap\":\"auto\",\"tools\":[{\"id\":\"f7cbc0b7-6219-4ed4-88ff-272c60f78bd1\",\"type\":\"PanTool\"},{\"id\":\"72360b72-bbf6-405e-ae6b-84380352aeca\",\"type\":\"WheelZoomTool\"},{\"id\":\"25454df5-b0be-4b1b-aab1-630b61fc7077\",\"type\":\"BoxZoomTool\"},{\"id\":\"c13dff82-d40b-40c8-bf92-fd383d9b6a7a\",\"type\":\"SaveTool\"},{\"id\":\"f3190132-2132-4a35-9257-6c9e20d38e3b\",\"type\":\"ResetTool\"},{\"id\":\"16948c78-67a8-42c7-9184-e273bf6097d5\",\"type\":\"HelpTool\"}]},\"id\":\"f69d7325-f9b8-47a9-8db4-6dc8580697d1\",\"type\":\"Toolbar\"},{\"attributes\":{\"source\":{\"id\":\"a040d6ec-f5ca-479a-9795-85b070ec483a\",\"type\":\"ColumnDataSource\"}},\"id\":\"066ec97b-0467-46a4-8784-bd4205658fb6\",\"type\":\"CDSView\"},{\"attributes\":{\"axis_label\":\"log(Difficult)\",\"formatter\":{\"id\":\"b658f85b-52c0-40f5-b3b4-ce892997b28e\",\"type\":\"BasicTickFormatter\"},\"plot\":{\"id\":\"73333196-3f15-4a55-89ee-926f30f325fe\",\"subtype\":\"Figure\",\"type\":\"Plot\"},\"ticker\":{\"id\":\"c2a2c202-ce74-4452-a2a4-a59fd40aedd9\",\"type\":\"BasicTicker\"}},\"id\":\"e789bb83-f0fc-4af7-b6b1-cdad3a876886\",\"type\":\"LinearAxis\"},{\"attributes\":{},\"id\":\"a1a29b90-8577-4936-b3c7-899d49507111\",\"type\":\"LinearScale\"},{\"attributes\":{\"overlay\":{\"id\":\"63da5dec-cdc0-4004-b8b4-eccf742cf668\",\"type\":\"BoxAnnotation\"}},\"id\":\"25454df5-b0be-4b1b-aab1-630b61fc7077\",\"type\":\"BoxZoomTool\"},{\"attributes\":{\"fill_alpha\":{\"value\":0.1},\"fill_color\":{\"value\":\"#1f77b4\"},\"line_alpha\":{\"value\":0.1},\"line_color\":{\"value\":\"#1f77b4\"},\"size\":{\"units\":\"screen\",\"value\":1},\"x\":{\"field\":\"Days_from_start\"},\"y\":{\"field\":\"Pred_mod1\"}},\"id\":\"505c19ff-78d2-4f15-9616-064a8ee3aa8e\",\"type\":\"Circle\"},{\"attributes\":{\"line_color\":\"#1f77b4\",\"x\":{\"field\":\"Days_from_start\"},\"y\":{\"field\":\"logValue\"}},\"id\":\"dd3b5197-b130-49e7-97fc-79007bb41569\",\"type\":\"Line\"},{\"attributes\":{},\"id\":\"f3190132-2132-4a35-9257-6c9e20d38e3b\",\"type\":\"ResetTool\"},{\"attributes\":{\"callback\":null},\"id\":\"e9f69a18-2d1b-42e5-87b7-36aaa0e3ca52\",\"type\":\"DataRange1d\"},{\"attributes\":{\"callback\":null},\"id\":\"1db7a35f-b4c2-4ad9-abea-63c9b5f6a950\",\"type\":\"DataRange1d\"},{\"attributes\":{\"axis_label\":\"Date from start\",\"formatter\":{\"id\":\"07f7c298-e891-4272-bce2-b8c04493d814\",\"type\":\"BasicTickFormatter\"},\"plot\":{\"id\":\"73333196-3f15-4a55-89ee-926f30f325fe\",\"subtype\":\"Figure\",\"type\":\"Plot\"},\"ticker\":{\"id\":\"50a5c217-8709-4dc4-97be-3e81f510e0c0\",\"type\":\"BasicTicker\"}},\"id\":\"a0b02638-94cc-428d-8988-1b25528aef04\",\"type\":\"LinearAxis\"},{\"attributes\":{\"line_alpha\":0.1,\"line_color\":\"#1f77b4\",\"x\":{\"field\":\"Days_from_start\"},\"y\":{\"field\":\"logValue\"}},\"id\":\"8dfd1195-d1b7-4dce-9208-4a67f581af13\",\"type\":\"Line\"},{\"attributes\":{\"fill_alpha\":{\"value\":0.3},\"fill_color\":{\"value\":\"red\"},\"line_alpha\":{\"value\":0.3},\"line_color\":{\"value\":\"red\"},\"size\":{\"units\":\"screen\",\"value\":1},\"x\":{\"field\":\"Days_from_start\"},\"y\":{\"field\":\"Pred_mod1\"}},\"id\":\"e1dd6514-0810-4b04-a95f-c9d632d2e2b6\",\"type\":\"Circle\"},{\"attributes\":{},\"id\":\"72360b72-bbf6-405e-ae6b-84380352aeca\",\"type\":\"WheelZoomTool\"},{\"attributes\":{\"callback\":null,\"column_names\":[\"Days_from_start\",\"index\",\"Data\",\"Linear_Pred\",\"Pred_mod1\",\"logValue\",\"Value\"],\"data\":{\"Data\":{\"__ndarray__\":\"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\",\"dtype\":\"float64\",\"shape\":[365]},\"Days_from_start\":[0,1,2,3,4,5,6,7,8,9,10,11,12,13,14,15,16,17,18,19,20,21,22,23,24,25,26,27,28,29,30,31,32,33,34,35,36,37,38,39,40,41,42,43,44,45,46,47,48,49,50,51,52,53,54,55,56,57,58,59,60,61,62,63,64,65,66,67,68,69,70,71,72,73,74,75,76,77,78,79,80,81,82,83,84,85,86,87,88,89,90,91,92,93,94,95,96,97,98,99,100,101,102,103,104,105,106,107,108,109,110,111,112,113,114,115,116,117,118,119,120,121,122,123,124,125,126,127,128,129,130,131,132,133,134,135,136,137,138,139,140,141,142,143,144,145,146,147,148,149,150,151,152,153,154,155,156,157,158,159,160,161,162,163,164,165,166,167,168,169,170,171,172,173,174,175,176,177,178,179,180,181,182,183,184,185,186,187,188,189,190,191,192,193,194,195,196,197,198,199,200,201,202,203,204,205,206,207,208,209,210,211,212,213,214,215,216,217,218,219,220,221,222,223,224,225,226,227,228,229,230,231,232,233,234,235,236,237,238,239,240,241,242,243,244,245,246,247,248,249,250,251,252,253,254,255,256,257,258,259,260,261,262,263,264,265,266,267,268,269,270,271,272,273,274,275,276,277,278,279,280,281,282,283,284,285,286,287,288,289,290,291,292,293,294,295,296,297,298,299,300,301,302,303,304,305,306,307,308,309,310,311,312,313,314,315,316,317,318,319,320,321,322,323,324,325,326,327,328,329,330,331,332,333,334,335,336,337,338,339,340,341,342,343,344,345,346,347,348,349,350,351,352,353,354,355,356,357,358,359,360,361,362,363,364],\"Linear_Pred\":{\"__ndarray__\":\"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\",\"dtype\":\"float64\",\"shape\":[365]},\"Pred_mod1\":{\"__ndarray__\":\"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\",\"dtype\":\"float64\",\"shape\":[365]},\"Value\":{\"__ndarray__\":\"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\",\"dtype\":\"float64\",\"shape\":[365]},\"index\":[0,1,2,3,4,5,6,7,8,9,10,11,12,13,14,15,16,17,18,19,20,21,22,23,24,25,26,27,28,29,30,31,32,33,34,35,36,37,38,39,40,41,42,43,44,45,46,47,48,49,50,51,52,53,54,55,56,57,58,59,60,61,62,63,64,65,66,67,68,69,70,71,72,73,74,75,76,77,78,79,80,81,82,83,84,85,86,87,88,89,90,91,92,93,94,95,96,97,98,99,100,101,102,103,104,105,106,107,108,109,110,111,112,113,114,115,116,117,118,119,120,121,122,123,124,125,126,127,128,129,130,131,132,133,134,135,136,137,138,139,140,141,142,143,144,145,146,147,148,149,150,151,152,153,154,155,156,157,158,159,160,161,162,163,164,165,166,167,168,169,170,171,172,173,174,175,176,177,178,179,180,181,182,183,184,185,186,187,188,189,190,191,192,193,194,195,196,197,198,199,200,201,202,203,204,205,206,207,208,209,210,211,212,213,214,215,216,217,218,219,220,221,222,223,224,225,226,227,228,229,230,231,232,233,234,235,236,237,238,239,240,241,242,243,244,245,246,247,248,249,250,251,252,253,254,255,256,257,258,259,260,261,262,263,264,265,266,267,268,269,270,271,272,273,274,275,276,277,278,279,280,281,282,283,284,285,286,287,288,289,290,291,292,293,294,295,296,297,298,299,300,301,302,303,304,305,306,307,308,309,310,311,312,313,314,315,316,317,318,319,320,321,322,323,324,325,326,327,328,329,330,331,332,333,334,335,336,337,338,339,340,341,342,343,344,345,346,347,348,349,350,351,352,353,354,355,356,357,358,359,360,361,362,363,364],\"logValue\":{\"__ndarray__\":\"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\",\"dtype\":\"float64\",\"shape\":[365]}},\"selected\":null,\"selection_policy\":null},\"id\":\"a040d6ec-f5ca-479a-9795-85b070ec483a\",\"type\":\"ColumnDataSource\"},{\"attributes\":{},\"id\":\"07f7c298-e891-4272-bce2-b8c04493d814\",\"type\":\"BasicTickFormatter\"},{\"attributes\":{},\"id\":\"16948c78-67a8-42c7-9184-e273bf6097d5\",\"type\":\"HelpTool\"},{\"attributes\":{\"source\":{\"id\":\"a040d6ec-f5ca-479a-9795-85b070ec483a\",\"type\":\"ColumnDataSource\"}},\"id\":\"1f03302c-7687-4a8b-9ca4-6ec46c55f445\",\"type\":\"CDSView\"},{\"attributes\":{},\"id\":\"c2a2c202-ce74-4452-a2a4-a59fd40aedd9\",\"type\":\"BasicTicker\"},{\"attributes\":{},\"id\":\"c13dff82-d40b-40c8-bf92-fd383d9b6a7a\",\"type\":\"SaveTool\"},{\"attributes\":{},\"id\":\"b658f85b-52c0-40f5-b3b4-ce892997b28e\",\"type\":\"BasicTickFormatter\"},{\"attributes\":{\"plot\":null,\"text\":\"\"},\"id\":\"bd043c93-9bd6-4b5e-b34f-ab5da3b3243f\",\"type\":\"Title\"},{\"attributes\":{\"data_source\":{\"id\":\"a040d6ec-f5ca-479a-9795-85b070ec483a\",\"type\":\"ColumnDataSource\"},\"glyph\":{\"id\":\"dd3b5197-b130-49e7-97fc-79007bb41569\",\"type\":\"Line\"},\"hover_glyph\":null,\"muted_glyph\":null,\"nonselection_glyph\":{\"id\":\"8dfd1195-d1b7-4dce-9208-4a67f581af13\",\"type\":\"Line\"},\"selection_glyph\":null,\"view\":{\"id\":\"1f03302c-7687-4a8b-9ca4-6ec46c55f445\",\"type\":\"CDSView\"}},\"id\":\"c24f3a31-a85c-4a28-902f-088fb559a18c\",\"type\":\"GlyphRenderer\"},{\"attributes\":{\"dimension\":1,\"plot\":{\"id\":\"73333196-3f15-4a55-89ee-926f30f325fe\",\"subtype\":\"Figure\",\"type\":\"Plot\"},\"ticker\":{\"id\":\"c2a2c202-ce74-4452-a2a4-a59fd40aedd9\",\"type\":\"BasicTicker\"}},\"id\":\"ad7dcfeb-63d6-406b-abd1-10b571f2fa1c\",\"type\":\"Grid\"},{\"attributes\":{},\"id\":\"50a5c217-8709-4dc4-97be-3e81f510e0c0\",\"type\":\"BasicTicker\"},{\"attributes\":{\"below\":[{\"id\":\"a0b02638-94cc-428d-8988-1b25528aef04\",\"type\":\"LinearAxis\"}],\"left\":[{\"id\":\"e789bb83-f0fc-4af7-b6b1-cdad3a876886\",\"type\":\"LinearAxis\"}],\"renderers\":[{\"id\":\"a0b02638-94cc-428d-8988-1b25528aef04\",\"type\":\"LinearAxis\"},{\"id\":\"06ae3346-8c8b-4ac2-af80-ab8707115060\",\"type\":\"Grid\"},{\"id\":\"e789bb83-f0fc-4af7-b6b1-cdad3a876886\",\"type\":\"LinearAxis\"},{\"id\":\"ad7dcfeb-63d6-406b-abd1-10b571f2fa1c\",\"type\":\"Grid\"},{\"id\":\"63da5dec-cdc0-4004-b8b4-eccf742cf668\",\"type\":\"BoxAnnotation\"},{\"id\":\"c24f3a31-a85c-4a28-902f-088fb559a18c\",\"type\":\"GlyphRenderer\"},{\"id\":\"bc1c5377-c88b-4a2c-b1dc-86e35b456fcc\",\"type\":\"GlyphRenderer\"}],\"title\":{\"id\":\"bd043c93-9bd6-4b5e-b34f-ab5da3b3243f\",\"type\":\"Title\"},\"toolbar\":{\"id\":\"f69d7325-f9b8-47a9-8db4-6dc8580697d1\",\"type\":\"Toolbar\"},\"x_range\":{\"id\":\"1db7a35f-b4c2-4ad9-abea-63c9b5f6a950\",\"type\":\"DataRange1d\"},\"x_scale\":{\"id\":\"a1a29b90-8577-4936-b3c7-899d49507111\",\"type\":\"LinearScale\"},\"y_range\":{\"id\":\"e9f69a18-2d1b-42e5-87b7-36aaa0e3ca52\",\"type\":\"DataRange1d\"},\"y_scale\":{\"id\":\"a857b13b-d9bc-43cf-b30c-96baf35b3e17\",\"type\":\"LinearScale\"}},\"id\":\"73333196-3f15-4a55-89ee-926f30f325fe\",\"subtype\":\"Figure\",\"type\":\"Plot\"},{\"attributes\":{\"bottom_units\":\"screen\",\"fill_alpha\":{\"value\":0.5},\"fill_color\":{\"value\":\"lightgrey\"},\"left_units\":\"screen\",\"level\":\"overlay\",\"line_alpha\":{\"value\":1.0},\"line_color\":{\"value\":\"black\"},\"line_dash\":[4,4],\"line_width\":{\"value\":2},\"plot\":null,\"render_mode\":\"css\",\"right_units\":\"screen\",\"top_units\":\"screen\"},\"id\":\"63da5dec-cdc0-4004-b8b4-eccf742cf668\",\"type\":\"BoxAnnotation\"}],\"root_ids\":[\"73333196-3f15-4a55-89ee-926f30f325fe\"]},\"title\":\"Bokeh Application\",\"version\":\"0.12.15dev5\"}};\n",
       "  var render_items = [{\"docid\":\"4b60885a-d52b-42d7-baca-206f881a2820\",\"elementid\":\"d89e744a-3a3b-4cc8-a384-b22e9ce9e0a5\",\"modelid\":\"73333196-3f15-4a55-89ee-926f30f325fe\"}];\n",
       "  root.Bokeh.embed.embed_items_notebook(docs_json, render_items);\n",
       "\n",
       "  }\n",
       "  if (root.Bokeh !== undefined) {\n",
       "    embed_document(root);\n",
       "  } else {\n",
       "    var attempts = 0;\n",
       "    var timer = setInterval(function(root) {\n",
       "      if (root.Bokeh !== undefined) {\n",
       "        embed_document(root);\n",
       "        clearInterval(timer);\n",
       "      }\n",
       "      attempts++;\n",
       "      if (attempts > 100) {\n",
       "        console.log(\"Bokeh: ERROR: Unable to run BokehJS code because BokehJS library is missing\")\n",
       "        clearInterval(timer);\n",
       "      }\n",
       "    }, 10, root)\n",
       "  }\n",
       "})(window);"
      ],
      "application/vnd.bokehjs_exec.v0+json": ""
     },
     "metadata": {
      "application/vnd.bokehjs_exec.v0+json": {
       "id": "73333196-3f15-4a55-89ee-926f30f325fe"
      }
     },
     "output_type": "display_data"
    }
   ],
   "source": [
    "p = figure(x_axis_label='Date from start', y_axis_label='log(Difficult)')\n",
    "source=ColumnDataSource(Dati)\n",
    "p.line(source=source,x=\"Days_from_start\",y=\"logValue\")\n",
    "p.circle(source=source,x=\"Days_from_start\",y=\"Pred_mod1\",color=\"red\",alpha=0.3,size=1)\n",
    "show(p)"
   ]
  },
  {
   "cell_type": "markdown",
   "metadata": {},
   "source": [
    "# Analisi con l'Hash-Rate"
   ]
  },
  {
   "cell_type": "code",
   "execution_count": 29,
   "metadata": {},
   "outputs": [],
   "source": [
    "path_file2=\"/home/ettore1461/Scrivania/Dati Cesare/hash-rate.csv\"\n",
    "temp=pd.read_csv(path_file2,names=[\"Data\",\"Value\"])"
   ]
  },
  {
   "cell_type": "code",
   "execution_count": 30,
   "metadata": {},
   "outputs": [],
   "source": [
    "Dati[\"HashRate\"]=temp.Value"
   ]
  },
  {
   "cell_type": "code",
   "execution_count": 31,
   "metadata": {},
   "outputs": [
    {
     "data": {
      "text/html": [
       "\n",
       "<div class=\"bk-root\">\n",
       "    <div class=\"bk-plotdiv\" id=\"0a381dcc-4fda-4c32-833f-0834b75a6555\"></div>\n",
       "</div>"
      ]
     },
     "metadata": {},
     "output_type": "display_data"
    },
    {
     "data": {
      "application/javascript": [
       "(function(root) {\n",
       "  function embed_document(root) {\n",
       "    \n",
       "  var docs_json = {\"2252a48d-4c80-4da0-a081-5d3bf7b102e2\":{\"roots\":{\"references\":[{\"attributes\":{\"days\":[1,4,7,10,13,16,19,22,25,28]},\"id\":\"154c76fb-2d0d-4581-a1c9-9d3bb1dc6b11\",\"type\":\"DaysTicker\"},{\"attributes\":{\"base\":24,\"mantissas\":[1,2,4,6,8,12],\"max_interval\":43200000.0,\"min_interval\":3600000.0,\"num_minor_ticks\":0},\"id\":\"5ef06393-6b8a-4494-94f3-7d040244ce9b\",\"type\":\"AdaptiveTicker\"},{\"attributes\":{},\"id\":\"0073e273-9988-4d37-b1a7-67caf8919bd0\",\"type\":\"YearsTicker\"},{\"attributes\":{\"base\":60,\"mantissas\":[1,2,5,10,15,20,30],\"max_interval\":1800000.0,\"min_interval\":1000.0,\"num_minor_ticks\":0},\"id\":\"35235b53-9896-4b5c-b188-dbb6fb395c1e\",\"type\":\"AdaptiveTicker\"},{\"attributes\":{\"callback\":null},\"id\":\"f2a06cd4-c31c-4fed-a62e-125c7bfe1cf2\",\"type\":\"DataRange1d\"},{\"attributes\":{\"below\":[{\"id\":\"3fed262f-c19b-433f-aabb-f03e89cd4323\",\"type\":\"DatetimeAxis\"}],\"left\":[{\"id\":\"08507603-1ab7-43a2-8ef9-72fc7e0c357a\",\"type\":\"LinearAxis\"}],\"renderers\":[{\"id\":\"3fed262f-c19b-433f-aabb-f03e89cd4323\",\"type\":\"DatetimeAxis\"},{\"id\":\"ae85d036-dad9-464b-a9d8-9556d4de5780\",\"type\":\"Grid\"},{\"id\":\"08507603-1ab7-43a2-8ef9-72fc7e0c357a\",\"type\":\"LinearAxis\"},{\"id\":\"d9813299-4169-44da-a51e-c0020a4a5dda\",\"type\":\"Grid\"},{\"id\":\"62407a6d-a4d4-4a52-9806-a73d5befc997\",\"type\":\"BoxAnnotation\"},{\"id\":\"0941d5c0-28c2-4bdd-9756-a362796ca6ae\",\"type\":\"GlyphRenderer\"}],\"title\":{\"id\":\"1e694c51-4c6e-4dbd-b795-e2f95939e039\",\"type\":\"Title\"},\"toolbar\":{\"id\":\"6192c834-8d85-4b95-b1ed-e439841bd107\",\"type\":\"Toolbar\"},\"x_range\":{\"id\":\"f2a06cd4-c31c-4fed-a62e-125c7bfe1cf2\",\"type\":\"DataRange1d\"},\"x_scale\":{\"id\":\"6a715a8c-1b98-4648-a8e6-e9cd0bf93020\",\"type\":\"LinearScale\"},\"y_range\":{\"id\":\"3a5fd73b-17c3-4110-8ad8-dc54f1151e8d\",\"type\":\"DataRange1d\"},\"y_scale\":{\"id\":\"ec949287-caa2-48d0-bc09-b5d2d26d87aa\",\"type\":\"LinearScale\"}},\"id\":\"a9109c56-51f7-4ac7-b8af-6b9e72e3b67e\",\"subtype\":\"Figure\",\"type\":\"Plot\"},{\"attributes\":{},\"id\":\"25370636-740c-4460-8c84-db462c912c49\",\"type\":\"HelpTool\"},{\"attributes\":{\"days\":[1,8,15,22]},\"id\":\"91ef36ba-7f29-41b0-b857-21786a540776\",\"type\":\"DaysTicker\"},{\"attributes\":{\"bottom_units\":\"screen\",\"fill_alpha\":{\"value\":0.5},\"fill_color\":{\"value\":\"lightgrey\"},\"left_units\":\"screen\",\"level\":\"overlay\",\"line_alpha\":{\"value\":1.0},\"line_color\":{\"value\":\"black\"},\"line_dash\":[4,4],\"line_width\":{\"value\":2},\"plot\":null,\"render_mode\":\"css\",\"right_units\":\"screen\",\"top_units\":\"screen\"},\"id\":\"62407a6d-a4d4-4a52-9806-a73d5befc997\",\"type\":\"BoxAnnotation\"},{\"attributes\":{\"plot\":{\"id\":\"a9109c56-51f7-4ac7-b8af-6b9e72e3b67e\",\"subtype\":\"Figure\",\"type\":\"Plot\"},\"ticker\":{\"id\":\"62c71a4a-0de3-4db4-b533-ce3498ba67c9\",\"type\":\"DatetimeTicker\"}},\"id\":\"ae85d036-dad9-464b-a9d8-9556d4de5780\",\"type\":\"Grid\"},{\"attributes\":{\"axis_label\":\"Date\",\"formatter\":{\"id\":\"689d8841-62fe-4f7b-a9cc-daaab3113c78\",\"type\":\"DatetimeTickFormatter\"},\"plot\":{\"id\":\"a9109c56-51f7-4ac7-b8af-6b9e72e3b67e\",\"subtype\":\"Figure\",\"type\":\"Plot\"},\"ticker\":{\"id\":\"62c71a4a-0de3-4db4-b533-ce3498ba67c9\",\"type\":\"DatetimeTicker\"}},\"id\":\"3fed262f-c19b-433f-aabb-f03e89cd4323\",\"type\":\"DatetimeAxis\"},{\"attributes\":{},\"id\":\"58b80fa0-8788-4617-9788-fc6400efd5b4\",\"type\":\"ResetTool\"},{\"attributes\":{\"months\":[0,2,4,6,8,10]},\"id\":\"d47773d1-3fb5-4b95-9846-268f38a38fff\",\"type\":\"MonthsTicker\"},{\"attributes\":{},\"id\":\"04c26910-662c-4422-ba37-1c2de2fa87a9\",\"type\":\"BasicTickFormatter\"},{\"attributes\":{\"active_drag\":\"auto\",\"active_inspect\":\"auto\",\"active_scroll\":\"auto\",\"active_tap\":\"auto\",\"tools\":[{\"id\":\"d2c08d7a-ae5e-4f51-861a-14d6bbd5a174\",\"type\":\"PanTool\"},{\"id\":\"2871ee50-c6a5-4627-801f-224aafc12ec0\",\"type\":\"WheelZoomTool\"},{\"id\":\"aa5e4dfe-e023-4348-a2bb-a4a506d4a771\",\"type\":\"BoxZoomTool\"},{\"id\":\"08cb1b8c-114e-4c39-82c3-2d085d2828a3\",\"type\":\"SaveTool\"},{\"id\":\"58b80fa0-8788-4617-9788-fc6400efd5b4\",\"type\":\"ResetTool\"},{\"id\":\"25370636-740c-4460-8c84-db462c912c49\",\"type\":\"HelpTool\"}]},\"id\":\"6192c834-8d85-4b95-b1ed-e439841bd107\",\"type\":\"Toolbar\"},{\"attributes\":{},\"id\":\"6a715a8c-1b98-4648-a8e6-e9cd0bf93020\",\"type\":\"LinearScale\"},{\"attributes\":{\"data_source\":{\"id\":\"ca15aa76-52af-4844-bf3f-1275c5b8c27d\",\"type\":\"ColumnDataSource\"},\"glyph\":{\"id\":\"efafdb94-a7c3-47e6-9d7b-651fefcdce4d\",\"type\":\"Line\"},\"hover_glyph\":null,\"muted_glyph\":null,\"nonselection_glyph\":{\"id\":\"9d52036b-26a0-4435-90ee-db0769d1ad34\",\"type\":\"Line\"},\"selection_glyph\":null,\"view\":{\"id\":\"a3dee129-ff90-4b03-933d-b3fde17e1324\",\"type\":\"CDSView\"}},\"id\":\"0941d5c0-28c2-4bdd-9756-a362796ca6ae\",\"type\":\"GlyphRenderer\"},{\"attributes\":{\"num_minor_ticks\":5,\"tickers\":[{\"id\":\"5dd5539b-db2e-4629-a790-4434e513c2e5\",\"type\":\"AdaptiveTicker\"},{\"id\":\"35235b53-9896-4b5c-b188-dbb6fb395c1e\",\"type\":\"AdaptiveTicker\"},{\"id\":\"5ef06393-6b8a-4494-94f3-7d040244ce9b\",\"type\":\"AdaptiveTicker\"},{\"id\":\"eecb22b3-3bdc-4b1b-bbdb-848e878e280e\",\"type\":\"DaysTicker\"},{\"id\":\"154c76fb-2d0d-4581-a1c9-9d3bb1dc6b11\",\"type\":\"DaysTicker\"},{\"id\":\"91ef36ba-7f29-41b0-b857-21786a540776\",\"type\":\"DaysTicker\"},{\"id\":\"2b6a88fb-0ba7-428a-8bf2-49dc3be14c09\",\"type\":\"DaysTicker\"},{\"id\":\"e590f11b-f22a-4b10-92bf-b3e2a233b224\",\"type\":\"MonthsTicker\"},{\"id\":\"d47773d1-3fb5-4b95-9846-268f38a38fff\",\"type\":\"MonthsTicker\"},{\"id\":\"add2b628-4e9a-491d-b8b9-56e31c8c302a\",\"type\":\"MonthsTicker\"},{\"id\":\"4b09a771-ed87-4247-ad72-0f99b6fb779f\",\"type\":\"MonthsTicker\"},{\"id\":\"0073e273-9988-4d37-b1a7-67caf8919bd0\",\"type\":\"YearsTicker\"}]},\"id\":\"62c71a4a-0de3-4db4-b533-ce3498ba67c9\",\"type\":\"DatetimeTicker\"},{\"attributes\":{\"plot\":null,\"text\":\"\"},\"id\":\"1e694c51-4c6e-4dbd-b795-e2f95939e039\",\"type\":\"Title\"},{\"attributes\":{},\"id\":\"110d20f0-9259-40d5-ab95-f2d91abb7000\",\"type\":\"BasicTicker\"},{\"attributes\":{\"overlay\":{\"id\":\"62407a6d-a4d4-4a52-9806-a73d5befc997\",\"type\":\"BoxAnnotation\"}},\"id\":\"aa5e4dfe-e023-4348-a2bb-a4a506d4a771\",\"type\":\"BoxZoomTool\"},{\"attributes\":{\"axis_label\":\"HashRate\",\"formatter\":{\"id\":\"04c26910-662c-4422-ba37-1c2de2fa87a9\",\"type\":\"BasicTickFormatter\"},\"plot\":{\"id\":\"a9109c56-51f7-4ac7-b8af-6b9e72e3b67e\",\"subtype\":\"Figure\",\"type\":\"Plot\"},\"ticker\":{\"id\":\"110d20f0-9259-40d5-ab95-f2d91abb7000\",\"type\":\"BasicTicker\"}},\"id\":\"08507603-1ab7-43a2-8ef9-72fc7e0c357a\",\"type\":\"LinearAxis\"},{\"attributes\":{\"line_alpha\":0.1,\"line_color\":\"#1f77b4\",\"x\":{\"field\":\"Data\"},\"y\":{\"field\":\"HashRate\"}},\"id\":\"9d52036b-26a0-4435-90ee-db0769d1ad34\",\"type\":\"Line\"},{\"attributes\":{\"months\":[0,4,8]},\"id\":\"add2b628-4e9a-491d-b8b9-56e31c8c302a\",\"type\":\"MonthsTicker\"},{\"attributes\":{},\"id\":\"ec949287-caa2-48d0-bc09-b5d2d26d87aa\",\"type\":\"LinearScale\"},{\"attributes\":{\"callback\":null,\"column_names\":[\"Days_from_start\",\"Pred_mod1\",\"index\",\"Data\",\"Linear_Pred\",\"HashRate\",\"logValue\",\"Value\"],\"data\":{\"Data\":{\"__ndarray__\":\"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\",\"dtype\":\"float64\",\"shape\":[365]},\"Days_from_start\":[0,1,2,3,4,5,6,7,8,9,10,11,12,13,14,15,16,17,18,19,20,21,22,23,24,25,26,27,28,29,30,31,32,33,34,35,36,37,38,39,40,41,42,43,44,45,46,47,48,49,50,51,52,53,54,55,56,57,58,59,60,61,62,63,64,65,66,67,68,69,70,71,72,73,74,75,76,77,78,79,80,81,82,83,84,85,86,87,88,89,90,91,92,93,94,95,96,97,98,99,100,101,102,103,104,105,106,107,108,109,110,111,112,113,114,115,116,117,118,119,120,121,122,123,124,125,126,127,128,129,130,131,132,133,134,135,136,137,138,139,140,141,142,143,144,145,146,147,148,149,150,151,152,153,154,155,156,157,158,159,160,161,162,163,164,165,166,167,168,169,170,171,172,173,174,175,176,177,178,179,180,181,182,183,184,185,186,187,188,189,190,191,192,193,194,195,196,197,198,199,200,201,202,203,204,205,206,207,208,209,210,211,212,213,214,215,216,217,218,219,220,221,222,223,224,225,226,227,228,229,230,231,232,233,234,235,236,237,238,239,240,241,242,243,244,245,246,247,248,249,250,251,252,253,254,255,256,257,258,259,260,261,262,263,264,265,266,267,268,269,270,271,272,273,274,275,276,277,278,279,280,281,282,283,284,285,286,287,288,289,290,291,292,293,294,295,296,297,298,299,300,301,302,303,304,305,306,307,308,309,310,311,312,313,314,315,316,317,318,319,320,321,322,323,324,325,326,327,328,329,330,331,332,333,334,335,336,337,338,339,340,341,342,343,344,345,346,347,348,349,350,351,352,353,354,355,356,357,358,359,360,361,362,363,364],\"HashRate\":{\"__ndarray__\":\"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\",\"dtype\":\"float64\",\"shape\":[365]},\"Linear_Pred\":{\"__ndarray__\":\"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\",\"dtype\":\"float64\",\"shape\":[365]},\"Pred_mod1\":{\"__ndarray__\":\"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\",\"dtype\":\"float64\",\"shape\":[365]},\"Value\":{\"__ndarray__\":\"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\",\"dtype\":\"float64\",\"shape\":[365]},\"index\":[0,1,2,3,4,5,6,7,8,9,10,11,12,13,14,15,16,17,18,19,20,21,22,23,24,25,26,27,28,29,30,31,32,33,34,35,36,37,38,39,40,41,42,43,44,45,46,47,48,49,50,51,52,53,54,55,56,57,58,59,60,61,62,63,64,65,66,67,68,69,70,71,72,73,74,75,76,77,78,79,80,81,82,83,84,85,86,87,88,89,90,91,92,93,94,95,96,97,98,99,100,101,102,103,104,105,106,107,108,109,110,111,112,113,114,115,116,117,118,119,120,121,122,123,124,125,126,127,128,129,130,131,132,133,134,135,136,137,138,139,140,141,142,143,144,145,146,147,148,149,150,151,152,153,154,155,156,157,158,159,160,161,162,163,164,165,166,167,168,169,170,171,172,173,174,175,176,177,178,179,180,181,182,183,184,185,186,187,188,189,190,191,192,193,194,195,196,197,198,199,200,201,202,203,204,205,206,207,208,209,210,211,212,213,214,215,216,217,218,219,220,221,222,223,224,225,226,227,228,229,230,231,232,233,234,235,236,237,238,239,240,241,242,243,244,245,246,247,248,249,250,251,252,253,254,255,256,257,258,259,260,261,262,263,264,265,266,267,268,269,270,271,272,273,274,275,276,277,278,279,280,281,282,283,284,285,286,287,288,289,290,291,292,293,294,295,296,297,298,299,300,301,302,303,304,305,306,307,308,309,310,311,312,313,314,315,316,317,318,319,320,321,322,323,324,325,326,327,328,329,330,331,332,333,334,335,336,337,338,339,340,341,342,343,344,345,346,347,348,349,350,351,352,353,354,355,356,357,358,359,360,361,362,363,364],\"logValue\":{\"__ndarray__\":\"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\",\"dtype\":\"float64\",\"shape\":[365]}},\"selected\":null,\"selection_policy\":null},\"id\":\"ca15aa76-52af-4844-bf3f-1275c5b8c27d\",\"type\":\"ColumnDataSource\"},{\"attributes\":{\"callback\":null},\"id\":\"3a5fd73b-17c3-4110-8ad8-dc54f1151e8d\",\"type\":\"DataRange1d\"},{\"attributes\":{\"days\":[1,2,3,4,5,6,7,8,9,10,11,12,13,14,15,16,17,18,19,20,21,22,23,24,25,26,27,28,29,30,31]},\"id\":\"eecb22b3-3bdc-4b1b-bbdb-848e878e280e\",\"type\":\"DaysTicker\"},{\"attributes\":{\"dimension\":1,\"plot\":{\"id\":\"a9109c56-51f7-4ac7-b8af-6b9e72e3b67e\",\"subtype\":\"Figure\",\"type\":\"Plot\"},\"ticker\":{\"id\":\"110d20f0-9259-40d5-ab95-f2d91abb7000\",\"type\":\"BasicTicker\"}},\"id\":\"d9813299-4169-44da-a51e-c0020a4a5dda\",\"type\":\"Grid\"},{\"attributes\":{},\"id\":\"689d8841-62fe-4f7b-a9cc-daaab3113c78\",\"type\":\"DatetimeTickFormatter\"},{\"attributes\":{},\"id\":\"2871ee50-c6a5-4627-801f-224aafc12ec0\",\"type\":\"WheelZoomTool\"},{\"attributes\":{\"mantissas\":[1,2,5],\"max_interval\":500.0,\"num_minor_ticks\":0},\"id\":\"5dd5539b-db2e-4629-a790-4434e513c2e5\",\"type\":\"AdaptiveTicker\"},{\"attributes\":{\"line_color\":\"#1f77b4\",\"x\":{\"field\":\"Data\"},\"y\":{\"field\":\"HashRate\"}},\"id\":\"efafdb94-a7c3-47e6-9d7b-651fefcdce4d\",\"type\":\"Line\"},{\"attributes\":{\"months\":[0,6]},\"id\":\"4b09a771-ed87-4247-ad72-0f99b6fb779f\",\"type\":\"MonthsTicker\"},{\"attributes\":{},\"id\":\"08cb1b8c-114e-4c39-82c3-2d085d2828a3\",\"type\":\"SaveTool\"},{\"attributes\":{\"months\":[0,1,2,3,4,5,6,7,8,9,10,11]},\"id\":\"e590f11b-f22a-4b10-92bf-b3e2a233b224\",\"type\":\"MonthsTicker\"},{\"attributes\":{\"source\":{\"id\":\"ca15aa76-52af-4844-bf3f-1275c5b8c27d\",\"type\":\"ColumnDataSource\"}},\"id\":\"a3dee129-ff90-4b03-933d-b3fde17e1324\",\"type\":\"CDSView\"},{\"attributes\":{},\"id\":\"d2c08d7a-ae5e-4f51-861a-14d6bbd5a174\",\"type\":\"PanTool\"},{\"attributes\":{\"days\":[1,15]},\"id\":\"2b6a88fb-0ba7-428a-8bf2-49dc3be14c09\",\"type\":\"DaysTicker\"}],\"root_ids\":[\"a9109c56-51f7-4ac7-b8af-6b9e72e3b67e\"]},\"title\":\"Bokeh Application\",\"version\":\"0.12.15dev5\"}};\n",
       "  var render_items = [{\"docid\":\"2252a48d-4c80-4da0-a081-5d3bf7b102e2\",\"elementid\":\"0a381dcc-4fda-4c32-833f-0834b75a6555\",\"modelid\":\"a9109c56-51f7-4ac7-b8af-6b9e72e3b67e\"}];\n",
       "  root.Bokeh.embed.embed_items_notebook(docs_json, render_items);\n",
       "\n",
       "  }\n",
       "  if (root.Bokeh !== undefined) {\n",
       "    embed_document(root);\n",
       "  } else {\n",
       "    var attempts = 0;\n",
       "    var timer = setInterval(function(root) {\n",
       "      if (root.Bokeh !== undefined) {\n",
       "        embed_document(root);\n",
       "        clearInterval(timer);\n",
       "      }\n",
       "      attempts++;\n",
       "      if (attempts > 100) {\n",
       "        console.log(\"Bokeh: ERROR: Unable to run BokehJS code because BokehJS library is missing\")\n",
       "        clearInterval(timer);\n",
       "      }\n",
       "    }, 10, root)\n",
       "  }\n",
       "})(window);"
      ],
      "application/vnd.bokehjs_exec.v0+json": ""
     },
     "metadata": {
      "application/vnd.bokehjs_exec.v0+json": {
       "id": "a9109c56-51f7-4ac7-b8af-6b9e72e3b67e"
      }
     },
     "output_type": "display_data"
    }
   ],
   "source": [
    "p = figure(x_axis_type=\"datetime\", x_axis_label='Date', y_axis_label='HashRate')\n",
    "source=ColumnDataSource(Dati)\n",
    "p.line(source=source,x=\"Data\",y=\"HashRate\")\n",
    "show(p)"
   ]
  },
  {
   "cell_type": "code",
   "execution_count": 32,
   "metadata": {},
   "outputs": [],
   "source": [
    "Dati[\"log_HashRate\"]=Dati.HashRate.apply(log)"
   ]
  },
  {
   "cell_type": "code",
   "execution_count": 33,
   "metadata": {},
   "outputs": [
    {
     "data": {
      "text/html": [
       "\n",
       "<div class=\"bk-root\">\n",
       "    <div class=\"bk-plotdiv\" id=\"e4e30e74-4e67-4480-a530-fcd399e470be\"></div>\n",
       "</div>"
      ]
     },
     "metadata": {},
     "output_type": "display_data"
    },
    {
     "data": {
      "application/javascript": [
       "(function(root) {\n",
       "  function embed_document(root) {\n",
       "    \n",
       "  var docs_json = {\"042aa3b6-77bf-4308-bb04-a36ea425a5b9\":{\"roots\":{\"references\":[{\"attributes\":{\"mantissas\":[1,2,5],\"max_interval\":500.0,\"num_minor_ticks\":0},\"id\":\"6b450c88-cc6a-4821-aab1-c87a01b39db6\",\"type\":\"AdaptiveTicker\"},{\"attributes\":{\"callback\":null},\"id\":\"29c58228-3643-4f4a-aba8-bb9d608f5bc4\",\"type\":\"DataRange1d\"},{\"attributes\":{\"months\":[0,1,2,3,4,5,6,7,8,9,10,11]},\"id\":\"77aba0cf-a6da-4ce1-97f5-836f2a5fc553\",\"type\":\"MonthsTicker\"},{\"attributes\":{\"overlay\":{\"id\":\"48170b22-fac8-4355-9bcd-aa23ff02468f\",\"type\":\"BoxAnnotation\"}},\"id\":\"4039a2d7-44e1-42e7-95c4-8a5ed880c021\",\"type\":\"BoxZoomTool\"},{\"attributes\":{\"months\":[0,4,8]},\"id\":\"de5548f3-e509-45a8-b24e-43b0c4324f48\",\"type\":\"MonthsTicker\"},{\"attributes\":{},\"id\":\"2099412f-2126-4e93-92dd-cc959a573656\",\"type\":\"BasicTickFormatter\"},{\"attributes\":{\"source\":{\"id\":\"17503973-689a-4ea0-804c-30d414f9b7db\",\"type\":\"ColumnDataSource\"}},\"id\":\"22ff817a-0847-4987-9bca-77f102b8a13b\",\"type\":\"CDSView\"},{\"attributes\":{\"axis_label\":\"Date\",\"formatter\":{\"id\":\"1bc5f08c-a01d-4cb8-9a81-079df458924b\",\"type\":\"DatetimeTickFormatter\"},\"plot\":{\"id\":\"36ce9c08-e6cd-441a-8dc6-486dbe719e25\",\"subtype\":\"Figure\",\"type\":\"Plot\"},\"ticker\":{\"id\":\"2e94b7b2-b77a-414d-a91a-08457753b043\",\"type\":\"DatetimeTicker\"}},\"id\":\"b1db5aff-5d11-453f-aecf-5cf2fd504b2f\",\"type\":\"DatetimeAxis\"},{\"attributes\":{},\"id\":\"e6156aa9-d111-4ad0-99b2-10cb0bd7d50b\",\"type\":\"BasicTicker\"},{\"attributes\":{\"days\":[1,2,3,4,5,6,7,8,9,10,11,12,13,14,15,16,17,18,19,20,21,22,23,24,25,26,27,28,29,30,31]},\"id\":\"576d2a4e-0977-4c72-9cdf-6d1699e7bb73\",\"type\":\"DaysTicker\"},{\"attributes\":{\"months\":[0,2,4,6,8,10]},\"id\":\"28cd049a-bf5d-426c-bf25-bac80ab5a1fd\",\"type\":\"MonthsTicker\"},{\"attributes\":{\"days\":[1,4,7,10,13,16,19,22,25,28]},\"id\":\"6dd3a2cc-3565-46c3-b813-51d16e397738\",\"type\":\"DaysTicker\"},{\"attributes\":{},\"id\":\"8d5bb173-f020-472e-b92e-762ce99f6c2a\",\"type\":\"WheelZoomTool\"},{\"attributes\":{},\"id\":\"a8722a4d-12f2-4d8d-a0e8-e4c151889379\",\"type\":\"SaveTool\"},{\"attributes\":{\"base\":60,\"mantissas\":[1,2,5,10,15,20,30],\"max_interval\":1800000.0,\"min_interval\":1000.0,\"num_minor_ticks\":0},\"id\":\"b30f8d60-2833-44a9-aafb-9db85e2f2f8b\",\"type\":\"AdaptiveTicker\"},{\"attributes\":{\"bottom_units\":\"screen\",\"fill_alpha\":{\"value\":0.5},\"fill_color\":{\"value\":\"lightgrey\"},\"left_units\":\"screen\",\"level\":\"overlay\",\"line_alpha\":{\"value\":1.0},\"line_color\":{\"value\":\"black\"},\"line_dash\":[4,4],\"line_width\":{\"value\":2},\"plot\":null,\"render_mode\":\"css\",\"right_units\":\"screen\",\"top_units\":\"screen\"},\"id\":\"48170b22-fac8-4355-9bcd-aa23ff02468f\",\"type\":\"BoxAnnotation\"},{\"attributes\":{\"days\":[1,8,15,22]},\"id\":\"1e45b293-ffb7-4f18-9126-3952d83d7181\",\"type\":\"DaysTicker\"},{\"attributes\":{\"dimension\":1,\"plot\":{\"id\":\"36ce9c08-e6cd-441a-8dc6-486dbe719e25\",\"subtype\":\"Figure\",\"type\":\"Plot\"},\"ticker\":{\"id\":\"e6156aa9-d111-4ad0-99b2-10cb0bd7d50b\",\"type\":\"BasicTicker\"}},\"id\":\"05a4e8d4-5175-4f73-912c-caa234e04d96\",\"type\":\"Grid\"},{\"attributes\":{},\"id\":\"2ddc2622-fea0-4837-9c94-1ac94c435d09\",\"type\":\"HelpTool\"},{\"attributes\":{},\"id\":\"47edeaf6-1626-4839-8af0-2d6fe12ee918\",\"type\":\"YearsTicker\"},{\"attributes\":{\"callback\":null,\"column_names\":[\"Value\",\"Days_from_start\",\"Pred_mod1\",\"index\",\"Data\",\"Linear_Pred\",\"HashRate\",\"logValue\",\"log_HashRate\"],\"data\":{\"Data\":{\"__ndarray__\":\"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\",\"dtype\":\"float64\",\"shape\":[365]},\"Days_from_start\":[0,1,2,3,4,5,6,7,8,9,10,11,12,13,14,15,16,17,18,19,20,21,22,23,24,25,26,27,28,29,30,31,32,33,34,35,36,37,38,39,40,41,42,43,44,45,46,47,48,49,50,51,52,53,54,55,56,57,58,59,60,61,62,63,64,65,66,67,68,69,70,71,72,73,74,75,76,77,78,79,80,81,82,83,84,85,86,87,88,89,90,91,92,93,94,95,96,97,98,99,100,101,102,103,104,105,106,107,108,109,110,111,112,113,114,115,116,117,118,119,120,121,122,123,124,125,126,127,128,129,130,131,132,133,134,135,136,137,138,139,140,141,142,143,144,145,146,147,148,149,150,151,152,153,154,155,156,157,158,159,160,161,162,163,164,165,166,167,168,169,170,171,172,173,174,175,176,177,178,179,180,181,182,183,184,185,186,187,188,189,190,191,192,193,194,195,196,197,198,199,200,201,202,203,204,205,206,207,208,209,210,211,212,213,214,215,216,217,218,219,220,221,222,223,224,225,226,227,228,229,230,231,232,233,234,235,236,237,238,239,240,241,242,243,244,245,246,247,248,249,250,251,252,253,254,255,256,257,258,259,260,261,262,263,264,265,266,267,268,269,270,271,272,273,274,275,276,277,278,279,280,281,282,283,284,285,286,287,288,289,290,291,292,293,294,295,296,297,298,299,300,301,302,303,304,305,306,307,308,309,310,311,312,313,314,315,316,317,318,319,320,321,322,323,324,325,326,327,328,329,330,331,332,333,334,335,336,337,338,339,340,341,342,343,344,345,346,347,348,349,350,351,352,353,354,355,356,357,358,359,360,361,362,363,364],\"HashRate\":{\"__ndarray__\":\"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\",\"dtype\":\"float64\",\"shape\":[365]},\"Linear_Pred\":{\"__ndarray__\":\"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\",\"dtype\":\"float64\",\"shape\":[365]},\"Pred_mod1\":{\"__ndarray__\":\"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\",\"dtype\":\"float64\",\"shape\":[365]},\"Value\":{\"__ndarray__\":\"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\",\"dtype\":\"float64\",\"shape\":[365]},\"index\":[0,1,2,3,4,5,6,7,8,9,10,11,12,13,14,15,16,17,18,19,20,21,22,23,24,25,26,27,28,29,30,31,32,33,34,35,36,37,38,39,40,41,42,43,44,45,46,47,48,49,50,51,52,53,54,55,56,57,58,59,60,61,62,63,64,65,66,67,68,69,70,71,72,73,74,75,76,77,78,79,80,81,82,83,84,85,86,87,88,89,90,91,92,93,94,95,96,97,98,99,100,101,102,103,104,105,106,107,108,109,110,111,112,113,114,115,116,117,118,119,120,121,122,123,124,125,126,127,128,129,130,131,132,133,134,135,136,137,138,139,140,141,142,143,144,145,146,147,148,149,150,151,152,153,154,155,156,157,158,159,160,161,162,163,164,165,166,167,168,169,170,171,172,173,174,175,176,177,178,179,180,181,182,183,184,185,186,187,188,189,190,191,192,193,194,195,196,197,198,199,200,201,202,203,204,205,206,207,208,209,210,211,212,213,214,215,216,217,218,219,220,221,222,223,224,225,226,227,228,229,230,231,232,233,234,235,236,237,238,239,240,241,242,243,244,245,246,247,248,249,250,251,252,253,254,255,256,257,258,259,260,261,262,263,264,265,266,267,268,269,270,271,272,273,274,275,276,277,278,279,280,281,282,283,284,285,286,287,288,289,290,291,292,293,294,295,296,297,298,299,300,301,302,303,304,305,306,307,308,309,310,311,312,313,314,315,316,317,318,319,320,321,322,323,324,325,326,327,328,329,330,331,332,333,334,335,336,337,338,339,340,341,342,343,344,345,346,347,348,349,350,351,352,353,354,355,356,357,358,359,360,361,362,363,364],\"logValue\":{\"__ndarray__\":\"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\",\"dtype\":\"float64\",\"shape\":[365]},\"log_HashRate\":{\"__ndarray__\":\"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\",\"dtype\":\"float64\",\"shape\":[365]}},\"selected\":null,\"selection_policy\":null},\"id\":\"17503973-689a-4ea0-804c-30d414f9b7db\",\"type\":\"ColumnDataSource\"},{\"attributes\":{\"line_alpha\":0.1,\"line_color\":\"#1f77b4\",\"x\":{\"field\":\"Data\"},\"y\":{\"field\":\"log_HashRate\"}},\"id\":\"6d3e3aa8-25fb-4b4a-a9be-ed747ccba2cb\",\"type\":\"Line\"},{\"attributes\":{\"line_color\":\"#1f77b4\",\"x\":{\"field\":\"Data\"},\"y\":{\"field\":\"log_HashRate\"}},\"id\":\"4446ec7b-8a0b-45c3-9cbd-2882fc5b0213\",\"type\":\"Line\"},{\"attributes\":{},\"id\":\"1bc5f08c-a01d-4cb8-9a81-079df458924b\",\"type\":\"DatetimeTickFormatter\"},{\"attributes\":{},\"id\":\"be22e5eb-a3d4-4733-a29c-caeb710be040\",\"type\":\"LinearScale\"},{\"attributes\":{\"below\":[{\"id\":\"b1db5aff-5d11-453f-aecf-5cf2fd504b2f\",\"type\":\"DatetimeAxis\"}],\"left\":[{\"id\":\"8d81dab8-f185-42f8-b072-2b8807ddbe28\",\"type\":\"LinearAxis\"}],\"renderers\":[{\"id\":\"b1db5aff-5d11-453f-aecf-5cf2fd504b2f\",\"type\":\"DatetimeAxis\"},{\"id\":\"75a25ee6-c0b1-41e8-bd02-27820ee6d0dd\",\"type\":\"Grid\"},{\"id\":\"8d81dab8-f185-42f8-b072-2b8807ddbe28\",\"type\":\"LinearAxis\"},{\"id\":\"05a4e8d4-5175-4f73-912c-caa234e04d96\",\"type\":\"Grid\"},{\"id\":\"48170b22-fac8-4355-9bcd-aa23ff02468f\",\"type\":\"BoxAnnotation\"},{\"id\":\"f8a928f1-3942-487a-bf83-9e221b9a3f7d\",\"type\":\"GlyphRenderer\"}],\"title\":{\"id\":\"2a35fb9e-8916-484f-b0ae-bce739e5158f\",\"type\":\"Title\"},\"toolbar\":{\"id\":\"2e2f56fe-13a3-4cfd-9f2b-f736d84316a1\",\"type\":\"Toolbar\"},\"x_range\":{\"id\":\"29c58228-3643-4f4a-aba8-bb9d608f5bc4\",\"type\":\"DataRange1d\"},\"x_scale\":{\"id\":\"e1eee9aa-e730-4f08-ae5d-bf304f250dc2\",\"type\":\"LinearScale\"},\"y_range\":{\"id\":\"2c1e7c79-79bc-4395-a122-e2a03f80d247\",\"type\":\"DataRange1d\"},\"y_scale\":{\"id\":\"be22e5eb-a3d4-4733-a29c-caeb710be040\",\"type\":\"LinearScale\"}},\"id\":\"36ce9c08-e6cd-441a-8dc6-486dbe719e25\",\"subtype\":\"Figure\",\"type\":\"Plot\"},{\"attributes\":{},\"id\":\"e1eee9aa-e730-4f08-ae5d-bf304f250dc2\",\"type\":\"LinearScale\"},{\"attributes\":{\"plot\":{\"id\":\"36ce9c08-e6cd-441a-8dc6-486dbe719e25\",\"subtype\":\"Figure\",\"type\":\"Plot\"},\"ticker\":{\"id\":\"2e94b7b2-b77a-414d-a91a-08457753b043\",\"type\":\"DatetimeTicker\"}},\"id\":\"75a25ee6-c0b1-41e8-bd02-27820ee6d0dd\",\"type\":\"Grid\"},{\"attributes\":{},\"id\":\"2232db16-226f-4188-857a-8652aff2f839\",\"type\":\"PanTool\"},{\"attributes\":{\"data_source\":{\"id\":\"17503973-689a-4ea0-804c-30d414f9b7db\",\"type\":\"ColumnDataSource\"},\"glyph\":{\"id\":\"4446ec7b-8a0b-45c3-9cbd-2882fc5b0213\",\"type\":\"Line\"},\"hover_glyph\":null,\"muted_glyph\":null,\"nonselection_glyph\":{\"id\":\"6d3e3aa8-25fb-4b4a-a9be-ed747ccba2cb\",\"type\":\"Line\"},\"selection_glyph\":null,\"view\":{\"id\":\"22ff817a-0847-4987-9bca-77f102b8a13b\",\"type\":\"CDSView\"}},\"id\":\"f8a928f1-3942-487a-bf83-9e221b9a3f7d\",\"type\":\"GlyphRenderer\"},{\"attributes\":{\"active_drag\":\"auto\",\"active_inspect\":\"auto\",\"active_scroll\":\"auto\",\"active_tap\":\"auto\",\"tools\":[{\"id\":\"2232db16-226f-4188-857a-8652aff2f839\",\"type\":\"PanTool\"},{\"id\":\"8d5bb173-f020-472e-b92e-762ce99f6c2a\",\"type\":\"WheelZoomTool\"},{\"id\":\"4039a2d7-44e1-42e7-95c4-8a5ed880c021\",\"type\":\"BoxZoomTool\"},{\"id\":\"a8722a4d-12f2-4d8d-a0e8-e4c151889379\",\"type\":\"SaveTool\"},{\"id\":\"c96a1352-501b-4008-ac2f-56fc287f0a5b\",\"type\":\"ResetTool\"},{\"id\":\"2ddc2622-fea0-4837-9c94-1ac94c435d09\",\"type\":\"HelpTool\"}]},\"id\":\"2e2f56fe-13a3-4cfd-9f2b-f736d84316a1\",\"type\":\"Toolbar\"},{\"attributes\":{\"axis_label\":\"log(HashRate)\",\"formatter\":{\"id\":\"2099412f-2126-4e93-92dd-cc959a573656\",\"type\":\"BasicTickFormatter\"},\"plot\":{\"id\":\"36ce9c08-e6cd-441a-8dc6-486dbe719e25\",\"subtype\":\"Figure\",\"type\":\"Plot\"},\"ticker\":{\"id\":\"e6156aa9-d111-4ad0-99b2-10cb0bd7d50b\",\"type\":\"BasicTicker\"}},\"id\":\"8d81dab8-f185-42f8-b072-2b8807ddbe28\",\"type\":\"LinearAxis\"},{\"attributes\":{\"months\":[0,6]},\"id\":\"0e57036e-0f35-45f2-9e05-08a909015be6\",\"type\":\"MonthsTicker\"},{\"attributes\":{\"days\":[1,15]},\"id\":\"f58270ec-21de-496b-8f65-9dd718dba6f3\",\"type\":\"DaysTicker\"},{\"attributes\":{\"base\":24,\"mantissas\":[1,2,4,6,8,12],\"max_interval\":43200000.0,\"min_interval\":3600000.0,\"num_minor_ticks\":0},\"id\":\"140a9a7e-0d6b-4d2e-8e05-269365f3ded8\",\"type\":\"AdaptiveTicker\"},{\"attributes\":{\"plot\":null,\"text\":\"\"},\"id\":\"2a35fb9e-8916-484f-b0ae-bce739e5158f\",\"type\":\"Title\"},{\"attributes\":{},\"id\":\"c96a1352-501b-4008-ac2f-56fc287f0a5b\",\"type\":\"ResetTool\"},{\"attributes\":{\"num_minor_ticks\":5,\"tickers\":[{\"id\":\"6b450c88-cc6a-4821-aab1-c87a01b39db6\",\"type\":\"AdaptiveTicker\"},{\"id\":\"b30f8d60-2833-44a9-aafb-9db85e2f2f8b\",\"type\":\"AdaptiveTicker\"},{\"id\":\"140a9a7e-0d6b-4d2e-8e05-269365f3ded8\",\"type\":\"AdaptiveTicker\"},{\"id\":\"576d2a4e-0977-4c72-9cdf-6d1699e7bb73\",\"type\":\"DaysTicker\"},{\"id\":\"6dd3a2cc-3565-46c3-b813-51d16e397738\",\"type\":\"DaysTicker\"},{\"id\":\"1e45b293-ffb7-4f18-9126-3952d83d7181\",\"type\":\"DaysTicker\"},{\"id\":\"f58270ec-21de-496b-8f65-9dd718dba6f3\",\"type\":\"DaysTicker\"},{\"id\":\"77aba0cf-a6da-4ce1-97f5-836f2a5fc553\",\"type\":\"MonthsTicker\"},{\"id\":\"28cd049a-bf5d-426c-bf25-bac80ab5a1fd\",\"type\":\"MonthsTicker\"},{\"id\":\"de5548f3-e509-45a8-b24e-43b0c4324f48\",\"type\":\"MonthsTicker\"},{\"id\":\"0e57036e-0f35-45f2-9e05-08a909015be6\",\"type\":\"MonthsTicker\"},{\"id\":\"47edeaf6-1626-4839-8af0-2d6fe12ee918\",\"type\":\"YearsTicker\"}]},\"id\":\"2e94b7b2-b77a-414d-a91a-08457753b043\",\"type\":\"DatetimeTicker\"},{\"attributes\":{\"callback\":null},\"id\":\"2c1e7c79-79bc-4395-a122-e2a03f80d247\",\"type\":\"DataRange1d\"}],\"root_ids\":[\"36ce9c08-e6cd-441a-8dc6-486dbe719e25\"]},\"title\":\"Bokeh Application\",\"version\":\"0.12.15dev5\"}};\n",
       "  var render_items = [{\"docid\":\"042aa3b6-77bf-4308-bb04-a36ea425a5b9\",\"elementid\":\"e4e30e74-4e67-4480-a530-fcd399e470be\",\"modelid\":\"36ce9c08-e6cd-441a-8dc6-486dbe719e25\"}];\n",
       "  root.Bokeh.embed.embed_items_notebook(docs_json, render_items);\n",
       "\n",
       "  }\n",
       "  if (root.Bokeh !== undefined) {\n",
       "    embed_document(root);\n",
       "  } else {\n",
       "    var attempts = 0;\n",
       "    var timer = setInterval(function(root) {\n",
       "      if (root.Bokeh !== undefined) {\n",
       "        embed_document(root);\n",
       "        clearInterval(timer);\n",
       "      }\n",
       "      attempts++;\n",
       "      if (attempts > 100) {\n",
       "        console.log(\"Bokeh: ERROR: Unable to run BokehJS code because BokehJS library is missing\")\n",
       "        clearInterval(timer);\n",
       "      }\n",
       "    }, 10, root)\n",
       "  }\n",
       "})(window);"
      ],
      "application/vnd.bokehjs_exec.v0+json": ""
     },
     "metadata": {
      "application/vnd.bokehjs_exec.v0+json": {
       "id": "36ce9c08-e6cd-441a-8dc6-486dbe719e25"
      }
     },
     "output_type": "display_data"
    }
   ],
   "source": [
    "p = figure(x_axis_type=\"datetime\", x_axis_label='Date', y_axis_label=\"log(HashRate)\")\n",
    "source=ColumnDataSource(Dati)\n",
    "p.line(source=source,x=\"Data\",y=\"log_HashRate\")\n",
    "show(p)"
   ]
  },
  {
   "cell_type": "code",
   "execution_count": 34,
   "metadata": {},
   "outputs": [],
   "source": [
    "X2=Dati.log_HashRate.values.reshape(-1,1)"
   ]
  },
  {
   "cell_type": "code",
   "execution_count": 35,
   "metadata": {},
   "outputs": [],
   "source": [
    "mod2=sm.OLS(Y,np.hstack((X,X2,X2**2,intercept)))"
   ]
  },
  {
   "cell_type": "code",
   "execution_count": 36,
   "metadata": {},
   "outputs": [],
   "source": [
    "res2=mod2.fit()"
   ]
  },
  {
   "cell_type": "code",
   "execution_count": 37,
   "metadata": {},
   "outputs": [
    {
     "data": {
      "text/html": [
       "<table class=\"simpletable\">\n",
       "<caption>OLS Regression Results</caption>\n",
       "<tr>\n",
       "  <th>Dep. Variable:</th>            <td>y</td>        <th>  R-squared:         </th> <td>   0.990</td> \n",
       "</tr>\n",
       "<tr>\n",
       "  <th>Model:</th>                   <td>OLS</td>       <th>  Adj. R-squared:    </th> <td>   0.990</td> \n",
       "</tr>\n",
       "<tr>\n",
       "  <th>Method:</th>             <td>Least Squares</td>  <th>  F-statistic:       </th> <td>1.198e+04</td>\n",
       "</tr>\n",
       "<tr>\n",
       "  <th>Date:</th>             <td>Wed, 18 Apr 2018</td> <th>  Prob (F-statistic):</th>  <td>  0.00</td>  \n",
       "</tr>\n",
       "<tr>\n",
       "  <th>Time:</th>                 <td>16:27:03</td>     <th>  Log-Likelihood:    </th> <td>  505.68</td> \n",
       "</tr>\n",
       "<tr>\n",
       "  <th>No. Observations:</th>      <td>   365</td>      <th>  AIC:               </th> <td>  -1003.</td> \n",
       "</tr>\n",
       "<tr>\n",
       "  <th>Df Residuals:</th>          <td>   361</td>      <th>  BIC:               </th> <td>  -987.8</td> \n",
       "</tr>\n",
       "<tr>\n",
       "  <th>Df Model:</th>              <td>     3</td>      <th>                     </th>     <td> </td>    \n",
       "</tr>\n",
       "<tr>\n",
       "  <th>Covariance Type:</th>      <td>nonrobust</td>    <th>                     </th>     <td> </td>    \n",
       "</tr>\n",
       "</table>\n",
       "<table class=\"simpletable\">\n",
       "<tr>\n",
       "    <td></td>       <th>coef</th>     <th>std err</th>      <th>t</th>      <th>P>|t|</th>  <th>[0.025</th>    <th>0.975]</th>  \n",
       "</tr>\n",
       "<tr>\n",
       "  <th>x1</th>    <td>    0.0048</td> <td>    0.000</td> <td>   34.946</td> <td> 0.000</td> <td>    0.005</td> <td>    0.005</td>\n",
       "</tr>\n",
       "<tr>\n",
       "  <th>x2</th>    <td>   -4.8498</td> <td>    0.324</td> <td>  -14.950</td> <td> 0.000</td> <td>   -5.488</td> <td>   -4.212</td>\n",
       "</tr>\n",
       "<tr>\n",
       "  <th>x3</th>    <td>    0.1548</td> <td>    0.010</td> <td>   15.738</td> <td> 0.000</td> <td>    0.135</td> <td>    0.174</td>\n",
       "</tr>\n",
       "<tr>\n",
       "  <th>const</th> <td>   64.9059</td> <td>    2.673</td> <td>   24.285</td> <td> 0.000</td> <td>   59.650</td> <td>   70.162</td>\n",
       "</tr>\n",
       "</table>\n",
       "<table class=\"simpletable\">\n",
       "<tr>\n",
       "  <th>Omnibus:</th>       <td> 1.368</td> <th>  Durbin-Watson:     </th> <td>   0.357</td>\n",
       "</tr>\n",
       "<tr>\n",
       "  <th>Prob(Omnibus):</th> <td> 0.504</td> <th>  Jarque-Bera (JB):  </th> <td>   1.344</td>\n",
       "</tr>\n",
       "<tr>\n",
       "  <th>Skew:</th>          <td>-0.148</td> <th>  Prob(JB):          </th> <td>   0.511</td>\n",
       "</tr>\n",
       "<tr>\n",
       "  <th>Kurtosis:</th>      <td> 2.967</td> <th>  Cond. No.          </th> <td>2.76e+05</td>\n",
       "</tr>\n",
       "</table>"
      ],
      "text/plain": [
       "<class 'statsmodels.iolib.summary.Summary'>\n",
       "\"\"\"\n",
       "                            OLS Regression Results                            \n",
       "==============================================================================\n",
       "Dep. Variable:                      y   R-squared:                       0.990\n",
       "Model:                            OLS   Adj. R-squared:                  0.990\n",
       "Method:                 Least Squares   F-statistic:                 1.198e+04\n",
       "Date:                Wed, 18 Apr 2018   Prob (F-statistic):               0.00\n",
       "Time:                        16:27:03   Log-Likelihood:                 505.68\n",
       "No. Observations:                 365   AIC:                            -1003.\n",
       "Df Residuals:                     361   BIC:                            -987.8\n",
       "Df Model:                           3                                         \n",
       "Covariance Type:            nonrobust                                         \n",
       "==============================================================================\n",
       "                 coef    std err          t      P>|t|      [0.025      0.975]\n",
       "------------------------------------------------------------------------------\n",
       "x1             0.0048      0.000     34.946      0.000       0.005       0.005\n",
       "x2            -4.8498      0.324    -14.950      0.000      -5.488      -4.212\n",
       "x3             0.1548      0.010     15.738      0.000       0.135       0.174\n",
       "const         64.9059      2.673     24.285      0.000      59.650      70.162\n",
       "==============================================================================\n",
       "Omnibus:                        1.368   Durbin-Watson:                   0.357\n",
       "Prob(Omnibus):                  0.504   Jarque-Bera (JB):                1.344\n",
       "Skew:                          -0.148   Prob(JB):                        0.511\n",
       "Kurtosis:                       2.967   Cond. No.                     2.76e+05\n",
       "==============================================================================\n",
       "\n",
       "Warnings:\n",
       "[1] Standard Errors assume that the covariance matrix of the errors is correctly specified.\n",
       "[2] The condition number is large, 2.76e+05. This might indicate that there are\n",
       "strong multicollinearity or other numerical problems.\n",
       "\"\"\""
      ]
     },
     "execution_count": 37,
     "metadata": {},
     "output_type": "execute_result"
    }
   ],
   "source": [
    "res2.summary()"
   ]
  },
  {
   "cell_type": "markdown",
   "metadata": {},
   "source": [
    "L'equazione è:\n",
    "\n",
    "$ \\ln(Diff)=64.5+0.0048t-4.8498HashRate_t+0.1548(HashRate_t)^2$"
   ]
  },
  {
   "cell_type": "code",
   "execution_count": 38,
   "metadata": {},
   "outputs": [],
   "source": [
    "Dati[\"Pred_mod2\"]=res2.predict(np.hstack((X,X2,X2**2,intercept)))"
   ]
  },
  {
   "cell_type": "code",
   "execution_count": 39,
   "metadata": {},
   "outputs": [
    {
     "data": {
      "text/html": [
       "\n",
       "<div class=\"bk-root\">\n",
       "    <div class=\"bk-plotdiv\" id=\"87a2e65f-9b14-42bc-89e5-2f6a7102a185\"></div>\n",
       "</div>"
      ]
     },
     "metadata": {},
     "output_type": "display_data"
    },
    {
     "data": {
      "application/javascript": [
       "(function(root) {\n",
       "  function embed_document(root) {\n",
       "    \n",
       "  var docs_json = {\"e3224241-e650-40e0-9e39-a103075f7aca\":{\"roots\":{\"references\":[{\"attributes\":{\"plot\":null,\"text\":\"\"},\"id\":\"90682c4b-4e97-4b38-939b-adab9b5bc91d\",\"type\":\"Title\"},{\"attributes\":{\"plot\":{\"id\":\"96d127ab-dd8a-49de-a381-c80eefe45ff0\",\"subtype\":\"Figure\",\"type\":\"Plot\"},\"ticker\":{\"id\":\"0bb24aaa-b900-48d8-8234-4abb43be03cc\",\"type\":\"BasicTicker\"}},\"id\":\"b224ca03-a79f-4215-a58d-da6b63685634\",\"type\":\"Grid\"},{\"attributes\":{},\"id\":\"c74e115b-20b7-4dde-8896-24cb929078a8\",\"type\":\"PanTool\"},{\"attributes\":{\"source\":{\"id\":\"376a2e24-2f35-4f08-911b-c027da116214\",\"type\":\"ColumnDataSource\"}},\"id\":\"7d252602-7545-43f7-9972-142613139a05\",\"type\":\"CDSView\"},{\"attributes\":{},\"id\":\"cc8a990e-f27f-4182-874b-38a9be777975\",\"type\":\"LinearScale\"},{\"attributes\":{\"line_alpha\":0.1,\"line_color\":\"#1f77b4\",\"x\":{\"field\":\"Days_from_start\"},\"y\":{\"field\":\"logValue\"}},\"id\":\"fafc0269-ec41-469e-b00a-4ca753f2bd81\",\"type\":\"Line\"},{\"attributes\":{},\"id\":\"a5b016a2-1615-4da7-a343-91a4d4bfd3f2\",\"type\":\"BasicTickFormatter\"},{\"attributes\":{},\"id\":\"93a1cf3a-c805-42f3-82d5-d826279873f5\",\"type\":\"BasicTicker\"},{\"attributes\":{},\"id\":\"afdc9390-7a1e-4061-b18f-bf04772e8abd\",\"type\":\"LinearScale\"},{\"attributes\":{\"line_color\":\"#1f77b4\",\"x\":{\"field\":\"Days_from_start\"},\"y\":{\"field\":\"logValue\"}},\"id\":\"e2cba328-bb55-48d8-a711-03b7d6b9e702\",\"type\":\"Line\"},{\"attributes\":{\"source\":{\"id\":\"376a2e24-2f35-4f08-911b-c027da116214\",\"type\":\"ColumnDataSource\"}},\"id\":\"86c64ec9-9e26-475b-9ba2-745ac2aa9c53\",\"type\":\"CDSView\"},{\"attributes\":{\"axis_label\":\"Date from start\",\"formatter\":{\"id\":\"b58a61ba-a85d-426c-bb25-f721f1fbb542\",\"type\":\"BasicTickFormatter\"},\"plot\":{\"id\":\"96d127ab-dd8a-49de-a381-c80eefe45ff0\",\"subtype\":\"Figure\",\"type\":\"Plot\"},\"ticker\":{\"id\":\"0bb24aaa-b900-48d8-8234-4abb43be03cc\",\"type\":\"BasicTicker\"}},\"id\":\"5532564f-fc2f-4466-acde-6bc696a9eb10\",\"type\":\"LinearAxis\"},{\"attributes\":{\"fill_alpha\":{\"value\":0.6},\"fill_color\":{\"value\":\"blue\"},\"line_alpha\":{\"value\":0.6},\"line_color\":{\"value\":\"blue\"},\"size\":{\"units\":\"screen\",\"value\":2},\"x\":{\"field\":\"Days_from_start\"},\"y\":{\"field\":\"Pred_mod2\"}},\"id\":\"6c3341d8-0762-4b04-ade4-c6dc8fc5895d\",\"type\":\"Circle\"},{\"attributes\":{\"dimension\":1,\"plot\":{\"id\":\"96d127ab-dd8a-49de-a381-c80eefe45ff0\",\"subtype\":\"Figure\",\"type\":\"Plot\"},\"ticker\":{\"id\":\"93a1cf3a-c805-42f3-82d5-d826279873f5\",\"type\":\"BasicTicker\"}},\"id\":\"dbbacb4f-8e07-4db5-b0bf-8f5def4f03f9\",\"type\":\"Grid\"},{\"attributes\":{},\"id\":\"728f5fab-8f3c-4943-8e78-750be6a3b9fe\",\"type\":\"WheelZoomTool\"},{\"attributes\":{\"fill_alpha\":{\"value\":0.1},\"fill_color\":{\"value\":\"#1f77b4\"},\"line_alpha\":{\"value\":0.1},\"line_color\":{\"value\":\"#1f77b4\"},\"size\":{\"units\":\"screen\",\"value\":1.5},\"x\":{\"field\":\"Days_from_start\"},\"y\":{\"field\":\"Pred_mod1\"}},\"id\":\"14780b21-79a3-4ead-bb3c-5872ea7a9589\",\"type\":\"Circle\"},{\"attributes\":{\"source\":{\"id\":\"376a2e24-2f35-4f08-911b-c027da116214\",\"type\":\"ColumnDataSource\"}},\"id\":\"bc697279-7a27-4f60-91e7-5c90ebb2afba\",\"type\":\"CDSView\"},{\"attributes\":{\"callback\":null,\"column_names\":[\"Value\",\"Days_from_start\",\"Pred_mod1\",\"Pred_mod2\",\"Data\",\"Linear_Pred\",\"index\",\"HashRate\",\"logValue\",\"log_HashRate\"],\"data\":{\"Data\":{\"__ndarray__\":\"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\",\"dtype\":\"float64\",\"shape\":[365]},\"Days_from_start\":[0,1,2,3,4,5,6,7,8,9,10,11,12,13,14,15,16,17,18,19,20,21,22,23,24,25,26,27,28,29,30,31,32,33,34,35,36,37,38,39,40,41,42,43,44,45,46,47,48,49,50,51,52,53,54,55,56,57,58,59,60,61,62,63,64,65,66,67,68,69,70,71,72,73,74,75,76,77,78,79,80,81,82,83,84,85,86,87,88,89,90,91,92,93,94,95,96,97,98,99,100,101,102,103,104,105,106,107,108,109,110,111,112,113,114,115,116,117,118,119,120,121,122,123,124,125,126,127,128,129,130,131,132,133,134,135,136,137,138,139,140,141,142,143,144,145,146,147,148,149,150,151,152,153,154,155,156,157,158,159,160,161,162,163,164,165,166,167,168,169,170,171,172,173,174,175,176,177,178,179,180,181,182,183,184,185,186,187,188,189,190,191,192,193,194,195,196,197,198,199,200,201,202,203,204,205,206,207,208,209,210,211,212,213,214,215,216,217,218,219,220,221,222,223,224,225,226,227,228,229,230,231,232,233,234,235,236,237,238,239,240,241,242,243,244,245,246,247,248,249,250,251,252,253,254,255,256,257,258,259,260,261,262,263,264,265,266,267,268,269,270,271,272,273,274,275,276,277,278,279,280,281,282,283,284,285,286,287,288,289,290,291,292,293,294,295,296,297,298,299,300,301,302,303,304,305,306,307,308,309,310,311,312,313,314,315,316,317,318,319,320,321,322,323,324,325,326,327,328,329,330,331,332,333,334,335,336,337,338,339,340,341,342,343,344,345,346,347,348,349,350,351,352,353,354,355,356,357,358,359,360,361,362,363,364],\"HashRate\":{\"__ndarray__\":\"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\",\"dtype\":\"float64\",\"shape\":[365]},\"Linear_Pred\":{\"__ndarray__\":\"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\",\"dtype\":\"float64\",\"shape\":[365]},\"Pred_mod1\":{\"__ndarray__\":\"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\",\"dtype\":\"float64\",\"shape\":[365]},\"Pred_mod2\":{\"__ndarray__\":\"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\",\"dtype\":\"float64\",\"shape\":[365]},\"Value\":{\"__ndarray__\":\"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\",\"dtype\":\"float64\",\"shape\":[365]},\"index\":[0,1,2,3,4,5,6,7,8,9,10,11,12,13,14,15,16,17,18,19,20,21,22,23,24,25,26,27,28,29,30,31,32,33,34,35,36,37,38,39,40,41,42,43,44,45,46,47,48,49,50,51,52,53,54,55,56,57,58,59,60,61,62,63,64,65,66,67,68,69,70,71,72,73,74,75,76,77,78,79,80,81,82,83,84,85,86,87,88,89,90,91,92,93,94,95,96,97,98,99,100,101,102,103,104,105,106,107,108,109,110,111,112,113,114,115,116,117,118,119,120,121,122,123,124,125,126,127,128,129,130,131,132,133,134,135,136,137,138,139,140,141,142,143,144,145,146,147,148,149,150,151,152,153,154,155,156,157,158,159,160,161,162,163,164,165,166,167,168,169,170,171,172,173,174,175,176,177,178,179,180,181,182,183,184,185,186,187,188,189,190,191,192,193,194,195,196,197,198,199,200,201,202,203,204,205,206,207,208,209,210,211,212,213,214,215,216,217,218,219,220,221,222,223,224,225,226,227,228,229,230,231,232,233,234,235,236,237,238,239,240,241,242,243,244,245,246,247,248,249,250,251,252,253,254,255,256,257,258,259,260,261,262,263,264,265,266,267,268,269,270,271,272,273,274,275,276,277,278,279,280,281,282,283,284,285,286,287,288,289,290,291,292,293,294,295,296,297,298,299,300,301,302,303,304,305,306,307,308,309,310,311,312,313,314,315,316,317,318,319,320,321,322,323,324,325,326,327,328,329,330,331,332,333,334,335,336,337,338,339,340,341,342,343,344,345,346,347,348,349,350,351,352,353,354,355,356,357,358,359,360,361,362,363,364],\"logValue\":{\"__ndarray__\":\"9ZcXuYj6OkD1lxe5iPo6QPWXF7mI+jpA9ZcXuYj6OkD1lxe5iPo6QPWXF7mI+jpA9ZcXuYj6OkD1lxe5iPo6QPWXF7mI+jpA9ZcXuYj6OkALlihTCvs6QCVW+0Ab+zpAJVb7QBv7OkAlVvtAG/s6QCVW+0Ab+zpAJVb7QBv7OkAlVvtAG/s6QCVW+0Ab+zpAJVb7QBv7OkAlVvtAG/s6QCVW+0Ab+zpAJVb7QBv7OkAlVvtAG/s6QBXwl9LaCjtA6gdgNRgNO0DqB2A1GA07QOoHYDUYDTtA6gdgNRgNO0DqB2A1GA07QOoHYDUYDTtA6gdgNRgNO0DqB2A1GA07QOoHYDUYDTtA6gdgNRgNO0DqB2A1GA07QOoHYDUYDTtAQ/LB3OoXO0AgNPssBh07QCA0+ywGHTtAIDT7LAYdO0AgNPssBh07QCA0+ywGHTtAIDT7LAYdO0AgNPssBh07QCA0+ywGHTtAIDT7LAYdO0AgNPssBh07QCA0+ywGHTtAJT8ZaJUqO0DWW903WD47QNZb3TdYPjtA1lvdN1g+O0DWW903WD47QNZb3TdYPjtA1lvdN1g+O0DWW903WD47QNZb3TdYPjtA1lvdN1g+O0DWW903WD47QNZb3TdYPjtA1lvdN1g+O0AkBVnjrz47QMwAaKB5SjtAzABooHlKO0DMAGigeUo7QMwAaKB5SjtAzABooHlKO0DMAGigeUo7QMwAaKB5SjtAzABooHlKO0DMAGigeUo7QMwAaKB5SjtAzABooHlKO0DMAGigeUo7QMwAaKB5SjtAzABooHlKO0DV9qXIZUk7QNhJE01hSTtA2EkTTWFJO0DYSRNNYUk7QNhJE01hSTtA2EkTTWFJO0DYSRNNYUk7QNhJE01hSTtA2EkTTWFJO0DYSRNNYUk7QNhJE01hSTtA2EkTTWFJO0C48L0f4Vs7QCxy0VLcaTtALHLRUtxpO0AsctFS3Gk7QCxy0VLcaTtALHLRUtxpO0AsctFS3Gk7QCxy0VLcaTtALHLRUtxpO0AsctFS3Gk7QCxy0VLcaTtALHLRUtxpO0AsctFS3Gk7QBW5B/DKcztAKi1dL/96O0AqLV0v/3o7QCotXS//ejtAKi1dL/96O0AqLV0v/3o7QCotXS//ejtAKi1dL/96O0AqLV0v/3o7QCotXS//ejtAKi1dL/96O0AqLV0v/3o7QCotXS//ejtAXUr6gyeDO0DeroQBGI07QN6uhAEYjTtA3q6EARiNO0DeroQBGI07QN6uhAEYjTtA3q6EARiNO0DeroQBGI07QN6uhAEYjTtA3q6EARiNO0DeroQBGI07QN6uhAEYjTtA3q6EARiNO0DeroQBGI07QN6uhAEYjTtAgbjUVC6EO0CTCSKvLoM7QJMJIq8ugztAkwkiry6DO0CTCSKvLoM7QJMJIq8ugztAkwkiry6DO0CTCSKvLoM7QJMJIq8ugztAkwkiry6DO0CTCSKvLoM7QJMJIq8ugztAkwkiry6DO0ChAymrgoc7QFAUxujzjDtAUBTG6POMO0BQFMbo84w7QFAUxujzjDtAUBTG6POMO0BQFMbo84w7QFAUxujzjDtAUBTG6POMO0BQFMbo84w7QFAUxujzjDtAUBTG6POMO0CNce1ikK47QMD2Fyi7ujtAwPYXKLu6O0DA9hcou7o7QMD2Fyi7ujtAwPYXKLu6O0DA9hcou7o7QMD2Fyi7ujtAwPYXKLu6O0DA9hcou7o7QMD2Fyi7ujtAwPYXKLu6O0DA9hcou7o7QMD2Fyi7ujtAbtsid1+/O0B8h4Bgb787QHyHgGBvvztAfIeAYG+/O0B8h4Bgb787QHyHgGBvvztAfIeAYG+/O0B8h4Bgb787QHyHgGBvvztAfIeAYG+/O0B8h4Bgb787QHyHgGBvvztAfIeAYG+/O0CgL+mnjcw7QCKgSNSHzztAIqBI1IfPO0AioEjUh887QCKgSNSHzztAIqBI1IfPO0AioEjUh887QCKgSNSHzztAIqBI1IfPO0AioEjUh887QCKgSNSHzztA0vwZblLXO0BuvR6dKQE8QG69Hp0pATxAbr0enSkBPEBuvR6dKQE8QG69Hp0pATxAbr0enSkBPEBuvR6dKQE8QG69Hp0pATxAbr0enSkBPEBuvR6dKQE8QG69Hp0pATxAbr0enSkBPEBuvR6dKQE8QG69Hp0pATxAaBr4d+r7O0DQaOqpFvE7QNBo6qkW8TtA0GjqqRbxO0DQaOqpFvE7QNBo6qkW8TtA0GjqqRbxO0DQaOqpFvE7QNBo6qkW8TtA0GjqqRbxO0DQaOqpFvE7QNBo6qkW8TtA0GjqqRbxO0DQaOqpFvE7QLdfV6Cg8DtAVPvChsztO0BU+8KGzO07QFT7wobM7TtAVPvChsztO0BU+8KGzO07QFT7wobM7TtAVPvChsztO0BU+8KGzO07QFT7wobM7TtAVPvChsztO0BU+8KGzO07QIZ2n+sh+TtATQPE1GYYPEBNA8TUZhg8QE0DxNRmGDxATQPE1GYYPEBNA8TUZhg8QE0DxNRmGDxATQPE1GYYPEBNA8TUZhg8QE0DxNRmGDxATQPE1GYYPEBNA8TUZhg8QH9hLN0VLDxAtZBU2DRCPEC1kFTYNEI8QLWQVNg0QjxAtZBU2DRCPEC1kFTYNEI8QLWQVNg0QjxAtZBU2DRCPEC1kFTYNEI8QLWQVNg0QjxAtZBU2DRCPEC1kFTYNEI8QLWQVNg0QjxAtZBU2DRCPEB3CaRo4Ug8QE1LzmgESjxATUvOaARKPEBNS85oBEo8QE1LzmgESjxATUvOaARKPEBNS85oBEo8QE1LzmgESjxATUvOaARKPEBNS85oBEo8QE1LzmgESjxATUvOaARKPEAXKn6SnmM8QLIdd0qbbjxAsh13SptuPECyHXdKm248QLIdd0qbbjxAsh13SptuPECyHXdKm248QLIdd0qbbjxAsh13SptuPECyHXdKm248QLIdd0qbbjxAsh13SptuPEB2G1soC4g8QAjx2YR0ljxACPHZhHSWPEAI8dmEdJY8QAjx2YR0ljxACPHZhHSWPEAI8dmEdJY8QAjx2YR0ljxACPHZhHSWPEAI8dmEdJY8QAjx2YR0ljxACPHZhHSWPEBtOk8T7ZY8QI9tQaTcrzxAj21BpNyvPECPbUGk3K88QI9tQaTcrzxAj21BpNyvPECPbUGk3K88QI9tQaTcrzxAj21BpNyvPECPbUGk3K88QI9tQaTcrzxAj21BpNyvPECPbUGk3K88QI9tQaTcrzxAM/PrNQe4PEDTuhFcars8QNO6EVxquzxA07oRXGq7PEDTuhFcars8QNO6EVxquzxA07oRXGq7PEDTuhFcars8QNO6EVxquzxA07oRXGq7PEDTuhFcars8QNO6EVxquzxA07oRXGq7PECOqsgD+808QGHhZa100jxAYeFlrXTSPEBh4WWtdNI8QGHhZa100jxAYeFlrXTSPEBh4WWtdNI8QGHhZa100jxAYeFlrXTSPEBh4WWtdNI8QGHhZa100jxAYeFlrXTSPEBh4WWtdNI8QJHqNThy2TxAYcwVhH7fPEBhzBWEft88QGHMFYR+3zxAYcwVhH7fPEBhzBWEft88QGHMFYR+3zxAYcwVhH7fPEBhzBWEft88QGHMFYR+3zxAYcwVhH7fPEBhzBWEft88QGHMFYR+3zxAYcwVhH7fPEAklL6l1OE8QAt7iXMO4zxAC3uJcw7jPEALe4lzDuM8QAt7iXMO4zxAC3uJcw7jPEALe4lzDuM8QAt7iXMO4zxAC3uJcw7jPEALe4lzDuM8QAt7iXMO4zxAC3uJcw7jPEALe4lzDuM8QJb5n3UL9zxAW79M0e/5PEBbv0zR7/k8QA==\",\"dtype\":\"float64\",\"shape\":[365]},\"log_HashRate\":{\"__ndarray__\":\"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\",\"dtype\":\"float64\",\"shape\":[365]}},\"selected\":null,\"selection_policy\":null},\"id\":\"376a2e24-2f35-4f08-911b-c027da116214\",\"type\":\"ColumnDataSource\"},{\"attributes\":{\"bottom_units\":\"screen\",\"fill_alpha\":{\"value\":0.5},\"fill_color\":{\"value\":\"lightgrey\"},\"left_units\":\"screen\",\"level\":\"overlay\",\"line_alpha\":{\"value\":1.0},\"line_color\":{\"value\":\"black\"},\"line_dash\":[4,4],\"line_width\":{\"value\":2},\"plot\":null,\"render_mode\":\"css\",\"right_units\":\"screen\",\"top_units\":\"screen\"},\"id\":\"bf4f4622-bc21-4602-ad47-551fbc3d169f\",\"type\":\"BoxAnnotation\"},{\"attributes\":{\"label\":{\"value\":\"Model1\"},\"renderers\":[{\"id\":\"0bd39211-4a01-4038-8440-4981b5c03701\",\"type\":\"GlyphRenderer\"}]},\"id\":\"3464469b-505b-47ae-bfca-12b717db25cb\",\"type\":\"LegendItem\"},{\"attributes\":{\"callback\":null},\"id\":\"789f6b61-7b3c-449d-a666-9e03f8a62181\",\"type\":\"DataRange1d\"},{\"attributes\":{\"fill_alpha\":{\"value\":0.6},\"fill_color\":{\"value\":\"red\"},\"line_alpha\":{\"value\":0.6},\"line_color\":{\"value\":\"red\"},\"size\":{\"units\":\"screen\",\"value\":1.5},\"x\":{\"field\":\"Days_from_start\"},\"y\":{\"field\":\"Pred_mod1\"}},\"id\":\"61fc08b4-8492-4605-8a33-4d2177a92f4a\",\"type\":\"Circle\"},{\"attributes\":{},\"id\":\"0bb24aaa-b900-48d8-8234-4abb43be03cc\",\"type\":\"BasicTicker\"},{\"attributes\":{\"data_source\":{\"id\":\"376a2e24-2f35-4f08-911b-c027da116214\",\"type\":\"ColumnDataSource\"},\"glyph\":{\"id\":\"e2cba328-bb55-48d8-a711-03b7d6b9e702\",\"type\":\"Line\"},\"hover_glyph\":null,\"muted_glyph\":null,\"nonselection_glyph\":{\"id\":\"fafc0269-ec41-469e-b00a-4ca753f2bd81\",\"type\":\"Line\"},\"selection_glyph\":null,\"view\":{\"id\":\"7d252602-7545-43f7-9972-142613139a05\",\"type\":\"CDSView\"}},\"id\":\"f2d1249c-ec68-4cfe-905e-744fbccfe342\",\"type\":\"GlyphRenderer\"},{\"attributes\":{\"items\":[{\"id\":\"3464469b-505b-47ae-bfca-12b717db25cb\",\"type\":\"LegendItem\"},{\"id\":\"c8e1a18a-4c4b-49f8-b630-8450dfb99aef\",\"type\":\"LegendItem\"}],\"plot\":{\"id\":\"96d127ab-dd8a-49de-a381-c80eefe45ff0\",\"subtype\":\"Figure\",\"type\":\"Plot\"}},\"id\":\"b33befdc-c993-462d-8888-d12d7fd30952\",\"type\":\"Legend\"},{\"attributes\":{},\"id\":\"188e9b06-79c2-4a07-a418-a307d20f97bb\",\"type\":\"ResetTool\"},{\"attributes\":{\"overlay\":{\"id\":\"bf4f4622-bc21-4602-ad47-551fbc3d169f\",\"type\":\"BoxAnnotation\"}},\"id\":\"fd311c3a-d6c5-4491-af9c-d5832708aa5b\",\"type\":\"BoxZoomTool\"},{\"attributes\":{\"label\":{\"value\":\"Model2\"},\"renderers\":[{\"id\":\"c6e30d49-8b16-4672-b99d-87755cfe2c9d\",\"type\":\"GlyphRenderer\"}]},\"id\":\"c8e1a18a-4c4b-49f8-b630-8450dfb99aef\",\"type\":\"LegendItem\"},{\"attributes\":{\"data_source\":{\"id\":\"376a2e24-2f35-4f08-911b-c027da116214\",\"type\":\"ColumnDataSource\"},\"glyph\":{\"id\":\"6c3341d8-0762-4b04-ade4-c6dc8fc5895d\",\"type\":\"Circle\"},\"hover_glyph\":null,\"muted_glyph\":null,\"nonselection_glyph\":{\"id\":\"4500238f-363e-42ef-9827-2036060855c7\",\"type\":\"Circle\"},\"selection_glyph\":null,\"view\":{\"id\":\"86c64ec9-9e26-475b-9ba2-745ac2aa9c53\",\"type\":\"CDSView\"}},\"id\":\"c6e30d49-8b16-4672-b99d-87755cfe2c9d\",\"type\":\"GlyphRenderer\"},{\"attributes\":{\"axis_label\":\"log(Difficult)\",\"formatter\":{\"id\":\"a5b016a2-1615-4da7-a343-91a4d4bfd3f2\",\"type\":\"BasicTickFormatter\"},\"plot\":{\"id\":\"96d127ab-dd8a-49de-a381-c80eefe45ff0\",\"subtype\":\"Figure\",\"type\":\"Plot\"},\"ticker\":{\"id\":\"93a1cf3a-c805-42f3-82d5-d826279873f5\",\"type\":\"BasicTicker\"}},\"id\":\"e8865bcb-804b-412e-8a8e-533f4c47483b\",\"type\":\"LinearAxis\"},{\"attributes\":{},\"id\":\"b58a61ba-a85d-426c-bb25-f721f1fbb542\",\"type\":\"BasicTickFormatter\"},{\"attributes\":{},\"id\":\"65913ae4-d5f1-4da9-add4-9fe74d6e0795\",\"type\":\"SaveTool\"},{\"attributes\":{\"data_source\":{\"id\":\"376a2e24-2f35-4f08-911b-c027da116214\",\"type\":\"ColumnDataSource\"},\"glyph\":{\"id\":\"61fc08b4-8492-4605-8a33-4d2177a92f4a\",\"type\":\"Circle\"},\"hover_glyph\":null,\"muted_glyph\":null,\"nonselection_glyph\":{\"id\":\"14780b21-79a3-4ead-bb3c-5872ea7a9589\",\"type\":\"Circle\"},\"selection_glyph\":null,\"view\":{\"id\":\"bc697279-7a27-4f60-91e7-5c90ebb2afba\",\"type\":\"CDSView\"}},\"id\":\"0bd39211-4a01-4038-8440-4981b5c03701\",\"type\":\"GlyphRenderer\"},{\"attributes\":{\"callback\":null},\"id\":\"30bd5931-40ac-4b49-94d3-f248bcb29979\",\"type\":\"DataRange1d\"},{\"attributes\":{\"fill_alpha\":{\"value\":0.1},\"fill_color\":{\"value\":\"#1f77b4\"},\"line_alpha\":{\"value\":0.1},\"line_color\":{\"value\":\"#1f77b4\"},\"size\":{\"units\":\"screen\",\"value\":2},\"x\":{\"field\":\"Days_from_start\"},\"y\":{\"field\":\"Pred_mod2\"}},\"id\":\"4500238f-363e-42ef-9827-2036060855c7\",\"type\":\"Circle\"},{\"attributes\":{\"active_drag\":\"auto\",\"active_inspect\":\"auto\",\"active_scroll\":\"auto\",\"active_tap\":\"auto\",\"tools\":[{\"id\":\"c74e115b-20b7-4dde-8896-24cb929078a8\",\"type\":\"PanTool\"},{\"id\":\"728f5fab-8f3c-4943-8e78-750be6a3b9fe\",\"type\":\"WheelZoomTool\"},{\"id\":\"fd311c3a-d6c5-4491-af9c-d5832708aa5b\",\"type\":\"BoxZoomTool\"},{\"id\":\"65913ae4-d5f1-4da9-add4-9fe74d6e0795\",\"type\":\"SaveTool\"},{\"id\":\"188e9b06-79c2-4a07-a418-a307d20f97bb\",\"type\":\"ResetTool\"},{\"id\":\"ab618a45-1bbe-44b9-84d4-9b1d80639104\",\"type\":\"HelpTool\"}]},\"id\":\"145f558c-313a-4a2c-b57c-b588465e1590\",\"type\":\"Toolbar\"},{\"attributes\":{},\"id\":\"ab618a45-1bbe-44b9-84d4-9b1d80639104\",\"type\":\"HelpTool\"},{\"attributes\":{\"below\":[{\"id\":\"5532564f-fc2f-4466-acde-6bc696a9eb10\",\"type\":\"LinearAxis\"}],\"left\":[{\"id\":\"e8865bcb-804b-412e-8a8e-533f4c47483b\",\"type\":\"LinearAxis\"}],\"renderers\":[{\"id\":\"5532564f-fc2f-4466-acde-6bc696a9eb10\",\"type\":\"LinearAxis\"},{\"id\":\"b224ca03-a79f-4215-a58d-da6b63685634\",\"type\":\"Grid\"},{\"id\":\"e8865bcb-804b-412e-8a8e-533f4c47483b\",\"type\":\"LinearAxis\"},{\"id\":\"dbbacb4f-8e07-4db5-b0bf-8f5def4f03f9\",\"type\":\"Grid\"},{\"id\":\"bf4f4622-bc21-4602-ad47-551fbc3d169f\",\"type\":\"BoxAnnotation\"},{\"id\":\"f2d1249c-ec68-4cfe-905e-744fbccfe342\",\"type\":\"GlyphRenderer\"},{\"id\":\"b33befdc-c993-462d-8888-d12d7fd30952\",\"type\":\"Legend\"},{\"id\":\"0bd39211-4a01-4038-8440-4981b5c03701\",\"type\":\"GlyphRenderer\"},{\"id\":\"c6e30d49-8b16-4672-b99d-87755cfe2c9d\",\"type\":\"GlyphRenderer\"}],\"title\":{\"id\":\"90682c4b-4e97-4b38-939b-adab9b5bc91d\",\"type\":\"Title\"},\"toolbar\":{\"id\":\"145f558c-313a-4a2c-b57c-b588465e1590\",\"type\":\"Toolbar\"},\"x_range\":{\"id\":\"30bd5931-40ac-4b49-94d3-f248bcb29979\",\"type\":\"DataRange1d\"},\"x_scale\":{\"id\":\"cc8a990e-f27f-4182-874b-38a9be777975\",\"type\":\"LinearScale\"},\"y_range\":{\"id\":\"789f6b61-7b3c-449d-a666-9e03f8a62181\",\"type\":\"DataRange1d\"},\"y_scale\":{\"id\":\"afdc9390-7a1e-4061-b18f-bf04772e8abd\",\"type\":\"LinearScale\"}},\"id\":\"96d127ab-dd8a-49de-a381-c80eefe45ff0\",\"subtype\":\"Figure\",\"type\":\"Plot\"}],\"root_ids\":[\"96d127ab-dd8a-49de-a381-c80eefe45ff0\"]},\"title\":\"Bokeh Application\",\"version\":\"0.12.15dev5\"}};\n",
       "  var render_items = [{\"docid\":\"e3224241-e650-40e0-9e39-a103075f7aca\",\"elementid\":\"87a2e65f-9b14-42bc-89e5-2f6a7102a185\",\"modelid\":\"96d127ab-dd8a-49de-a381-c80eefe45ff0\"}];\n",
       "  root.Bokeh.embed.embed_items_notebook(docs_json, render_items);\n",
       "\n",
       "  }\n",
       "  if (root.Bokeh !== undefined) {\n",
       "    embed_document(root);\n",
       "  } else {\n",
       "    var attempts = 0;\n",
       "    var timer = setInterval(function(root) {\n",
       "      if (root.Bokeh !== undefined) {\n",
       "        embed_document(root);\n",
       "        clearInterval(timer);\n",
       "      }\n",
       "      attempts++;\n",
       "      if (attempts > 100) {\n",
       "        console.log(\"Bokeh: ERROR: Unable to run BokehJS code because BokehJS library is missing\")\n",
       "        clearInterval(timer);\n",
       "      }\n",
       "    }, 10, root)\n",
       "  }\n",
       "})(window);"
      ],
      "application/vnd.bokehjs_exec.v0+json": ""
     },
     "metadata": {
      "application/vnd.bokehjs_exec.v0+json": {
       "id": "96d127ab-dd8a-49de-a381-c80eefe45ff0"
      }
     },
     "output_type": "display_data"
    }
   ],
   "source": [
    "p = figure(x_axis_label='Date from start', y_axis_label='log(Difficult)')\n",
    "source=ColumnDataSource(Dati)\n",
    "p.line(source=source,x=\"Days_from_start\",y=\"logValue\")\n",
    "p.circle(source=source,x=\"Days_from_start\",y=\"Pred_mod1\",color=\"red\",alpha=0.6,size=1.5,legend=\"Model1\")\n",
    "p.circle(source=source,x=\"Days_from_start\",y=\"Pred_mod2\",color=\"blue\",alpha=0.6,size=2,legend=\"Model2\")\n",
    "show(p)"
   ]
  },
  {
   "cell_type": "code",
   "execution_count": 41,
   "metadata": {},
   "outputs": [
    {
     "data": {
      "text/plain": [
       "array([[  4.48728540e-03,   5.20553492e-03],\n",
       "       [ -5.68987289e+00,  -4.00980707e+00],\n",
       "       [  1.29299997e-01,   1.80228053e-01],\n",
       "       [  5.79849337e+01,   7.18269102e+01]])"
      ]
     },
     "execution_count": 41,
     "metadata": {},
     "output_type": "execute_result"
    }
   ],
   "source": [
    "res2.conf_int(alpha=0.01)"
   ]
  },
  {
   "cell_type": "code",
   "execution_count": null,
   "metadata": {},
   "outputs": [],
   "source": []
  },
  {
   "cell_type": "code",
   "execution_count": null,
   "metadata": {},
   "outputs": [],
   "source": []
  }
 ],
 "metadata": {
  "kernelspec": {
   "display_name": "Python 3",
   "language": "python",
   "name": "python3"
  },
  "language_info": {
   "codemirror_mode": {
    "name": "ipython",
    "version": 3
   },
   "file_extension": ".py",
   "mimetype": "text/x-python",
   "name": "python",
   "nbconvert_exporter": "python",
   "pygments_lexer": "ipython3",
   "version": "3.5.4"
  }
 },
 "nbformat": 4,
 "nbformat_minor": 2
}
